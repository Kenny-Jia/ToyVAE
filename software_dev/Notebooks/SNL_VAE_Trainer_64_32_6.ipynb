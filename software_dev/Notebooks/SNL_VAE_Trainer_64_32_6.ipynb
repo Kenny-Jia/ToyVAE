{
 "cells": [
  {
   "cell_type": "code",
   "execution_count": 1,
   "id": "2406db2a-9fbf-450e-9968-a31ec6d51c50",
   "metadata": {},
   "outputs": [
    {
     "name": "stderr",
     "output_type": "stream",
     "text": [
      "2024-10-06 19:45:22.437429: I tensorflow/core/util/port.cc:110] oneDNN custom operations are on. You may see slightly different numerical results due to floating-point round-off errors from different computation orders. To turn them off, set the environment variable `TF_ENABLE_ONEDNN_OPTS=0`.\n",
      "2024-10-06 19:45:22.518107: I tensorflow/core/platform/cpu_feature_guard.cc:182] This TensorFlow binary is optimized to use available CPU instructions in performance-critical operations.\n",
      "To enable the following instructions: AVX2 AVX512F AVX512_VNNI FMA, in other operations, rebuild TensorFlow with the appropriate compiler flags.\n"
     ]
    }
   ],
   "source": [
    "import numpy as np\n",
    "import matplotlib.pyplot as plt\n",
    "import h5py\n",
    "from sklearn.model_selection import train_test_split\n",
    "import tensorflow as tf\n",
    "import tensorflow.math as tfmath\n",
    "import tensorflow.keras as keras\n",
    "from tensorflow.keras import layers, Model\n",
    "import tensorflow.keras.backend as K\n",
    "from tensorflow.keras.callbacks import EarlyStopping, ReduceLROnPlateau\n",
    "from tensorflow.keras.models import load_model\n",
    "from sklearn.metrics import roc_curve, auc\n",
    "import sklearn.metrics as sk"
   ]
  },
  {
   "cell_type": "code",
   "execution_count": 2,
   "id": "88ecd26a",
   "metadata": {},
   "outputs": [],
   "source": [
    "from tensorflow.keras.models import Model\n",
    "from tensorflow.keras.layers import PReLU, Input, LSTM, Flatten, Concatenate, Dense, Conv2D, TimeDistributed, MaxPooling2D, LeakyReLU, ReLU, Dropout, BatchNormalization, Activation\n",
    "from tensorflow.keras.optimizers import Adam, SGD\n",
    "from tensorflow.keras.metrics import Precision\n",
    "from qkeras import QActivation, QDense, QConv2D, QBatchNormalization, QConv2DBatchnorm\n",
    "from qkeras import quantized_relu, quantized_bits\n",
    "from tensorflow.keras.regularizers import l1, l2, l1_l2"
   ]
  },
  {
   "cell_type": "code",
   "execution_count": 3,
   "id": "5100558a",
   "metadata": {},
   "outputs": [
    {
     "name": "stdout",
     "output_type": "stream",
     "text": [
      "Num GPUs Available:  1\n"
     ]
    },
    {
     "name": "stderr",
     "output_type": "stream",
     "text": [
      "2024-10-06 19:45:36.791803: I tensorflow/compiler/xla/stream_executor/cuda/cuda_gpu_executor.cc:995] successful NUMA node read from SysFS had negative value (-1), but there must be at least one NUMA node, so returning NUMA node zero. See more at https://github.com/torvalds/linux/blob/v6.0/Documentation/ABI/testing/sysfs-bus-pci#L344-L355\n",
      "2024-10-06 19:45:36.887853: I tensorflow/compiler/xla/stream_executor/cuda/cuda_gpu_executor.cc:995] successful NUMA node read from SysFS had negative value (-1), but there must be at least one NUMA node, so returning NUMA node zero. See more at https://github.com/torvalds/linux/blob/v6.0/Documentation/ABI/testing/sysfs-bus-pci#L344-L355\n",
      "2024-10-06 19:45:36.888150: I tensorflow/compiler/xla/stream_executor/cuda/cuda_gpu_executor.cc:995] successful NUMA node read from SysFS had negative value (-1), but there must be at least one NUMA node, so returning NUMA node zero. See more at https://github.com/torvalds/linux/blob/v6.0/Documentation/ABI/testing/sysfs-bus-pci#L344-L355\n"
     ]
    }
   ],
   "source": [
    "print(\"Num GPUs Available: \", len(tf.config.experimental.list_physical_devices('GPU')))\n",
    "tf.debugging.set_log_device_placement(False)"
   ]
  },
  {
   "cell_type": "code",
   "execution_count": 4,
   "id": "7fc21ec3",
   "metadata": {},
   "outputs": [
    {
     "name": "stdout",
     "output_type": "stream",
     "text": [
      "Data loaded from preprocessed_SNL_data.h5\n"
     ]
    }
   ],
   "source": [
    "#preprocessed_SNL_data.h5 is located under s3df /sdf/home/h/hjia625/\n",
    "with h5py.File('/eos/user/h/hjia/AnomalyDetection/liam_AD/training_notebooks/preprocessed_SNL_data.h5', 'r') as hf:\n",
    "    X_train = hf['X_train'][:]\n",
    "    X_test  = hf['X_test'][:]\n",
    "    Ato4l_data  = hf['Ato4l_data'][:]\n",
    "    hToTauTau_data  = hf['hToTauTau_data'][:]\n",
    "    hChToTauNu_data  = hf['hChToTauNu_data'][:]\n",
    "    leptoquark_data = hf['leptoquark_data'][:]\n",
    "    print(\"Data loaded from preprocessed_SNL_data.h5\")\n"
   ]
  },
  {
   "cell_type": "code",
   "execution_count": 5,
   "id": "520b0be9",
   "metadata": {},
   "outputs": [],
   "source": [
    "# filename = \"/eos/user/h/hjia/AnomalyDetection/liam_AD/training_notebooks/SM_ZeroBias_dataset.h5\"\n",
    "# with h5py.File(filename, 'r') as file:\n",
    "#     X_train = np.array(file['X_train'])\n",
    "#     X_test = np.array(file['X_test'])\n",
    "#     X_val = np.array(file['X_val'])\n",
    "# X_train = np.vstack((X_train, X_val))\n",
    "# print(X_train.shape)"
   ]
  },
  {
   "cell_type": "code",
   "execution_count": 6,
   "id": "e81033d3",
   "metadata": {},
   "outputs": [],
   "source": [
    "# def scale_columns(arr):\n",
    "#     # Check if the input array has 57 columns\n",
    "#     if arr.shape[1] != 57:\n",
    "#         raise ValueError(\"Input array must have 57 columns\")\n",
    "    \n",
    "#     # Create a copy of the input array to avoid modifying the original\n",
    "#     scaled_arr = arr.copy()\n",
    "# #     met_scale = 1\n",
    "# #     em_scale = 1\n",
    "# #     tau_scale = 1\n",
    "# #     jet_scale = 1\n",
    "# #     muon_scale = 1\n",
    "#     met_scale = 512\n",
    "#     em_scale = 128\n",
    "#     tau_scale = 128\n",
    "#     jet_scale = 256\n",
    "#     muon_scale = 32\n",
    "#     # Define the scaling factors for each column\n",
    "#     scale_dict = {\n",
    "#         0: 1/met_scale,\n",
    "#         3: 1/em_scale, 6: 1/em_scale, 9: 1/em_scale, 12: 1/em_scale, 15: 1/tau_scale,\n",
    "#         18: 1/tau_scale, 21: 1/tau_scale, 24: 1/tau_scale,\n",
    "#         27: 1/jet_scale, 30: 1/jet_scale, 33: 1/jet_scale, 36: 1/jet_scale, 39: 1/jet_scale, 42: 1/jet_scale,\n",
    "#         45: 1/muon_scale, 48: 1/muon_scale, 51: 1/muon_scale, 54: 1/muon_scale\n",
    "#     }\n",
    "\n",
    "#     # Apply scaling to the specified columns\n",
    "#     for col, scale_factor in scale_dict.items():\n",
    "#         scaled_arr[:, col] *= scale_factor\n",
    "    \n",
    "#     return scaled_arr\n",
    "# X_train = scale_columns(X_train)\n",
    "# X_test = scale_columns(X_test)"
   ]
  },
  {
   "cell_type": "code",
   "execution_count": 7,
   "id": "60b95c33",
   "metadata": {},
   "outputs": [],
   "source": [
    "# from sklearn.preprocessing import StandardScaler\n",
    "# scaler = StandardScaler()\n",
    "# scaler.fit(X_train)\n",
    "# X_train = scaler.transform(X_train)\n",
    "# X_test = scaler.transform(X_test)"
   ]
  },
  {
   "cell_type": "code",
   "execution_count": 8,
   "id": "58eedb9c",
   "metadata": {},
   "outputs": [
    {
     "name": "stdout",
     "output_type": "stream",
     "text": [
      "Column 1:\n",
      "  Mean: -0.0000\n",
      "  Min: -1.9571\n",
      "  Max: 53.1526\n",
      "  Contains NaN: False\n",
      "\n",
      "Column 2:\n",
      "  Mean: 0.0000\n",
      "  Min: 0.0000\n",
      "  Max: 0.0000\n",
      "  Contains NaN: False\n",
      "\n",
      "Column 3:\n",
      "  Mean: 0.0000\n",
      "  Min: -1.7323\n",
      "  Max: 1.7311\n",
      "  Contains NaN: False\n",
      "\n",
      "Column 4:\n",
      "  Mean: -0.0000\n",
      "  Min: -0.9537\n",
      "  Max: 47.1318\n",
      "  Contains NaN: False\n",
      "\n",
      "Column 5:\n",
      "  Mean: -0.0000\n",
      "  Min: -2.4819\n",
      "  Max: 2.4821\n",
      "  Contains NaN: False\n",
      "\n",
      "Column 6:\n",
      "  Mean: -0.0000\n",
      "  Min: -2.3496\n",
      "  Max: 2.3489\n",
      "  Contains NaN: False\n",
      "\n",
      "Column 7:\n",
      "  Mean: -0.0000\n",
      "  Min: -0.0355\n",
      "  Max: 200.8080\n",
      "  Contains NaN: False\n",
      "\n",
      "Column 8:\n",
      "  Mean: -0.0000\n",
      "  Min: -43.0203\n",
      "  Max: 43.0213\n",
      "  Contains NaN: False\n",
      "\n",
      "Column 9:\n",
      "  Mean: 0.0000\n",
      "  Min: -34.6662\n",
      "  Max: 34.6653\n",
      "  Contains NaN: False\n",
      "\n",
      "Column 10:\n",
      "  Mean: 0.0000\n",
      "  Min: -0.0108\n",
      "  Max: 302.0646\n",
      "  Contains NaN: False\n",
      "\n",
      "Column 11:\n",
      "  Mean: -0.0000\n",
      "  Min: -181.6179\n",
      "  Max: 181.7817\n",
      "  Contains NaN: False\n",
      "\n",
      "Column 12:\n",
      "  Mean: -0.0000\n",
      "  Min: -130.9459\n",
      "  Max: 130.8367\n",
      "  Contains NaN: False\n",
      "\n",
      "Column 13:\n",
      "  Mean: -0.0000\n",
      "  Min: -0.0028\n",
      "  Max: 660.7622\n",
      "  Contains NaN: False\n",
      "\n",
      "Column 14:\n",
      "  Mean: 0.0000\n",
      "  Min: -520.3063\n",
      "  Max: 686.6438\n",
      "  Contains NaN: False\n",
      "\n",
      "Column 15:\n",
      "  Mean: -0.0000\n",
      "  Min: -487.7219\n",
      "  Max: 484.9506\n",
      "  Contains NaN: False\n",
      "\n",
      "Column 16:\n",
      "  Mean: 0.0000\n",
      "  Min: -0.8222\n",
      "  Max: 33.0882\n",
      "  Contains NaN: False\n",
      "\n",
      "Column 17:\n",
      "  Mean: 0.0000\n",
      "  Min: -2.5472\n",
      "  Max: 2.5471\n",
      "  Contains NaN: False\n",
      "\n",
      "Column 18:\n",
      "  Mean: 0.0000\n",
      "  Min: -2.5510\n",
      "  Max: 2.5516\n",
      "  Contains NaN: False\n",
      "\n",
      "Column 19:\n",
      "  Mean: 0.0000\n",
      "  Min: -0.0297\n",
      "  Max: 291.0383\n",
      "  Contains NaN: False\n",
      "\n",
      "Column 20:\n",
      "  Mean: 0.0000\n",
      "  Min: -47.0408\n",
      "  Max: 47.0603\n",
      "  Contains NaN: False\n",
      "\n",
      "Column 21:\n",
      "  Mean: 0.0000\n",
      "  Min: -41.7168\n",
      "  Max: 41.7156\n",
      "  Contains NaN: False\n",
      "\n",
      "Column 22:\n",
      "  Mean: -0.0000\n",
      "  Min: -0.0083\n",
      "  Max: 421.5737\n",
      "  Contains NaN: False\n",
      "\n",
      "Column 23:\n",
      "  Mean: -0.0000\n",
      "  Min: -205.2899\n",
      "  Max: 202.9845\n",
      "  Contains NaN: False\n",
      "\n",
      "Column 24:\n",
      "  Mean: -0.0000\n",
      "  Min: -174.2299\n",
      "  Max: 173.6709\n",
      "  Contains NaN: False\n",
      "\n",
      "Column 25:\n",
      "  Mean: -0.0000\n",
      "  Min: -0.0020\n",
      "  Max: 940.8060\n",
      "  Contains NaN: False\n",
      "\n",
      "Column 26:\n",
      "  Mean: 0.0000\n",
      "  Min: -810.1814\n",
      "  Max: 794.4273\n",
      "  Contains NaN: False\n",
      "\n",
      "Column 27:\n",
      "  Mean: -0.0000\n",
      "  Min: -722.3286\n",
      "  Max: 612.0592\n",
      "  Contains NaN: False\n",
      "\n",
      "Column 28:\n",
      "  Mean: -0.0000\n",
      "  Min: -0.5123\n",
      "  Max: 58.0216\n",
      "  Contains NaN: False\n",
      "\n",
      "Column 29:\n",
      "  Mean: 0.0000\n",
      "  Min: -3.8580\n",
      "  Max: 3.8601\n",
      "  Contains NaN: False\n",
      "\n",
      "Column 30:\n",
      "  Mean: 0.0000\n",
      "  Min: -2.7959\n",
      "  Max: 2.7976\n",
      "  Contains NaN: False\n",
      "\n",
      "Column 31:\n",
      "  Mean: -0.0000\n",
      "  Min: -0.2677\n",
      "  Max: 109.7365\n",
      "  Contains NaN: False\n",
      "\n",
      "Column 32:\n",
      "  Mean: 0.0000\n",
      "  Min: -6.3577\n",
      "  Max: 6.3593\n",
      "  Contains NaN: False\n",
      "\n",
      "Column 33:\n",
      "  Mean: 0.0000\n",
      "  Min: -5.0049\n",
      "  Max: 5.0044\n",
      "  Contains NaN: False\n",
      "\n",
      "Column 34:\n",
      "  Mean: 0.0000\n",
      "  Min: -0.1481\n",
      "  Max: 123.6013\n",
      "  Contains NaN: False\n",
      "\n",
      "Column 35:\n",
      "  Mean: -0.0000\n",
      "  Min: -11.6921\n",
      "  Max: 11.6929\n",
      "  Contains NaN: False\n",
      "\n",
      "Column 36:\n",
      "  Mean: -0.0000\n",
      "  Min: -9.2581\n",
      "  Max: 9.2558\n",
      "  Contains NaN: False\n",
      "\n",
      "Column 37:\n",
      "  Mean: 0.0000\n",
      "  Min: -0.0871\n",
      "  Max: 101.4869\n",
      "  Contains NaN: False\n",
      "\n",
      "Column 38:\n",
      "  Mean: -0.0000\n",
      "  Min: -21.1709\n",
      "  Max: 21.1645\n",
      "  Contains NaN: False\n",
      "\n",
      "Column 39:\n",
      "  Mean: -0.0000\n",
      "  Min: -16.2261\n",
      "  Max: 16.2256\n",
      "  Contains NaN: False\n",
      "\n",
      "Column 40:\n",
      "  Mean: -0.0000\n",
      "  Min: -0.0575\n",
      "  Max: 120.7499\n",
      "  Contains NaN: False\n",
      "\n",
      "Column 41:\n",
      "  Mean: -0.0000\n",
      "  Min: -34.5995\n",
      "  Max: 34.6021\n",
      "  Contains NaN: False\n",
      "\n",
      "Column 42:\n",
      "  Mean: -0.0000\n",
      "  Min: -25.6311\n",
      "  Max: 25.6354\n",
      "  Contains NaN: False\n",
      "\n",
      "Column 43:\n",
      "  Mean: -0.0000\n",
      "  Min: -0.0399\n",
      "  Max: 108.0682\n",
      "  Contains NaN: False\n",
      "\n",
      "Column 44:\n",
      "  Mean: -0.0000\n",
      "  Min: -52.7219\n",
      "  Max: 52.7200\n",
      "  Contains NaN: False\n",
      "\n",
      "Column 45:\n",
      "  Mean: 0.0000\n",
      "  Min: -38.4837\n",
      "  Max: 38.4987\n",
      "  Contains NaN: False\n",
      "\n",
      "Column 46:\n",
      "  Mean: -0.0000\n",
      "  Min: -0.0274\n",
      "  Max: 142.9166\n",
      "  Contains NaN: False\n",
      "\n",
      "Column 47:\n",
      "  Mean: 0.0000\n",
      "  Min: -80.5176\n",
      "  Max: 79.8578\n",
      "  Contains NaN: False\n",
      "\n",
      "Column 48:\n",
      "  Mean: 0.0000\n",
      "  Min: -57.4688\n",
      "  Max: 57.4615\n",
      "  Contains NaN: False\n",
      "\n",
      "Column 49:\n",
      "  Mean: 0.0000\n",
      "  Min: -0.0182\n",
      "  Max: 223.2545\n",
      "  Contains NaN: False\n",
      "\n",
      "Column 50:\n",
      "  Mean: 0.0000\n",
      "  Min: -117.8208\n",
      "  Max: 117.5744\n",
      "  Contains NaN: False\n",
      "\n",
      "Column 51:\n",
      "  Mean: -0.0000\n",
      "  Min: -87.9387\n",
      "  Max: 88.1077\n",
      "  Contains NaN: False\n",
      "\n",
      "Column 52:\n",
      "  Mean: -0.0000\n",
      "  Min: -0.0117\n",
      "  Max: 339.2351\n",
      "  Contains NaN: False\n",
      "\n",
      "Column 53:\n",
      "  Mean: -0.0000\n",
      "  Min: -187.4638\n",
      "  Max: 191.8051\n",
      "  Contains NaN: False\n",
      "\n",
      "Column 54:\n",
      "  Mean: 0.0000\n",
      "  Min: -139.8838\n",
      "  Max: 139.1267\n",
      "  Contains NaN: False\n",
      "\n",
      "Column 55:\n",
      "  Mean: -0.0000\n",
      "  Min: -0.0071\n",
      "  Max: 297.2272\n",
      "  Contains NaN: False\n",
      "\n",
      "Column 56:\n",
      "  Mean: 0.0000\n",
      "  Min: -324.9908\n",
      "  Max: 280.1775\n",
      "  Contains NaN: False\n",
      "\n",
      "Column 57:\n",
      "  Mean: -0.0000\n",
      "  Min: -220.9851\n",
      "  Max: 220.6210\n",
      "  Contains NaN: False\n",
      "\n"
     ]
    }
   ],
   "source": [
    "def analyze_columns(arr):\n",
    "    # Check if the input array has 57 columns\n",
    "    if arr.shape[1] != 57:\n",
    "        raise ValueError(\"Input array must have 57 columns\")\n",
    "\n",
    "    for col in range(57):\n",
    "        column = arr[:, col]\n",
    "        \n",
    "        # Calculate statistics\n",
    "        mean_val = np.mean(column)\n",
    "        min_val = np.min(column)\n",
    "        max_val = np.max(column)\n",
    "        has_nan = np.isnan(column).any()\n",
    "        \n",
    "        # Print results\n",
    "        print(f\"Column {col + 1}:\")\n",
    "        print(f\"  Mean: {mean_val:.4f}\")\n",
    "        print(f\"  Min: {min_val:.4f}\")\n",
    "        print(f\"  Max: {max_val:.4f}\")\n",
    "        print(f\"  Contains NaN: {has_nan}\")\n",
    "        print()  # Empty line for readability\n",
    "analyze_columns(X_train)"
   ]
  },
  {
   "cell_type": "code",
   "execution_count": 6,
   "id": "4dd108b6-f2b4-4b39-9cee-ba8faa7bc36c",
   "metadata": {},
   "outputs": [],
   "source": [
    "class Sampling(keras.layers.Layer):\n",
    "    \"\"\"Uses (z_mean, z_log_var) to sample z, the vector encoding a digit.\"\"\"\n",
    "\n",
    "    def call(self, inputs):\n",
    "        z_mean, z_log_var = inputs\n",
    "        batch = tf.shape(z_mean)[0]\n",
    "        dim = tf.shape(z_mean)[1]\n",
    "        epsilon = tf.keras.backend.random_normal(shape=(batch, dim))\n",
    "        return z_mean + tf.exp(0.5 * z_log_var) * epsilon\n",
    "\n",
    "def Qmake_encoder_set_weights(input_dim,h_dim_1,h_dim_2,latent_dim):\n",
    "    l2_factor = 1e-2\n",
    "    inputs = keras.Input(shape=(input_dim), name = \"input\")\n",
    "#     x = BatchNormalization(name=\"BN0\")(inputs)\n",
    "    x = Dense(h_dim_1,\n",
    "             kernel_initializer=keras.initializers.HeNormal(seed=None),\n",
    "             bias_initializer=keras.initializers.Zeros(),\n",
    "             kernel_regularizer=l1_l2(l1=0, l2=l2_factor),\n",
    "             name = \"dense1\")(inputs)\n",
    "#     x = BatchNormalization(name=\"BN1\")(x)\n",
    "#     x = ReLU(name=\"relu1\")(x)\n",
    "    x = ReLU(name=\"relu1\")(x)\n",
    "    x = Dense(h_dim_2,\n",
    "             kernel_initializer=keras.initializers.HeNormal(seed=None),\n",
    "             bias_initializer=keras.initializers.Zeros(),\n",
    "             kernel_regularizer=l1_l2(l1=0, l2=l2_factor),\n",
    "             name = \"dense2\")(x)    \n",
    "#     x = BatchNormalization(name=\"BN2\")(x)\n",
    "    x = ReLU(name=\"relu2\")(x)\n",
    "    z_mean=Dense(latent_dim, name='z_mean',\n",
    "                  kernel_initializer=keras.initializers.HeNormal(seed=None),\n",
    "                  bias_initializer=keras.initializers.Zeros(),\n",
    "                  kernel_regularizer=l1_l2(l1=0, l2=l2_factor))(x)\n",
    "    z_logvar=Dense(latent_dim, name='z_log_var',\n",
    "                          kernel_initializer=keras.initializers.Zeros(),\n",
    "                          bias_initializer=keras.initializers.Zeros(),\n",
    "                          kernel_regularizer=l1_l2(l1=0, l2=l2_factor))(x)\n",
    "    z=Sampling()([z_mean,z_logvar])\n",
    "    encoder = keras.Model(inputs,[z_mean,z_logvar,z],name='encoder')\n",
    "    return encoder\n",
    "\n",
    "def Qmake_decoder_set_weights(input_dim,h_dim_1,h_dim_2,latent_dim):\n",
    "    l2_factor = 1e-2\n",
    "    inputs=keras.Input(shape=(latent_dim))\n",
    "    x=layers.Dense(h_dim_2,\n",
    "                   activation='relu',\n",
    "                   kernel_initializer=keras.initializers.HeNormal(seed=None),\n",
    "                   bias_initializer=keras.initializers.Zeros(),\n",
    "                   kernel_regularizer=l1_l2(l1=0, l2=l2_factor))(inputs)\n",
    "    x=layers.Dense(h_dim_1,\n",
    "                   activation='relu',\n",
    "                   kernel_initializer=keras.initializers.HeNormal(seed=None),\n",
    "                   bias_initializer=keras.initializers.Zeros(),\n",
    "                   kernel_regularizer=l1_l2(l1=0, l2=l2_factor))(x)\n",
    "    z=layers.Dense(input_dim,\n",
    "                   kernel_initializer=keras.initializers.HeNormal(seed=None),\n",
    "                   bias_initializer=keras.initializers.Zeros(),\n",
    "                   kernel_regularizer=l1_l2(l1=0, l2=l2_factor))(x)\n",
    "    decoder=keras.Model(inputs,z,name='decoder')\n",
    "    return decoder\n",
    "\n",
    "def custom_mse_loss_with_multi_index_scaling(masked_data, masked_reconstruction):\n",
    "#     jet_scale = 256/64\n",
    "#     tau_scale = 128/64\n",
    "#     muon_scale = 32/64\n",
    "#     met_scale = 512/64\n",
    "#     em_scale = 128/64\n",
    "    jet_scale = 1\n",
    "    tau_scale = 1\n",
    "    muon_scale = 1\n",
    "    met_scale = 1\n",
    "    em_scale = 1\n",
    "    # Define the indices and their corresponding scale factors\n",
    "    scale_dict = {\n",
    "        0: met_scale,\n",
    "        3: em_scale, 6: em_scale, 9: em_scale, 12: em_scale,\n",
    "        15: tau_scale, 18: tau_scale, 21: tau_scale, 24: tau_scale,\n",
    "        27: jet_scale, 30: jet_scale, 33: jet_scale, 36: jet_scale, 39: jet_scale, 42: jet_scale,\n",
    "        45: muon_scale, 48: muon_scale, 51: muon_scale, 54: muon_scale\n",
    "    }\n",
    "\n",
    "    # Create the scaling tensor\n",
    "    scale_tensor = tf.ones_like(masked_data)\n",
    "    for index, factor in scale_dict.items():\n",
    "        index_mask = tf.one_hot(index, depth=tf.shape(masked_data)[-1])\n",
    "        scale_tensor += index_mask * (factor - 1)\n",
    "\n",
    "    # Apply scaling\n",
    "    scaled_data = masked_data * scale_tensor\n",
    "    scaled_reconstruction = masked_reconstruction * scale_tensor\n",
    "\n",
    "    # Hardcoded lists for eta and phi indices\n",
    "    eta_indices = [4, 7, 10, 13, 16, 19, 22, 25, 28, 31, 34, 37, 40, 43, 46, 49, 52, 55]\n",
    "    phi_indices = [2, 5, 8, 11, 14, 17, 20, 23, 26, 29, 32, 35, 38, 41, 44, 47, 50, 53, 56]\n",
    "\n",
    "    batch_size = tf.shape(scaled_reconstruction)[0]\n",
    "    \n",
    "    # Set only the first eta (index 1) to zero\n",
    "    indices = tf.stack([tf.range(batch_size), tf.ones(batch_size, dtype=tf.int32)], axis=1)\n",
    "    updates = tf.zeros(batch_size)\n",
    "    scaled_reconstruction = tf.tensor_scatter_nd_update(scaled_reconstruction, indices, updates)\n",
    "    \n",
    "#     # Apply constraints to eta\n",
    "#     for i in eta_indices:\n",
    "#         indices = tf.stack([tf.range(batch_size), tf.fill([batch_size], i)], axis=1)\n",
    "#         updates = 3 * tf.tanh(scaled_reconstruction[:, i] / 3)\n",
    "#         scaled_reconstruction = tf.tensor_scatter_nd_update(scaled_reconstruction, indices, updates)\n",
    "    \n",
    "#     # Apply constraints to phi\n",
    "#     for i in phi_indices:\n",
    "#         indices = tf.stack([tf.range(batch_size), tf.fill([batch_size], i)], axis=1)\n",
    "#         updates = 3.14159265258979 * tf.tanh(scaled_reconstruction[:, i] / 3.14159265258979)\n",
    "#         scaled_reconstruction = tf.tensor_scatter_nd_update(scaled_reconstruction, indices, updates)\n",
    "        \n",
    "    # Calculate MSE using keras.losses.mse\n",
    "    mse = keras.losses.mse(scaled_data, scaled_reconstruction)\n",
    "\n",
    "    # Take the sum across all dimensions\n",
    "    return tf.reduce_sum(mse)\n",
    "\n",
    "class VAE_Model(keras.Model):\n",
    "    def __init__(self, encoder, decoder, steps_per_epoch=3125, cycle_length=10, min_beta=0.1, max_beta=0.85, **kwargs):\n",
    "        super().__init__(**kwargs)\n",
    "        self.encoder = encoder\n",
    "        self.decoder = decoder\n",
    "        self.total_loss_tracker = keras.metrics.Mean(name=\"total_loss\")\n",
    "        self.reconstruction_loss_tracker = keras.metrics.Mean(\n",
    "            name=\"reconstruction_loss\"\n",
    "        )\n",
    "        self.kl_loss_tracker = keras.metrics.Mean(name=\"kl_loss\")\n",
    "        self.beta_tracker = keras.metrics.Mean(name=\"beta\")\n",
    "        self.steps_per_epoch = steps_per_epoch\n",
    "        self.cycle_length = tf.cast(cycle_length, tf.float32)\n",
    "        self.min_beta = tf.cast(min_beta, tf.float32)\n",
    "        self.max_beta = tf.cast(max_beta, tf.float32)\n",
    "        self.beta = tf.Variable(min_beta, dtype=tf.float32)\n",
    "\n",
    "\n",
    "    @property\n",
    "    def metrics(self):\n",
    "        return [\n",
    "            self.total_loss_tracker,\n",
    "            self.reconstruction_loss_tracker,\n",
    "            self.kl_loss_tracker,\n",
    "            self.beta_tracker,\n",
    "        ]\n",
    "\n",
    "    def cyclical_annealing_beta(self, epoch):\n",
    "        cycle = tf.floor(1.0 + epoch / self.cycle_length)\n",
    "        x = tf.abs(epoch / self.cycle_length - cycle + 1)\n",
    "        return self.min_beta + (self.max_beta - self.min_beta) * tf.minimum(x, 1.0)\n",
    "#     def set_beta(self,beta):\n",
    "#         self.beta=beta\n",
    "\n",
    "    def train_step(self, data):\n",
    "        # Get the current epoch number\n",
    "        epoch = tf.cast(self.optimizer.iterations / self.steps_per_epoch, tf.float32)\n",
    "        \n",
    "        # Update beta\n",
    "        self.beta.assign(self.cyclical_annealing_beta(epoch))\n",
    "        with tf.GradientTape() as tape:\n",
    "            z_mean, z_log_var, z = self.encoder(data)\n",
    "            reconstruction = self.decoder(z)\n",
    "            mask = K.cast(K.not_equal(data, 0), K.floatx())\n",
    "#             reconstruction_loss = tf.reduce_mean(keras.losses.mse(mask*data, mask*reconstruction))\n",
    "            reconstruction_loss = custom_mse_loss_with_multi_index_scaling(mask*data, mask*reconstruction)\n",
    "            reconstruction_loss *=(1-self.beta)\n",
    "\n",
    "            kl_loss = -0.5 * (1 + z_log_var - tf.square(z_mean) - tf.exp(z_log_var))\n",
    "            kl_loss = tf.reduce_mean(kl_loss)\n",
    "            kl_loss *=self.beta\n",
    "\n",
    "            total_loss = reconstruction_loss + kl_loss\n",
    "            \n",
    "        grads = tape.gradient(total_loss, self.trainable_weights)\n",
    "        self.optimizer.apply_gradients(zip(grads, self.trainable_weights))\n",
    "        self.total_loss_tracker.update_state(total_loss)\n",
    "        self.reconstruction_loss_tracker.update_state(reconstruction_loss)\n",
    "        self.kl_loss_tracker.update_state(kl_loss)\n",
    "        return {\n",
    "            \"loss\": self.total_loss_tracker.result(),\n",
    "            \"reco_loss\": self.reconstruction_loss_tracker.result(),\n",
    "            \"kl_loss\": self.kl_loss_tracker.result(),\n",
    "            \"beta\": self.beta,\n",
    "        }\n",
    "\n",
    "    def test_step(self, data):\n",
    "        z_mean, z_log_var, z = self.encoder(data)\n",
    "        reconstruction = self.decoder(z)\n",
    "        mask = K.cast(K.not_equal(data, 0), K.floatx())\n",
    "        reconstruction_loss = custom_mse_loss_with_multi_index_scaling(mask*data, mask*reconstruction)\n",
    "#         reconstruction_loss = tf.reduce_mean(keras.losses.mse(mask*data, mask*reconstruction))\n",
    "        reconstruction_loss*=(1-self.beta)\n",
    "\n",
    "        kl_loss = -0.5 * (1 + z_log_var - tf.square(z_mean) - tf.exp(z_log_var))\n",
    "        kl_loss = tf.reduce_mean(kl_loss)        \n",
    "        kl_loss *=self.beta\n",
    "        \n",
    "        total_loss = reconstruction_loss + kl_loss\n",
    "        \n",
    "        return {\n",
    "            \"loss\": total_loss,\n",
    "            \"reco_loss\": reconstruction_loss,\n",
    "            \"kl_loss\": kl_loss,\n",
    "            \"beta\": self.beta,\n",
    "        }\n",
    "\n",
    "    def call(self, data):\n",
    "        z_mean,z_log_var,x = self.encoder(data)\n",
    "        reconstruction = self.decoder(x)\n",
    "        return {\n",
    "            \"z_mean\": z_mean,\n",
    "            \"z_log_var\": z_log_var,\n",
    "            \"reconstruction\": reconstruction\n",
    "        } "
   ]
  },
  {
   "cell_type": "code",
   "execution_count": 10,
   "id": "8ffb0f57",
   "metadata": {},
   "outputs": [],
   "source": [
    "def weighted_mse(y_true, y_pred, sample_weight):\n",
    "    return tf.reduce_mean(tf.multiply(sample_weight, tf.square(y_true - y_pred)))"
   ]
  },
  {
   "cell_type": "code",
   "execution_count": 11,
   "id": "dfc8cb19",
   "metadata": {},
   "outputs": [],
   "source": [
    "NUM_EPOCHS = 100\n",
    "BATCH_SIZE = 1024\n",
    "STOP_PATIENCE = 10\n",
    "LR_PATIENCE = 5"
   ]
  },
  {
   "cell_type": "code",
   "execution_count": 12,
   "id": "306b66b6-96f3-4e7d-ac72-d24cd1002dea",
   "metadata": {
    "scrolled": true
   },
   "outputs": [
    {
     "name": "stdout",
     "output_type": "stream",
     "text": [
      "Model: \"encoder\"\n",
      "__________________________________________________________________________________________________\n",
      " Layer (type)                Output Shape                 Param #   Connected to                  \n",
      "==================================================================================================\n",
      " input_1 (InputLayer)        [(None, 57)]                 0         []                            \n",
      "                                                                                                  \n",
      " dense1 (Dense)              (None, 64)                   3712      ['input_1[0][0]']             \n",
      "                                                                                                  \n",
      " relu1 (ReLU)                (None, 64)                   0         ['dense1[0][0]']              \n",
      "                                                                                                  \n",
      " dense2 (Dense)              (None, 32)                   2080      ['relu1[0][0]']               \n",
      "                                                                                                  \n",
      " relu2 (ReLU)                (None, 32)                   0         ['dense2[0][0]']              \n",
      "                                                                                                  \n",
      " z_mean (Dense)              (None, 6)                    198       ['relu2[0][0]']               \n",
      "                                                                                                  \n",
      " z_log_var (Dense)           (None, 6)                    198       ['relu2[0][0]']               \n",
      "                                                                                                  \n",
      " sampling (Sampling)         (None, 6)                    0         ['z_mean[0][0]',              \n",
      "                                                                     'z_log_var[0][0]']           \n",
      "                                                                                                  \n",
      "==================================================================================================\n",
      "Total params: 6188 (24.17 KB)\n",
      "Trainable params: 6188 (24.17 KB)\n",
      "Non-trainable params: 0 (0.00 Byte)\n",
      "__________________________________________________________________________________________________\n",
      "Model: \"decoder\"\n",
      "_________________________________________________________________\n",
      " Layer (type)                Output Shape              Param #   \n",
      "=================================================================\n",
      " input_2 (InputLayer)        [(None, 6)]               0         \n",
      "                                                                 \n",
      " dense (Dense)               (None, 32)                224       \n",
      "                                                                 \n",
      " dense_1 (Dense)             (None, 64)                2112      \n",
      "                                                                 \n",
      " dense_2 (Dense)             (None, 57)                3705      \n",
      "                                                                 \n",
      "=================================================================\n",
      "Total params: 6041 (23.60 KB)\n",
      "Trainable params: 6041 (23.60 KB)\n",
      "Non-trainable params: 0 (0.00 Byte)\n",
      "_________________________________________________________________\n"
     ]
    }
   ],
   "source": [
    "#TOPO 2A Trainer\n",
    "\n",
    "T2A_enc = Qmake_encoder_set_weights(X_train.shape[1],64,32,6)\n",
    "T2A_dec = Qmake_decoder_set_weights(X_train.shape[1],64,32,6)\n",
    "steps_per_epoch = X_train.shape[0] // BATCH_SIZE\n",
    "T2A = VAE_Model(T2A_enc, T2A_dec, steps_per_epoch=steps_per_epoch, cycle_length=10, min_beta=0.1, max_beta=0.8)\n",
    "opt = keras.optimizers.Adam(learning_rate=0.001, clipvalue=0.5, clipnorm=1.0)\n",
    "T2A.compile(optimizer=opt,weighted_metrics=[weighted_mse]) #,weighted_metrics=[weighted_mse]\n",
    "# T2A.build(input_shape=(997315, 110))\n",
    "T2A_enc.summary()\n",
    "T2A_dec.summary()\n"
   ]
  },
  {
   "cell_type": "code",
   "execution_count": 13,
   "id": "f6fbfc6c",
   "metadata": {},
   "outputs": [
    {
     "name": "stdout",
     "output_type": "stream",
     "text": [
      "Epoch 1/100\n",
      "2500/2500 [==============================] - 13s 5ms/step - loss: 759.0730 - reco_loss: 758.4963 - kl_loss: 0.8692 - beta: 0.1570 - val_loss: 697.3503 - val_reco_loss: 696.1163 - val_kl_loss: 1.2341 - val_beta: 0.1570 - lr: 0.0010\n",
      "Epoch 2/100\n",
      "2500/2500 [==============================] - 10s 4ms/step - loss: 408.5591 - reco_loss: 407.2187 - kl_loss: 1.4620 - beta: 0.2130 - val_loss: 589.8976 - val_reco_loss: 588.2587 - val_kl_loss: 1.6389 - val_beta: 0.2130 - lr: 0.0010\n",
      "Epoch 3/100\n",
      "2500/2500 [==============================] - 11s 4ms/step - loss: 1424.3326 - reco_loss: 1298.8546 - kl_loss: 150.3042 - beta: 0.2690 - val_loss: 566.1252 - val_reco_loss: 564.0715 - val_kl_loss: 2.0537 - val_beta: 0.2690 - lr: 0.0010\n",
      "Epoch 4/100\n",
      "2500/2500 [==============================] - 11s 5ms/step - loss: 344.2599 - reco_loss: 341.9082 - kl_loss: 2.4324 - beta: 0.3250 - val_loss: 493.8474 - val_reco_loss: 491.4747 - val_kl_loss: 2.3726 - val_beta: 0.3250 - lr: 0.0010\n",
      "Epoch 5/100\n",
      "2500/2500 [==============================] - 11s 4ms/step - loss: 64459141577003.2969 - reco_loss: 9733568780838.1289 - kl_loss: 97716931657728.0000 - beta: 0.3810 - val_loss: 436.9599 - val_reco_loss: 434.3235 - val_kl_loss: 2.6363 - val_beta: 0.3810 - lr: 0.0010\n",
      "Epoch 6/100\n",
      "2500/2500 [==============================] - 11s 4ms/step - loss: 780097835.4011 - reco_loss: 755537861.5457 - kl_loss: 76522256.0000 - beta: 0.4370 - val_loss: 362.3503 - val_reco_loss: 359.4933 - val_kl_loss: 2.8569 - val_beta: 0.4370 - lr: 0.0010\n",
      "Epoch 7/100\n",
      "2500/2500 [==============================] - 11s 4ms/step - loss: 22420.2476 - reco_loss: 19299.8445 - kl_loss: 2695.5474 - beta: 0.4930 - val_loss: 337.2490 - val_reco_loss: 334.1429 - val_kl_loss: 3.1061 - val_beta: 0.4930 - lr: 0.0010\n",
      "Epoch 8/100\n",
      "2500/2500 [==============================] - 11s 4ms/step - loss: 2812.1508 - reco_loss: 2802.5392 - kl_loss: 21.8091 - beta: 0.5490 - val_loss: 267.5989 - val_reco_loss: 264.3436 - val_kl_loss: 3.2553 - val_beta: 0.5490 - lr: 0.0010\n",
      "Epoch 9/100\n",
      "2500/2500 [==============================] - 11s 4ms/step - loss: 65265.0760 - reco_loss: 65032.2099 - kl_loss: 1186.4344 - beta: 0.6050 - val_loss: 291.3795 - val_reco_loss: 288.0091 - val_kl_loss: 3.3704 - val_beta: 0.6050 - lr: 0.0010\n",
      "Epoch 10/100\n",
      "2500/2500 [==============================] - 10s 4ms/step - loss: 1263.0831 - reco_loss: 1256.4946 - kl_loss: 75.3443 - beta: 0.6610 - val_loss: 196.1267 - val_reco_loss: 192.6280 - val_kl_loss: 3.4988 - val_beta: 0.6610 - lr: 0.0010\n",
      "Epoch 11/100\n",
      "2500/2500 [==============================] - 11s 4ms/step - loss: 124.9396 - reco_loss: 121.2482 - kl_loss: 4.2682 - beta: 0.7170 - val_loss: 182.0745 - val_reco_loss: 178.5189 - val_kl_loss: 3.5556 - val_beta: 0.7170 - lr: 0.0010\n",
      "Epoch 12/100\n",
      "2500/2500 [==============================] - 11s 5ms/step - loss: 112.3076 - reco_loss: 108.6580 - kl_loss: 3.6258 - beta: 0.7730 - val_loss: 144.5776 - val_reco_loss: 141.0384 - val_kl_loss: 3.5391 - val_beta: 0.7730 - lr: 0.0010\n",
      "Epoch 13/100\n",
      "2500/2500 [==============================] - 11s 4ms/step - loss: 230.2728 - reco_loss: 226.7290 - kl_loss: 2.3414 - beta: 0.1290 - val_loss: 571.2463 - val_reco_loss: 570.4185 - val_kl_loss: 0.8278 - val_beta: 0.1290 - lr: 0.0010\n",
      "Epoch 14/100\n",
      "2500/2500 [==============================] - 10s 4ms/step - loss: 48786278.3478 - reco_loss: 47517327.5436 - kl_loss: 13161758.0000 - beta: 0.1850 - val_loss: 326.8744 - val_reco_loss: 325.6953 - val_kl_loss: 1.1791 - val_beta: 0.1850 - lr: 0.0010\n",
      "Epoch 15/100\n",
      "2500/2500 [==============================] - 10s 4ms/step - loss: 300.2372 - reco_loss: 298.9793 - kl_loss: 1.3355 - beta: 0.2410 - val_loss: 350.3421 - val_reco_loss: 348.8326 - val_kl_loss: 1.5095 - val_beta: 0.2410 - lr: 0.0010\n",
      "Epoch 16/100\n",
      "2500/2500 [==============================] - 9s 4ms/step - loss: 322.8957 - reco_loss: 321.2849 - kl_loss: 1.7044 - beta: 0.2970 - val_loss: 280.3080 - val_reco_loss: 278.4766 - val_kl_loss: 1.8314 - val_beta: 0.2970 - lr: 0.0010\n",
      "Epoch 17/100\n",
      "2495/2500 [============================>.] - ETA: 0s - loss: 135988.1509 - reco_loss: 135841.7981 - kl_loss: 84.2433 - beta: 0.3529\n",
      "Epoch 17: ReduceLROnPlateau reducing learning rate to 0.0005000000237487257.\n",
      "2500/2500 [==============================] - 9s 3ms/step - loss: 135847.5320 - reco_loss: 135701.3286 - kl_loss: 84.0794 - beta: 0.3530 - val_loss: 263.6535 - val_reco_loss: 261.5061 - val_kl_loss: 2.1474 - val_beta: 0.3530 - lr: 0.0010\n",
      "Epoch 18/100\n",
      "2500/2500 [==============================] - 8s 3ms/step - loss: 208.6299 - reco_loss: 206.4156 - kl_loss: 2.3063 - beta: 0.4085 - val_loss: 255.2963 - val_reco_loss: 252.8855 - val_kl_loss: 2.4108 - val_beta: 0.4085 - lr: 5.0000e-04\n",
      "Epoch 19/100\n",
      "2500/2500 [==============================] - 8s 3ms/step - loss: 66636.8934 - reco_loss: 66527.1387 - kl_loss: 717.1970 - beta: 0.4645 - val_loss: 225.3662 - val_reco_loss: 222.6552 - val_kl_loss: 2.7110 - val_beta: 0.4645 - lr: 5.0000e-04\n",
      "Epoch 20/100\n",
      "2500/2500 [==============================] - 9s 3ms/step - loss: 188.7989 - reco_loss: 185.9699 - kl_loss: 2.9601 - beta: 0.5205 - val_loss: 183.0831 - val_reco_loss: 180.1247 - val_kl_loss: 2.9584 - val_beta: 0.5205 - lr: 5.0000e-04\n",
      "Epoch 21/100\n",
      "2500/2500 [==============================] - 9s 3ms/step - loss: 24503931.4039 - reco_loss: 24094987.8135 - kl_loss: 280971.1250 - beta: 0.5765 - val_loss: 162.0306 - val_reco_loss: 158.7943 - val_kl_loss: 3.2364 - val_beta: 0.5765 - lr: 5.0000e-04\n",
      "Epoch 22/100\n",
      "2500/2500 [==============================] - 9s 4ms/step - loss: 10140.9693 - reco_loss: 10108.8445 - kl_loss: 64.9296 - beta: 0.6325 - val_loss: 142.0786 - val_reco_loss: 138.6779 - val_kl_loss: 3.4007 - val_beta: 0.6325 - lr: 5.0000e-04\n",
      "Epoch 23/100\n",
      "2500/2500 [==============================] - 10s 4ms/step - loss: 3714933.4798 - reco_loss: 3661845.4946 - kl_loss: 89297.9141 - beta: 0.6885 - val_loss: 115.4314 - val_reco_loss: 111.9204 - val_kl_loss: 3.5110 - val_beta: 0.6885 - lr: 5.0000e-04\n",
      "Epoch 24/100\n",
      "2500/2500 [==============================] - 10s 4ms/step - loss: 16500293.9166 - reco_loss: 16397836.9870 - kl_loss: 651754.4375 - beta: 0.7445 - val_loss: 93.2628 - val_reco_loss: 89.6766 - val_kl_loss: 3.5863 - val_beta: 0.7445 - lr: 5.0000e-04\n",
      "Epoch 25/100\n",
      "2500/2500 [==============================] - 10s 4ms/step - loss: 81.7000 - reco_loss: 78.0489 - kl_loss: 3.6830 - beta: 0.8005 - val_loss: 70.7895 - val_reco_loss: 67.1029 - val_kl_loss: 3.6866 - val_beta: 0.8005 - lr: 5.0000e-04\n",
      "Epoch 26/100\n",
      "2500/2500 [==============================] - 11s 4ms/step - loss: 26066.4677 - reco_loss: 26046.9203 - kl_loss: 8.0060 - beta: 0.1565 - val_loss: 287.8744 - val_reco_loss: 286.8809 - val_kl_loss: 0.9935 - val_beta: 0.1565 - lr: 5.0000e-04\n",
      "Epoch 27/100\n",
      "2500/2500 [==============================] - 11s 4ms/step - loss: 280.1284 - reco_loss: 279.0093 - kl_loss: 1.4717 - beta: 0.2125 - val_loss: 259.4766 - val_reco_loss: 258.1352 - val_kl_loss: 1.3415 - val_beta: 0.2125 - lr: 5.0000e-04\n",
      "Epoch 28/100\n",
      "2500/2500 [==============================] - 11s 4ms/step - loss: 233.1781 - reco_loss: 231.7299 - kl_loss: 1.5285 - beta: 0.2685 - val_loss: 271.0917 - val_reco_loss: 269.4414 - val_kl_loss: 1.6502 - val_beta: 0.2685 - lr: 5.0000e-04\n",
      "Epoch 29/100\n",
      "2500/2500 [==============================] - 11s 4ms/step - loss: 214.9744 - reco_loss: 213.2183 - kl_loss: 1.8470 - beta: 0.3245 - val_loss: 244.6186 - val_reco_loss: 242.6632 - val_kl_loss: 1.9554 - val_beta: 0.3245 - lr: 5.0000e-04\n",
      "Epoch 30/100\n",
      "2500/2500 [==============================] - ETA: 0s - loss: 17018.8273 - reco_loss: 16958.9156 - kl_loss: 44.9957 - beta: 0.3805\n",
      "Epoch 30: ReduceLROnPlateau reducing learning rate to 0.0002500000118743628.\n",
      "2500/2500 [==============================] - 10s 4ms/step - loss: 17017.0834 - reco_loss: 16957.1776 - kl_loss: 44.9957 - beta: 0.3805 - val_loss: 197.5160 - val_reco_loss: 195.2652 - val_kl_loss: 2.2509 - val_beta: 0.3805 - lr: 5.0000e-04\n",
      "Epoch 31/100\n",
      "2500/2500 [==============================] - 10s 4ms/step - loss: 191.2394 - reco_loss: 188.8371 - kl_loss: 2.4782 - beta: 0.4362 - val_loss: 202.6628 - val_reco_loss: 200.1097 - val_kl_loss: 2.5532 - val_beta: 0.4362 - lr: 2.5000e-04\n",
      "Epoch 32/100\n",
      "2500/2500 [==============================] - 10s 4ms/step - loss: 153.6217 - reco_loss: 150.8850 - kl_loss: 2.7973 - beta: 0.4922 - val_loss: 196.8020 - val_reco_loss: 193.9957 - val_kl_loss: 2.8063 - val_beta: 0.4922 - lr: 2.5000e-04\n",
      "Epoch 33/100\n",
      "2500/2500 [==============================] - 10s 4ms/step - loss: 159.9768 - reco_loss: 156.9680 - kl_loss: 3.0715 - beta: 0.5482 - val_loss: 169.9517 - val_reco_loss: 166.9120 - val_kl_loss: 3.0397 - val_beta: 0.5482 - lr: 2.5000e-04\n",
      "Epoch 34/100\n",
      "2500/2500 [==============================] - 11s 4ms/step - loss: 124.8754 - reco_loss: 121.6219 - kl_loss: 3.3171 - beta: 0.6042 - val_loss: 155.0532 - val_reco_loss: 151.7795 - val_kl_loss: 3.2737 - val_beta: 0.6042 - lr: 2.5000e-04\n",
      "Epoch 35/100\n",
      "2491/2500 [============================>.] - ETA: 0s - loss: 118.7262 - reco_loss: 115.2709 - kl_loss: 3.5259 - beta: 0.6600\n",
      "Epoch 35: ReduceLROnPlateau reducing learning rate to 0.0001250000059371814.\n",
      "2500/2500 [==============================] - 11s 4ms/step - loss: 118.7192 - reco_loss: 115.2637 - kl_loss: 3.5242 - beta: 0.6602 - val_loss: 110.8233 - val_reco_loss: 107.3291 - val_kl_loss: 3.4942 - val_beta: 0.6602 - lr: 2.5000e-04\n"
     ]
    }
   ],
   "source": [
    "early_stopping = EarlyStopping(patience=STOP_PATIENCE, restore_best_weights=True)\n",
    "reduce_lr = ReduceLROnPlateau(monitor='val_loss', factor=0.5, patience=LR_PATIENCE, verbose=1)\n",
    "\n",
    "callbacks = [early_stopping, reduce_lr]\n",
    "\n",
    "tf.keras.backend.clear_session()\n",
    "history = T2A.fit(x=X_train, validation_split=0.2, epochs=NUM_EPOCHS, batch_size=BATCH_SIZE, callbacks=callbacks, shuffle=True)\n",
    "T2A.save_weights(filepath='/eos/user/h/hjia/ToyVAE/software_dev/software_model/checkpoint_64_32_6/', save_format='tf')"
   ]
  },
  {
   "cell_type": "code",
   "execution_count": 14,
   "id": "141e7a72",
   "metadata": {},
   "outputs": [
    {
     "data": {
      "image/png": "[encoded data removed]",
      "text/plain": [
       "<Figure size 864x576 with 1 Axes>"
      ]
     },
     "metadata": {
      "needs_background": "light"
     },
     "output_type": "display_data"
    }
   ],
   "source": [
    "import matplotlib.pyplot as plt\n",
    "\n",
    "# Assuming 'history' is the object returned by your model.fit() call\n",
    "\n",
    "# Extract the loss values\n",
    "total_loss = history.history['loss']\n",
    "reco_loss = history.history['reco_loss']\n",
    "kl_loss = history.history['kl_loss']\n",
    "val_total_loss = history.history['val_loss']\n",
    "val_reco_loss = history.history['val_reco_loss']\n",
    "val_kl_loss = history.history['val_kl_loss']\n",
    "\n",
    "# Create a new figure\n",
    "plt.figure(figsize=(12, 8))\n",
    "\n",
    "# Plot training losses\n",
    "plt.plot(total_loss, label='Total Loss', color='blue')\n",
    "plt.plot(reco_loss, label='Reconstruction Loss', color='green')\n",
    "plt.plot(kl_loss, label='KL Loss', color='red')\n",
    "\n",
    "# Plot validation losses\n",
    "plt.plot(val_total_loss, label='Val Total Loss', color='blue', linestyle='--')\n",
    "plt.plot(val_reco_loss, label='Val Reconstruction Loss', color='green', linestyle='--')\n",
    "plt.plot(val_kl_loss, label='Val KL Loss', color='red', linestyle='--')\n",
    "\n",
    "# Customize the plot\n",
    "plt.title('Training and Validation Losses')\n",
    "plt.xlabel('Epoch')\n",
    "plt.ylabel('Loss')\n",
    "plt.yscale(\"log\")\n",
    "plt.legend()\n",
    "plt.grid(True)\n",
    "\n",
    "# Show the plot\n",
    "plt.show()"
   ]
  },
  {
   "cell_type": "code",
   "execution_count": null,
   "id": "52cb5a66",
   "metadata": {},
   "outputs": [],
   "source": [
    "# # Repeat testing\n",
    "# for i in range(0,20):\n",
    "#     T2A_enc = Qmake_encoder_set_weights(X_train.shape[1],64,32,6)\n",
    "#     T2A_dec = Qmake_decoder_set_weights(X_train.shape[1],64,32,6)\n",
    "#     steps_per_epoch = X_train.shape[0] // BATCH_SIZE\n",
    "#     T2A = VAE_Model(T2A_enc, T2A_dec, steps_per_epoch=steps_per_epoch, cycle_length=10, min_beta=0.1, max_beta=0.7)\n",
    "#     # T2A.set_beta(beta)\n",
    "#     opt = keras.optimizers.Adam(learning_rate=0.001)\n",
    "#     T2A.compile(optimizer=opt,weighted_metrics=[weighted_mse]) #,weighted_metrics=[weighted_mse]\n",
    "\n",
    "#     early_stopping = EarlyStopping(patience=STOP_PATIENCE, restore_best_weights=True)\n",
    "#     reduce_lr = ReduceLROnPlateau(monitor='val_loss', factor=0.5, patience=LR_PATIENCE, verbose=1)\n",
    "\n",
    "#     callbacks = [early_stopping, reduce_lr]\n",
    "\n",
    "#     tf.keras.backend.clear_session()\n",
    "#     history = T2A.fit(x=X_train, validation_split=0.2, epochs=NUM_EPOCHS, batch_size=BATCH_SIZE, callbacks=callbacks, shuffle=True)\n",
    "#     T2A.save_weights(filepath='/eos/user/h/hjia/ToyVAE/software_dev/software_model/checkpoint_small/Repeat_Testing/small_{}/'.format(i), save_format='tf')"
   ]
  },
  {
   "cell_type": "code",
   "execution_count": 15,
   "id": "2bed99e9",
   "metadata": {},
   "outputs": [],
   "source": [
    "# signals_file = [\"/eos/user/h/hjia/AnomalyDetection/liam_AD/training_notebooks/Ato4l_dataset.h5\",\n",
    "#                 \"/eos/user/h/hjia/AnomalyDetection/liam_AD/training_notebooks/hToTauTau_dataset.h5\",\n",
    "#                 \"/eos/user/h/hjia/AnomalyDetection/liam_AD/training_notebooks/hChToTauNu_dataset.h5\",\n",
    "#                 \"/eos/user/h/hjia/AnomalyDetection/liam_AD/training_notebooks/leptoquark_dataset.h5\"]\n",
    "signal_labels = [\"Ato4l\",\n",
    "                \"hToTauTau\",\n",
    "                \"hChToTauNu\",\n",
    "                \"leptoquark\"]"
   ]
  },
  {
   "cell_type": "code",
   "execution_count": 16,
   "id": "e6bf5f46",
   "metadata": {},
   "outputs": [],
   "source": [
    "signal_data = [Ato4l_data,\n",
    "               hToTauTau_data,\n",
    "               hChToTauNu_data,\n",
    "               leptoquark_data]\n",
    "# for i, label in enumerate(signal_labels):\n",
    "#     with h5py.File(signals_file[i], 'r') as file:\n",
    "#         test_data = np.array(scaler.transform(file['Data']))\n",
    "# #         test_data = scale_columns(np.array(file['Data']))\n",
    "#         signal_data.append(test_data)"
   ]
  },
  {
   "cell_type": "code",
   "execution_count": 17,
   "id": "405e3c55",
   "metadata": {},
   "outputs": [],
   "source": [
    "def AD_score_KL(z_mean, z_log_var):\n",
    "    kl_loss = np.mean(-0.5 * (1 + z_log_var - (z_mean) ** 2 - np.exp(z_log_var)))\n",
    "    return kl_loss\n",
    "\n",
    "def AD_score_CKL(z_mean, z_log_var):\n",
    "    CKL = np.mean(z_mean**2)\n",
    "    return CKL\n",
    "\n",
    "class Model_Evaluator:\n",
    "    def __init__(\n",
    "        self,\n",
    "        model_path,\n",
    "        background,\n",
    "        br_weights,\n",
    "        signal,\n",
    "        signal_weights,\n",
    "        input_dim,\n",
    "        title=\"placeholder\",\n",
    "        save=False,\n",
    "        labels=None,\n",
    "    ):\n",
    "\n",
    "        self.input_dim = input_dim\n",
    "        vae_enc = Qmake_encoder_set_weights(input_dim, 64,32,6)\n",
    "        vae_dec = Qmake_decoder_set_weights(input_dim, 64,32,6)\n",
    "        self.model = VAE_Model(vae_enc, vae_dec)\n",
    "        self.model.load_weights(model_path)\n",
    "        self.encoder = self.model.get_layer(\"encoder\")\n",
    "        self.signal = signal\n",
    "        self.background = background\n",
    "        self.br_loss = []\n",
    "        self.signal_loss = []\n",
    "        self.background_outputs = []\n",
    "        self.signal_outputs = []\n",
    "        self.title = title\n",
    "        self.saveplots = save\n",
    "        self.labels = labels\n",
    "        self.latent_info = []\n",
    "        self.br_weights = br_weights\n",
    "        self.signal_weights = signal_weights\n",
    "\n",
    "    def calculate_loss(self, l_type):\n",
    "        self.signal_loss = []\n",
    "        self.br_loss = []\n",
    "        br = self.background\n",
    "\n",
    "        if l_type == \"CKL\":\n",
    "            br_latent = np.array(self.encoder.predict(br))\n",
    "            self.latent_info += [br_latent[0]]\n",
    "            l = []\n",
    "            for i in range(0, br.shape[0]):\n",
    "                loss = AD_score_CKL(br_latent[0][i], br_latent[1][i])\n",
    "                l += [loss]\n",
    "            self.br_loss = l\n",
    "\n",
    "            for i, batch in enumerate(self.signal):\n",
    "                sg_latent = np.array(self.encoder.predict(batch))\n",
    "                self.latent_info += [sg_latent[0]]\n",
    "                l = []\n",
    "\n",
    "                for i in range(0, batch.shape[0]):\n",
    "                    loss = AD_score_CKL(sg_latent[0][i], sg_latent[1][i])\n",
    "                    l += [loss]\n",
    "\n",
    "                sg_loss = l\n",
    "\n",
    "                self.signal_loss += [sg_loss]\n",
    "\n",
    "        if l_type == \"KL\":\n",
    "            br_latent = np.array(self.encoder.predict(br))\n",
    "            l = []\n",
    "            for i in range(0, br.shape[0]):\n",
    "                loss = AD_score_KL(br_latent[0][i], br_latent[1][i])\n",
    "                l += [loss]\n",
    "            self.br_loss = l\n",
    "\n",
    "            for i, batch in enumerate(self.signal):\n",
    "                sg_latent = np.array(self.encoder.predict(batch))\n",
    "\n",
    "                l = []\n",
    "\n",
    "                for i in range(0, batch.shape[0]):\n",
    "                    loss = AD_score_KL(sg_latent[0][i], sg_latent[1][i])\n",
    "                    l += [loss]\n",
    "\n",
    "                sg_loss = l\n",
    "\n",
    "                self.signal_loss += [sg_loss]        \n",
    "\n",
    "    def ROC(self):\n",
    "        target_fpr = 1e-5\n",
    "        tpr_at_target = []\n",
    "        thresholds_at_target = []\n",
    "\n",
    "        plt.plot(\n",
    "            np.linspace(0, 1, 1000), np.linspace(0, 1, 1000), \"--\", label=\"diagonal\"\n",
    "        )\n",
    "        for j, batch in enumerate(self.signal_loss):\n",
    "            sig_w = self.signal_weights[j]\n",
    "            br_w = self.br_weights\n",
    "            weights = np.concatenate((br_w, sig_w))\n",
    "            truth = []\n",
    "            for i in range(len(self.br_loss)):\n",
    "                truth += [0]\n",
    "            for i in range(len(batch)):\n",
    "                truth += [1]\n",
    "            ROC_data = np.concatenate((self.br_loss, batch))\n",
    "            fpr, tpr, thresholds = sk.roc_curve(truth, ROC_data, sample_weight=weights)\n",
    "            # auc=np.trapz(tpr,fpr)\n",
    "            auc = sk.roc_auc_score(truth, ROC_data)\n",
    "            plt.plot(fpr, tpr, label=self.labels[j] + \": \" + str(round(auc, 3)))\n",
    "            \n",
    "            idx = np.argmin(np.abs(fpr - target_fpr))\n",
    "            tpr_at_target.append(tpr[idx])\n",
    "            thresholds_at_target.append(thresholds[idx])\n",
    "\n",
    "\n",
    "        plt.xlabel(\"fpr\")\n",
    "        plt.xlim(1e-7, 1)\n",
    "        plt.ylim(1e-7, 1)\n",
    "        plt.semilogx()\n",
    "        plt.ylabel(\"tpr\")\n",
    "        plt.semilogy()\n",
    "        plt.title(\"{}_ROC\".format(self.title))\n",
    "        plt.vlines(10**-5, 0, 1, colors=\"r\", linestyles=\"dashed\")\n",
    "        plt.legend(loc=\"lower right\")\n",
    "        if self.saveplots == True:\n",
    "            plt.savefig(\n",
    "                \"/eos/user/h/hjia/ToyVAE/software_dev/plots/small/{}_ROC.png\".format(\n",
    "                    self.title\n",
    "                ),\n",
    "                format=\"png\",\n",
    "                bbox_inches=\"tight\",\n",
    "            )\n",
    "        plt.show()\n",
    "        \n",
    "        print(f\"\\nTPR at FPR = {target_fpr} for each channel:\")\n",
    "        for label, tpr, threshold in zip(self.labels, tpr_at_target, thresholds_at_target):\n",
    "            print(f\"{label}: {tpr*100:.6f}%, Theshold = {threshold:.6f}\")\n",
    "\n",
    "    def GetPerformance(self):\n",
    "        target_fpr = 1e-5\n",
    "        tpr_at_target = []\n",
    "\n",
    "        print(f\"Number of signal losses: {len(self.signal_loss)}\")\n",
    "        print(f\"Number of labels: {len(self.labels)}\")\n",
    "        print(f\"Number of signal weights: {len(self.signal_weights)}\")\n",
    "        print(f\"Length of br_loss: {len(self.br_loss)}\")\n",
    "\n",
    "        plt.figure(figsize=(10, 6))\n",
    "        plt.plot(np.linspace(0, 1, 1000), np.linspace(0, 1, 1000), \"--\", label=\"diagonal\")\n",
    "\n",
    "        for j, batch in enumerate(self.signal_loss):\n",
    "            print(f\"Processing batch {j}\")\n",
    "            print(f\"Batch length: {len(batch)}\")\n",
    "            print(f\"Signal weight length: {len(self.signal_weights[j])}\")\n",
    "\n",
    "            sig_w = self.signal_weights[j]\n",
    "            br_w = self.br_weights\n",
    "            weights = np.concatenate((br_w, sig_w))\n",
    "            truth = np.concatenate([np.zeros(len(self.br_loss)), np.ones(len(batch))])\n",
    "            ROC_data = np.concatenate((self.br_loss, batch))\n",
    "\n",
    "            print(f\"ROC_data shape: {ROC_data.shape}\")\n",
    "            print(f\"truth shape: {truth.shape}\")\n",
    "            print(f\"weights shape: {weights.shape}\")\n",
    "\n",
    "            try:\n",
    "                fpr, tpr, _ = sk.roc_curve(truth, ROC_data, sample_weight=weights)\n",
    "                auc = sk.roc_auc_score(truth, ROC_data)\n",
    "\n",
    "                plt.plot(fpr, tpr, label=f\"{self.labels[j]}: {auc:.3f}\")\n",
    "\n",
    "                idx = np.argmin(np.abs(fpr - target_fpr))\n",
    "                tpr_at_target.append(tpr[idx])\n",
    "\n",
    "                print(f\"Successfully processed batch {j}\")\n",
    "            except Exception as e:\n",
    "                print(f\"Error processing batch {j}: {str(e)}\")\n",
    "\n",
    "        plt.xlabel(\"False Positive Rate\")\n",
    "        plt.ylabel(\"True Positive Rate\")\n",
    "        plt.xscale('log')\n",
    "        plt.yscale('log')\n",
    "        plt.title(f\"{self.title} ROC\")\n",
    "        plt.vlines(target_fpr, 0, 1, colors=\"r\", linestyles=\"dashed\")\n",
    "        plt.legend(loc=\"lower right\")\n",
    "        if self.saveplots:\n",
    "            plt.savefig(\n",
    "                f\"/eos/user/h/hjia/ToyVAE/software_dev/plots/small/{self.title}_ROC.png\",\n",
    "                format=\"png\",\n",
    "                bbox_inches=\"tight\",\n",
    "            )\n",
    "        plt.show()\n",
    "\n",
    "        print(f\"\\nTPR at FPR = {target_fpr} for each channel:\")\n",
    "        results = list(zip(self.labels, tpr_at_target))\n",
    "        for label, tpr in results:\n",
    "            print(f\"{label}: {tpr*100:.6f}%\")\n",
    "\n",
    "        print(f\"Number of results: {len(results)}\")\n",
    "        return results\n"
   ]
  },
  {
   "cell_type": "code",
   "execution_count": 19,
   "id": "3b9afb9b",
   "metadata": {},
   "outputs": [
    {
     "name": "stdout",
     "output_type": "stream",
     "text": [
      "25000/25000 [==============================] - 24s 964us/step\n",
      "1750/1750 [==============================] - 2s 973us/step\n",
      "21603/21603 [==============================] - 22s 1ms/step\n",
      "23759/23759 [==============================] - 24s 1ms/step\n",
      "10642/10642 [==============================] - 10s 962us/step\n"
     ]
    },
    {
     "data": {
      "image/png": "[encoded data removed]",
      "text/plain": [
       "<Figure size 432x288 with 1 Axes>"
      ]
     },
     "metadata": {
      "needs_background": "light"
     },
     "output_type": "display_data"
    },
    {
     "name": "stdout",
     "output_type": "stream",
     "text": [
      "\n",
      "TPR at FPR = 1e-05 for each channel:\n",
      "Ato4l: 2.149404%, Theshold = 10665.125977\n",
      "hToTauTau: 0.087084%, Theshold = 10665.125977\n",
      "hChToTauNu: 0.071422%, Theshold = 10665.125977\n",
      "leptoquark: 0.035531%, Theshold = 10665.125977\n"
     ]
    }
   ],
   "source": [
    "Losses=['CKL']\n",
    "for string in Losses:\n",
    "    evaluation=Model_Evaluator('/eos/user/h/hjia/ToyVAE/software_dev/software_model/checkpoint_64_32_16/',\n",
    "                               X_test,\n",
    "                               np.ones(len(X_test)),\n",
    "                               signal_data,\n",
    "                               [np.ones(len(Ato4l_data)),\n",
    "                                    np.ones(len(hToTauTau_data)),\n",
    "                                    np.ones(len(hChToTauNu_data)),\n",
    "                                    np.ones(len(leptoquark_data))],\n",
    "                               input_dim = X_test.shape[1],\n",
    "                               title='VAE Model',\n",
    "                               save = False,\n",
    "                               labels = signal_labels)\n",
    "    evaluation.calculate_loss(string)\n",
    "    evaluation.ROC()"
   ]
  },
  {
   "cell_type": "code",
   "execution_count": null,
   "id": "1c1b5477",
   "metadata": {},
   "outputs": [],
   "source": [
    "# results = []\n",
    "# signal_names = [\"Ato4l\",\n",
    "#                 \"hToTauTau\",\n",
    "#                 \"hChToTauNu\",\n",
    "#                 \"leptoquark\"]\n",
    "# channel_results = {}\n",
    "# for i in range(20):\n",
    "#     try:\n",
    "#         model_path = f'//eos/user/h/hjia/ToyVAE/software_dev/software_model/checkpoint_small/Repeat_Testing/small_{i}/'\n",
    "#         print(f\"Evaluating model from path: {model_path}\")\n",
    "#         evaluation = Model_Evaluator(model_path,\n",
    "#                                X_test,\n",
    "#                                np.ones(len(X_test)),\n",
    "#                                signal_data,\n",
    "#                                [np.ones(len(Ato4l_data)),\n",
    "#                                     np.ones(len(hToTauTau_data)),\n",
    "#                                     np.ones(len(hChToTauNu_data)),\n",
    "#                                     np.ones(len(leptoquark_data))],\n",
    "#                                input_dim = X_test.shape[1],\n",
    "#                                title='VAE Model {i}',\n",
    "#                                save = False,\n",
    "#                                labels = signal_labels)\n",
    "        \n",
    "#         print(\"Model_Evaluator instance created successfully\")\n",
    "        \n",
    "#         print(\"Calculating losses...\")\n",
    "#         evaluation.calculate_loss('KL')\n",
    "#         print(\"Losses calculated\")\n",
    "        \n",
    "#         print(\"Getting performance...\")\n",
    "#         result = evaluation.GetPerformance()\n",
    "#         print(f\"GetPerformance() returned: {result}\")\n",
    "        \n",
    "#         if not result:\n",
    "#             print(f\"Warning: GetPerformance() returned an empty result for model {i}\")\n",
    "#         else:\n",
    "#             for channel, tpr in result:\n",
    "#                 if channel not in channel_results:\n",
    "#                     channel_results[channel] = []\n",
    "#                 channel_results[channel].append(tpr)\n",
    "    \n",
    "#     except Exception as e:\n",
    "#         print(f\"An error occurred while evaluating model {i}:\")\n",
    "#         print(traceback.format_exc())\n",
    "\n",
    "# print(\"Final channel results:\", channel_results)"
   ]
  },
  {
   "cell_type": "code",
   "execution_count": null,
   "id": "a742a3ac",
   "metadata": {},
   "outputs": [],
   "source": [
    "# if channel_results:\n",
    "#     plt.figure(figsize=(12, 6))\n",
    "#     channels = list(channel_results.keys())\n",
    "#     n_channels = len(channels)\n",
    "#     n_models = len(channel_results[channels[0]])\n",
    "    \n",
    "#     x = np.arange(n_models)\n",
    "#     width = 0.8 / n_channels\n",
    "    \n",
    "#     for i, channel in enumerate(channels):\n",
    "#         tprs = channel_results[channel]\n",
    "#         plt.bar(x + i * width, tprs, width, label=channel)\n",
    "    \n",
    "#     plt.xlabel('Models')\n",
    "#     plt.ylabel('True Positive Rate (TPR) at FPR = 1e-5')\n",
    "#     plt.title('TPR Comparison Across Models and Channels')\n",
    "#     plt.xticks(x + width * (n_channels - 1) / 2, [f'Model {i}' for i in range(n_models)])\n",
    "#     plt.legend()\n",
    "#     plt.tight_layout()\n",
    "#     plt.savefig('VAE_tpr_comparison_plot.png', dpi=600, bbox_inches='tight')\n",
    "#     plt.show()\n",
    "    \n",
    "#     # Print statistics\n",
    "#     print(\"\\nChannel Statistics:\")\n",
    "#     for channel in channels:\n",
    "#         tprs = channel_results[channel]\n",
    "#         mean = np.mean(tprs)\n",
    "#         std = np.std(tprs)\n",
    "#         print(f\"{channel}: Mean TPR = {mean*100:.4f}%, Std Dev = {std:.4f}\")\n",
    "# else:\n",
    "#     print(\"No results were obtained. Cannot create comparison plot.\")"
   ]
  },
  {
   "cell_type": "code",
   "execution_count": null,
   "id": "fe94984b",
   "metadata": {},
   "outputs": [],
   "source": [
    "# if channel_results:\n",
    "#     plt.figure(figsize=(14, 8))  # Increased figure size to accommodate the legend\n",
    "#     channels = list(channel_results.keys())\n",
    "#     n_channels = len(channels)\n",
    "#     n_models = len(channel_results[channels[0]])\n",
    "    \n",
    "#     for i, channel in enumerate(channels):\n",
    "#         tprs = channel_results[channel]\n",
    "#         plt.scatter(range(n_models), tprs, label=channel, s=50)\n",
    "    \n",
    "#     plt.xlabel('Models')\n",
    "#     plt.ylabel('True Positive Rate (TPR) at FPR = 1e-5')\n",
    "#     plt.semilogy()\n",
    "#     plt.title('TPR Comparison Across Models and Channels')\n",
    "#     plt.xticks(range(n_models), [f'{i}' for i in range(n_models)])\n",
    "#     plt.grid(True, linestyle='--', alpha=0.7)\n",
    "    \n",
    "#     # Place legend outside the plot\n",
    "#     plt.legend(bbox_to_anchor=(1.05, 1), loc='upper left')\n",
    "    \n",
    "#     plt.tight_layout()\n",
    "#     plt.savefig('VAE_tpr_comparison_plot.png', dpi=600, bbox_inches='tight')\n",
    "#     plt.show()\n",
    "    \n",
    "#     # Print statistics\n",
    "#     print(\"\\nChannel Statistics:\")\n",
    "#     for channel in channels:\n",
    "#         tprs = channel_results[channel]\n",
    "#         mean = np.mean(tprs)\n",
    "#         std = np.std(tprs)\n",
    "#         print(f\"{channel}: Mean TPR = {mean:.4f}, Std Dev = {std:.4f}\")\n",
    "# else:\n",
    "#     print(\"No results were obtained. Cannot create comparison plot.\")"
   ]
  },
  {
   "cell_type": "code",
   "execution_count": 10,
   "id": "ee2a4aca",
   "metadata": {},
   "outputs": [
    {
     "name": "stdout",
     "output_type": "stream",
     "text": [
      "WARNING:tensorflow:Detecting that an object or model or tf.train.Checkpoint is being deleted with unrestored values. See the following logs for the specific values in question. To silence these warnings, use `status.expect_partial()`. See https://www.tensorflow.org/api_docs/python/tf/train/Checkpoint#restorefor details about the status object returned by the restore function.\n"
     ]
    },
    {
     "name": "stderr",
     "output_type": "stream",
     "text": [
      "WARNING:tensorflow:Detecting that an object or model or tf.train.Checkpoint is being deleted with unrestored values. See the following logs for the specific values in question. To silence these warnings, use `status.expect_partial()`. See https://www.tensorflow.org/api_docs/python/tf/train/Checkpoint#restorefor details about the status object returned by the restore function.\n"
     ]
    },
    {
     "name": "stdout",
     "output_type": "stream",
     "text": [
      "WARNING:tensorflow:Value in checkpoint could not be found in the restored object: (root).optimizer._iterations\n"
     ]
    },
    {
     "name": "stderr",
     "output_type": "stream",
     "text": [
      "WARNING:tensorflow:Value in checkpoint could not be found in the restored object: (root).optimizer._iterations\n"
     ]
    },
    {
     "name": "stdout",
     "output_type": "stream",
     "text": [
      "WARNING:tensorflow:Value in checkpoint could not be found in the restored object: (root).optimizer._learning_rate\n"
     ]
    },
    {
     "name": "stderr",
     "output_type": "stream",
     "text": [
      "WARNING:tensorflow:Value in checkpoint could not be found in the restored object: (root).optimizer._learning_rate\n"
     ]
    },
    {
     "name": "stdout",
     "output_type": "stream",
     "text": [
      "WARNING:tensorflow:Value in checkpoint could not be found in the restored object: (root).optimizer._variables.1\n"
     ]
    },
    {
     "name": "stderr",
     "output_type": "stream",
     "text": [
      "WARNING:tensorflow:Value in checkpoint could not be found in the restored object: (root).optimizer._variables.1\n"
     ]
    },
    {
     "name": "stdout",
     "output_type": "stream",
     "text": [
      "WARNING:tensorflow:Value in checkpoint could not be found in the restored object: (root).optimizer._variables.2\n"
     ]
    },
    {
     "name": "stderr",
     "output_type": "stream",
     "text": [
      "WARNING:tensorflow:Value in checkpoint could not be found in the restored object: (root).optimizer._variables.2\n"
     ]
    },
    {
     "name": "stdout",
     "output_type": "stream",
     "text": [
      "WARNING:tensorflow:Value in checkpoint could not be found in the restored object: (root).optimizer._variables.3\n"
     ]
    },
    {
     "name": "stderr",
     "output_type": "stream",
     "text": [
      "WARNING:tensorflow:Value in checkpoint could not be found in the restored object: (root).optimizer._variables.3\n"
     ]
    },
    {
     "name": "stdout",
     "output_type": "stream",
     "text": [
      "WARNING:tensorflow:Value in checkpoint could not be found in the restored object: (root).optimizer._variables.4\n"
     ]
    },
    {
     "name": "stderr",
     "output_type": "stream",
     "text": [
      "WARNING:tensorflow:Value in checkpoint could not be found in the restored object: (root).optimizer._variables.4\n"
     ]
    },
    {
     "name": "stdout",
     "output_type": "stream",
     "text": [
      "WARNING:tensorflow:Value in checkpoint could not be found in the restored object: (root).optimizer._variables.5\n"
     ]
    },
    {
     "name": "stderr",
     "output_type": "stream",
     "text": [
      "WARNING:tensorflow:Value in checkpoint could not be found in the restored object: (root).optimizer._variables.5\n"
     ]
    },
    {
     "name": "stdout",
     "output_type": "stream",
     "text": [
      "WARNING:tensorflow:Value in checkpoint could not be found in the restored object: (root).optimizer._variables.6\n"
     ]
    },
    {
     "name": "stderr",
     "output_type": "stream",
     "text": [
      "WARNING:tensorflow:Value in checkpoint could not be found in the restored object: (root).optimizer._variables.6\n"
     ]
    },
    {
     "name": "stdout",
     "output_type": "stream",
     "text": [
      "WARNING:tensorflow:Value in checkpoint could not be found in the restored object: (root).optimizer._variables.7\n"
     ]
    },
    {
     "name": "stderr",
     "output_type": "stream",
     "text": [
      "WARNING:tensorflow:Value in checkpoint could not be found in the restored object: (root).optimizer._variables.7\n"
     ]
    },
    {
     "name": "stdout",
     "output_type": "stream",
     "text": [
      "WARNING:tensorflow:Value in checkpoint could not be found in the restored object: (root).optimizer._variables.8\n"
     ]
    },
    {
     "name": "stderr",
     "output_type": "stream",
     "text": [
      "WARNING:tensorflow:Value in checkpoint could not be found in the restored object: (root).optimizer._variables.8\n"
     ]
    },
    {
     "name": "stdout",
     "output_type": "stream",
     "text": [
      "WARNING:tensorflow:Value in checkpoint could not be found in the restored object: (root).optimizer._variables.9\n"
     ]
    },
    {
     "name": "stderr",
     "output_type": "stream",
     "text": [
      "WARNING:tensorflow:Value in checkpoint could not be found in the restored object: (root).optimizer._variables.9\n"
     ]
    },
    {
     "name": "stdout",
     "output_type": "stream",
     "text": [
      "WARNING:tensorflow:Value in checkpoint could not be found in the restored object: (root).optimizer._variables.10\n"
     ]
    },
    {
     "name": "stderr",
     "output_type": "stream",
     "text": [
      "WARNING:tensorflow:Value in checkpoint could not be found in the restored object: (root).optimizer._variables.10\n"
     ]
    },
    {
     "name": "stdout",
     "output_type": "stream",
     "text": [
      "WARNING:tensorflow:Value in checkpoint could not be found in the restored object: (root).optimizer._variables.11\n"
     ]
    },
    {
     "name": "stderr",
     "output_type": "stream",
     "text": [
      "WARNING:tensorflow:Value in checkpoint could not be found in the restored object: (root).optimizer._variables.11\n"
     ]
    },
    {
     "name": "stdout",
     "output_type": "stream",
     "text": [
      "WARNING:tensorflow:Value in checkpoint could not be found in the restored object: (root).optimizer._variables.12\n"
     ]
    },
    {
     "name": "stderr",
     "output_type": "stream",
     "text": [
      "WARNING:tensorflow:Value in checkpoint could not be found in the restored object: (root).optimizer._variables.12\n"
     ]
    },
    {
     "name": "stdout",
     "output_type": "stream",
     "text": [
      "WARNING:tensorflow:Value in checkpoint could not be found in the restored object: (root).optimizer._variables.13\n"
     ]
    },
    {
     "name": "stderr",
     "output_type": "stream",
     "text": [
      "WARNING:tensorflow:Value in checkpoint could not be found in the restored object: (root).optimizer._variables.13\n"
     ]
    },
    {
     "name": "stdout",
     "output_type": "stream",
     "text": [
      "WARNING:tensorflow:Value in checkpoint could not be found in the restored object: (root).optimizer._variables.14\n"
     ]
    },
    {
     "name": "stderr",
     "output_type": "stream",
     "text": [
      "WARNING:tensorflow:Value in checkpoint could not be found in the restored object: (root).optimizer._variables.14\n"
     ]
    },
    {
     "name": "stdout",
     "output_type": "stream",
     "text": [
      "WARNING:tensorflow:Value in checkpoint could not be found in the restored object: (root).optimizer._variables.15\n"
     ]
    },
    {
     "name": "stderr",
     "output_type": "stream",
     "text": [
      "WARNING:tensorflow:Value in checkpoint could not be found in the restored object: (root).optimizer._variables.15\n"
     ]
    },
    {
     "name": "stdout",
     "output_type": "stream",
     "text": [
      "WARNING:tensorflow:Value in checkpoint could not be found in the restored object: (root).optimizer._variables.16\n"
     ]
    },
    {
     "name": "stderr",
     "output_type": "stream",
     "text": [
      "WARNING:tensorflow:Value in checkpoint could not be found in the restored object: (root).optimizer._variables.16\n"
     ]
    },
    {
     "name": "stdout",
     "output_type": "stream",
     "text": [
      "WARNING:tensorflow:Value in checkpoint could not be found in the restored object: (root).optimizer._variables.17\n"
     ]
    },
    {
     "name": "stderr",
     "output_type": "stream",
     "text": [
      "WARNING:tensorflow:Value in checkpoint could not be found in the restored object: (root).optimizer._variables.17\n"
     ]
    },
    {
     "name": "stdout",
     "output_type": "stream",
     "text": [
      "WARNING:tensorflow:Value in checkpoint could not be found in the restored object: (root).optimizer._variables.18\n"
     ]
    },
    {
     "name": "stderr",
     "output_type": "stream",
     "text": [
      "WARNING:tensorflow:Value in checkpoint could not be found in the restored object: (root).optimizer._variables.18\n"
     ]
    },
    {
     "name": "stdout",
     "output_type": "stream",
     "text": [
      "WARNING:tensorflow:Value in checkpoint could not be found in the restored object: (root).optimizer._variables.19\n"
     ]
    },
    {
     "name": "stderr",
     "output_type": "stream",
     "text": [
      "WARNING:tensorflow:Value in checkpoint could not be found in the restored object: (root).optimizer._variables.19\n"
     ]
    },
    {
     "name": "stdout",
     "output_type": "stream",
     "text": [
      "WARNING:tensorflow:Value in checkpoint could not be found in the restored object: (root).optimizer._variables.20\n"
     ]
    },
    {
     "name": "stderr",
     "output_type": "stream",
     "text": [
      "WARNING:tensorflow:Value in checkpoint could not be found in the restored object: (root).optimizer._variables.20\n"
     ]
    },
    {
     "name": "stdout",
     "output_type": "stream",
     "text": [
      "WARNING:tensorflow:Value in checkpoint could not be found in the restored object: (root).optimizer._variables.21\n"
     ]
    },
    {
     "name": "stderr",
     "output_type": "stream",
     "text": [
      "WARNING:tensorflow:Value in checkpoint could not be found in the restored object: (root).optimizer._variables.21\n"
     ]
    },
    {
     "name": "stdout",
     "output_type": "stream",
     "text": [
      "WARNING:tensorflow:Value in checkpoint could not be found in the restored object: (root).optimizer._variables.22\n"
     ]
    },
    {
     "name": "stderr",
     "output_type": "stream",
     "text": [
      "WARNING:tensorflow:Value in checkpoint could not be found in the restored object: (root).optimizer._variables.22\n"
     ]
    },
    {
     "name": "stdout",
     "output_type": "stream",
     "text": [
      "WARNING:tensorflow:Value in checkpoint could not be found in the restored object: (root).optimizer._variables.23\n"
     ]
    },
    {
     "name": "stderr",
     "output_type": "stream",
     "text": [
      "WARNING:tensorflow:Value in checkpoint could not be found in the restored object: (root).optimizer._variables.23\n"
     ]
    },
    {
     "name": "stdout",
     "output_type": "stream",
     "text": [
      "WARNING:tensorflow:Value in checkpoint could not be found in the restored object: (root).optimizer._variables.24\n"
     ]
    },
    {
     "name": "stderr",
     "output_type": "stream",
     "text": [
      "WARNING:tensorflow:Value in checkpoint could not be found in the restored object: (root).optimizer._variables.24\n"
     ]
    },
    {
     "name": "stdout",
     "output_type": "stream",
     "text": [
      "WARNING:tensorflow:Value in checkpoint could not be found in the restored object: (root).optimizer._variables.25\n"
     ]
    },
    {
     "name": "stderr",
     "output_type": "stream",
     "text": [
      "WARNING:tensorflow:Value in checkpoint could not be found in the restored object: (root).optimizer._variables.25\n"
     ]
    },
    {
     "name": "stdout",
     "output_type": "stream",
     "text": [
      "WARNING:tensorflow:Value in checkpoint could not be found in the restored object: (root).optimizer._variables.26\n"
     ]
    },
    {
     "name": "stderr",
     "output_type": "stream",
     "text": [
      "WARNING:tensorflow:Value in checkpoint could not be found in the restored object: (root).optimizer._variables.26\n"
     ]
    },
    {
     "name": "stdout",
     "output_type": "stream",
     "text": [
      "WARNING:tensorflow:Value in checkpoint could not be found in the restored object: (root).optimizer._variables.27\n"
     ]
    },
    {
     "name": "stderr",
     "output_type": "stream",
     "text": [
      "WARNING:tensorflow:Value in checkpoint could not be found in the restored object: (root).optimizer._variables.27\n"
     ]
    },
    {
     "name": "stdout",
     "output_type": "stream",
     "text": [
      "WARNING:tensorflow:Value in checkpoint could not be found in the restored object: (root).optimizer._variables.28\n"
     ]
    },
    {
     "name": "stderr",
     "output_type": "stream",
     "text": [
      "WARNING:tensorflow:Value in checkpoint could not be found in the restored object: (root).optimizer._variables.28\n"
     ]
    },
    {
     "name": "stdout",
     "output_type": "stream",
     "text": [
      "WARNING:tensorflow:Value in checkpoint could not be found in the restored object: (root).optimizer._variables.29\n"
     ]
    },
    {
     "name": "stderr",
     "output_type": "stream",
     "text": [
      "WARNING:tensorflow:Value in checkpoint could not be found in the restored object: (root).optimizer._variables.29\n"
     ]
    },
    {
     "name": "stdout",
     "output_type": "stream",
     "text": [
      "WARNING:tensorflow:Value in checkpoint could not be found in the restored object: (root).optimizer._variables.30\n"
     ]
    },
    {
     "name": "stderr",
     "output_type": "stream",
     "text": [
      "WARNING:tensorflow:Value in checkpoint could not be found in the restored object: (root).optimizer._variables.30\n"
     ]
    }
   ],
   "source": [
    "ori_vae_enc = Qmake_encoder_set_weights(57,64,32,6)\n",
    "ori_vae_dec = Qmake_decoder_set_weights(57,64,32,6)\n",
    "orginal_model = VAE_Model(ori_vae_enc, ori_vae_dec)\n",
    "# orginal_model.predict(Ato4l_data)\n",
    "orginal_model.load_weights(\"/eos/user/h/hjia/ToyVAE/software_dev/software_model/checkpoint_64_32_16/\")\n",
    "\n",
    "\n",
    "def make_simplified_encoder(input_dim, h_dim_1, h_dim_2, latent_dim):\n",
    "    inputs = keras.Input(shape=(input_dim,), name='inputs')\n",
    "#     x = BatchNormalization(name=\"BN0\")(inputs)\n",
    "    x = Dense(h_dim_1,\n",
    "             kernel_initializer=keras.initializers.HeNormal(seed=None),\n",
    "             bias_initializer=keras.initializers.Zeros(),\n",
    "             name = \"dense1\")(inputs)\n",
    "#     x = BatchNormalization(name=\"BN1\")(x)\n",
    "    x = ReLU(name=\"relu1\")(x)\n",
    "    x = Dense(h_dim_2,\n",
    "             kernel_initializer=keras.initializers.HeNormal(seed=None),\n",
    "             bias_initializer=keras.initializers.Zeros(),\n",
    "             name = \"dense2\")(x)    \n",
    "#     x = BatchNormalization(name=\"BN2\")(x)\n",
    "    x = ReLU(name=\"relu2\")(x)\n",
    "    z_mean=Dense(latent_dim, name='z_mean',\n",
    "                  kernel_initializer=keras.initializers.HeNormal(seed=None),\n",
    "                  bias_initializer=keras.initializers.Zeros())(x)\n",
    "    new_encoder = keras.Model(inputs,z_mean,name='encoder')\n",
    "    return new_encoder"
   ]
  },
  {
   "cell_type": "code",
   "execution_count": 11,
   "id": "ff3c5876",
   "metadata": {},
   "outputs": [
    {
     "name": "stdout",
     "output_type": "stream",
     "text": [
      "set weight for  <keras.src.layers.core.dense.Dense object at 0x7f3c40462310>\n",
      "[array([[-0.01120105,  0.16174847, -0.00167761, ..., -0.05897411,\n",
      "         0.01546789, -0.00332473],\n",
      "       [ 0.09092497,  0.06631313, -0.15556325, ...,  0.02905586,\n",
      "        -0.29567984, -0.2209253 ],\n",
      "       [-0.2697083 , -0.0015518 , -0.00500748, ...,  0.00659142,\n",
      "         0.0339653 ,  0.03987942],\n",
      "       ...,\n",
      "       [-0.1026824 , -0.44247344, -0.05702486, ..., -0.6344656 ,\n",
      "         0.0938441 , -0.39519337],\n",
      "       [-0.06126444,  0.12735067, -0.14027563, ...,  0.22914706,\n",
      "         0.07936793,  0.01225108],\n",
      "       [-0.00343627, -0.20568126, -0.15884653, ..., -0.43450087,\n",
      "         0.11746287,  0.04422086]], dtype=float32), array([ 4.89027441e-01,  1.04924750e+00, -1.16830885e-01,  7.24407315e-01,\n",
      "        4.12179530e-01, -1.00151807e-01,  1.06026106e-01, -6.40499145e-02,\n",
      "       -1.46371067e-01, -3.89879830e-02, -2.76465237e-01,  2.21332073e-01,\n",
      "        4.31533270e-02, -1.82791576e-02, -8.85990977e-01,  3.91172945e-01,\n",
      "        4.57786508e-02, -2.74359912e-01,  1.08628077e-02, -2.29516953e-01,\n",
      "       -1.68483898e-01,  4.11394238e-02, -7.76508301e-02, -4.12576757e-02,\n",
      "        9.38678384e-01,  9.28686708e-02,  5.60534179e-01,  1.12996578e-01,\n",
      "        3.99593487e-02, -1.03625380e-01, -8.88543427e-02, -1.59691495e-04,\n",
      "        3.55494112e-01,  1.63523391e-01, -6.87503144e-02, -2.75408834e-01,\n",
      "       -1.04690805e-01, -1.05400585e-01,  9.97613296e-02,  4.16746080e-01,\n",
      "       -1.34808779e-01,  2.93182462e-01,  3.99985790e-01,  2.10601375e-01,\n",
      "       -1.16733767e-01,  9.22541440e-01, -1.06431030e-01, -1.37768328e-01,\n",
      "        1.34080708e-01,  5.83181441e-01, -6.72450289e-02,  6.10598847e-02,\n",
      "       -1.66108295e-01,  9.99900233e-03, -5.23983419e-01, -4.57906984e-02,\n",
      "        3.16852599e-01, -3.65052521e-01,  6.82809427e-02,  9.72741485e-01,\n",
      "        2.05066670e-02,  5.79583764e-01,  6.32517695e-01, -7.75566027e-02],\n",
      "      dtype=float32)]\n",
      "set weight for  <keras.src.layers.activation.relu.ReLU object at 0x7f3da58f1370>\n",
      "[]\n",
      "set weight for  <keras.src.layers.core.dense.Dense object at 0x7f3c404bfa30>\n",
      "[array([[-0.10324924,  0.3109649 ,  0.01405199, ...,  0.10838987,\n",
      "         0.18872184,  0.02016286],\n",
      "       [-0.4174399 ,  0.19097617,  0.18642692, ...,  0.52223676,\n",
      "        -0.04481905,  0.23036455],\n",
      "       [-0.09025434, -0.18317409,  0.14312874, ...,  0.29080603,\n",
      "         0.28789404, -0.06417733],\n",
      "       ...,\n",
      "       [-0.06685562,  0.00949259,  0.24966748, ...,  0.15308397,\n",
      "        -0.24197347, -0.01869642],\n",
      "       [-0.00277133,  0.04669769, -0.15414476, ...,  0.04721435,\n",
      "         0.01402263,  0.05190193],\n",
      "       [ 0.05927249,  0.14908142,  0.12526721, ..., -0.4719095 ,\n",
      "        -0.0428242 , -0.02405544]], dtype=float32), array([ 0.27903056,  0.51845855, -0.25328296,  0.41328347, -0.16380504,\n",
      "        0.67045015, -0.6200844 ,  0.4976916 ,  0.32709134, -0.26189423,\n",
      "        0.20255852,  0.03499065,  0.01309612,  0.8363049 ,  0.4639593 ,\n",
      "        0.13493806, -0.21100253,  0.24825983,  0.33321738,  0.19469519,\n",
      "        0.13762955,  0.56521314,  0.14919189,  0.34423026,  0.80487984,\n",
      "       -0.13976626, -0.0780758 ,  0.68274504,  0.4677407 ,  0.17335527,\n",
      "        0.32281423,  0.04088745], dtype=float32)]\n",
      "set weight for  <keras.src.layers.activation.relu.ReLU object at 0x7f3c57b4abe0>\n",
      "[]\n",
      "set weight for  <keras.src.layers.core.dense.Dense object at 0x7f3c401241f0>\n",
      "[array([[ 4.21108603e-01,  7.05458224e-03, -1.02837279e-01,\n",
      "         1.57484263e-02,  5.67675084e-02, -2.76803434e-01],\n",
      "       [ 5.62439188e-02,  1.76509947e-01, -4.05004621e-01,\n",
      "        -6.23673856e-01,  2.92725742e-01,  3.12311441e-01],\n",
      "       [ 3.59833211e-01, -1.74975708e-01,  4.16744016e-02,\n",
      "         8.25723708e-02, -1.90403283e-01, -3.59397560e-01],\n",
      "       [-2.29379848e-01,  6.64167106e-02, -2.37844810e-01,\n",
      "         1.04499705e-01, -7.53421411e-02,  2.11292028e-01],\n",
      "       [ 1.23708397e-01,  4.56605613e-01,  1.00621469e-01,\n",
      "        -2.46993616e-01, -2.83346981e-01,  8.38702470e-02],\n",
      "       [ 8.20380002e-02, -6.41913861e-02,  1.28710791e-01,\n",
      "         7.59267360e-02, -2.02964041e-02, -3.15749757e-02],\n",
      "       [ 1.40454590e-01, -1.37836382e-01, -1.14203542e-01,\n",
      "         5.06064892e-02,  6.05977997e-02, -3.00975770e-01],\n",
      "       [-6.38636351e-02,  1.50884345e-01,  1.47003919e-01,\n",
      "         1.43305838e-01,  9.35819838e-03, -4.87413704e-02],\n",
      "       [ 2.63514251e-01,  7.97955871e-01, -7.08210886e-01,\n",
      "         3.52848202e-01, -2.00036734e-01, -7.39724457e-01],\n",
      "       [-3.45529139e-01,  2.09328711e-01,  3.56426418e-01,\n",
      "        -1.54601425e-01,  3.53363603e-02, -4.07984331e-02],\n",
      "       [-2.99974710e-01,  1.78611830e-01, -5.15211880e-01,\n",
      "        -4.93883461e-01, -2.94255137e-01,  1.10327445e-01],\n",
      "       [ 2.38374174e-01, -1.18410870e-01, -2.71692425e-01,\n",
      "         1.62842616e-01, -1.88824713e-01, -2.25484982e-01],\n",
      "       [ 2.97231078e-01,  4.42235284e-02, -1.20872296e-01,\n",
      "         6.89810235e-03,  1.46648511e-01,  1.49515018e-01],\n",
      "       [-2.70630836e-01,  2.73458585e-02,  5.57975695e-02,\n",
      "        -1.83960855e-01,  6.31351471e-02, -1.76141962e-01],\n",
      "       [-3.31687331e-01,  2.82649219e-01,  4.34434354e-01,\n",
      "         1.17894582e-01, -8.10129046e-01,  2.45918155e-01],\n",
      "       [ 2.00346187e-01, -5.38577465e-03, -1.48144931e-01,\n",
      "         1.96683124e-01,  3.84889878e-02, -1.33868635e-01],\n",
      "       [-1.83037147e-01, -8.76241550e-02,  1.93812355e-01,\n",
      "        -1.45769417e-01, -6.57257363e-02, -2.22516388e-01],\n",
      "       [-1.86041102e-01, -1.73247382e-01, -6.35836124e-02,\n",
      "         8.77453312e-02,  2.26449877e-01, -7.94273168e-02],\n",
      "       [ 1.66366592e-01,  6.02759600e-01,  2.12797642e-01,\n",
      "        -2.45328993e-01,  1.75076470e-01,  6.08711064e-01],\n",
      "       [-1.44452259e-01, -3.43455315e-01, -2.59345144e-01,\n",
      "        -5.26596196e-02,  1.42267436e-01, -1.45797461e-01],\n",
      "       [-1.40744776e-01, -2.13304192e-01,  4.21191990e-01,\n",
      "        -2.71177858e-01, -8.06118920e-02,  6.54934868e-02],\n",
      "       [-5.05666509e-02,  3.92807424e-01,  3.31039608e-01,\n",
      "         1.91062585e-01,  7.07744062e-01,  1.85840502e-01],\n",
      "       [-3.04718286e-01, -1.40280560e-01, -2.88507909e-01,\n",
      "         1.66439846e-01,  1.74471855e-01,  2.43344948e-01],\n",
      "       [ 5.72962642e-01,  1.43870056e-01, -1.23878792e-01,\n",
      "        -4.24301505e-01, -4.27361438e-03,  1.62836775e-01],\n",
      "       [ 1.27515644e-01,  9.55006927e-02, -3.89740795e-01,\n",
      "         1.50826856e-01, -2.22534705e-02, -1.28858685e-01],\n",
      "       [ 1.84800863e-01, -1.56692803e-01, -7.28012323e-02,\n",
      "        -1.96979567e-01,  2.85684019e-01, -1.76100805e-01],\n",
      "       [ 2.44668111e-01, -4.02017593e-01, -1.16228208e-01,\n",
      "        -3.30268472e-01, -8.29338908e-01, -1.88916847e-02],\n",
      "       [-9.64524373e-02,  1.09629789e-02, -2.44381037e-02,\n",
      "        -1.48477033e-01, -7.19266608e-02,  3.55668031e-02],\n",
      "       [ 2.58529442e-04, -1.00545645e-01,  9.76900533e-02,\n",
      "         3.08636755e-01, -3.28070551e-01,  2.94278502e-01],\n",
      "       [ 2.90516227e-01, -7.46245503e-01, -2.06662179e-03,\n",
      "         9.48253796e-02,  6.65822923e-02,  2.43407845e-01],\n",
      "       [-1.19850688e-01, -1.01620294e-02, -1.04989827e-01,\n",
      "        -1.61804020e-01, -3.04418236e-01,  7.55659910e-03],\n",
      "       [ 8.20467845e-02, -3.76000524e-01,  2.43823364e-01,\n",
      "        -5.73986722e-03,  5.28867006e-01, -1.72905892e-01]], dtype=float32), array([-0.29951093,  0.00917672,  0.0962307 ,  0.03584915, -0.12337435,\n",
      "       -0.13577901], dtype=float32)]\n"
     ]
    }
   ],
   "source": [
    "new_encoder = make_simplified_encoder(57,64,32,6)\n",
    "# Transfer weights from the original encoder\n",
    "for layer in new_encoder.layers:\n",
    "    if layer.name == \"inputs\":\n",
    "        continue\n",
    "    original_layer = ori_vae_enc.get_layer(layer.name)\n",
    "    if original_layer is not None:\n",
    "        print(\"set weight for \", layer)\n",
    "        print(original_layer.get_weights())\n",
    "        layer.set_weights(original_layer.get_weights())"
   ]
  },
  {
   "cell_type": "code",
   "execution_count": 12,
   "id": "9b1b1c09",
   "metadata": {},
   "outputs": [
    {
     "name": "stdout",
     "output_type": "stream",
     "text": [
      "WARNING:tensorflow:Compiled the loaded model, but the compiled metrics have yet to be built. `model.compile_metrics` will be empty until you train or evaluate the model.\n"
     ]
    },
    {
     "name": "stderr",
     "output_type": "stream",
     "text": [
      "WARNING:tensorflow:Compiled the loaded model, but the compiled metrics have yet to be built. `model.compile_metrics` will be empty until you train or evaluate the model.\n"
     ]
    },
    {
     "name": "stdout",
     "output_type": "stream",
     "text": [
      "INFO:tensorflow:Assets written to: VAE_40MHZ_model_64_32_6_onchip/assets\n"
     ]
    },
    {
     "name": "stderr",
     "output_type": "stream",
     "text": [
      "INFO:tensorflow:Assets written to: VAE_40MHZ_model_64_32_6_onchip/assets\n"
     ]
    }
   ],
   "source": [
    "tf.keras.models.save_model(new_encoder, 'VAE_40MHZ_model_64_32_6_onchip', save_format='tf')"
   ]
  },
  {
   "cell_type": "code",
   "execution_count": null,
   "id": "7a8072e4",
   "metadata": {},
   "outputs": [],
   "source": []
  }
 ],
 "metadata": {
  "@webio": {
   "lastCommId": null,
   "lastKernelId": null
  },
  "kernelspec": {
   "display_name": "Python 3",
   "language": "python",
   "name": "python3"
  },
  "language_info": {
   "codemirror_mode": {
    "name": "ipython",
    "version": 3
   },
   "file_extension": ".py",
   "mimetype": "text/x-python",
   "name": "python",
   "nbconvert_exporter": "python",
   "pygments_lexer": "ipython3",
   "version": "3.9.12"
  }
 },
 "nbformat": 4,
 "nbformat_minor": 5
}
