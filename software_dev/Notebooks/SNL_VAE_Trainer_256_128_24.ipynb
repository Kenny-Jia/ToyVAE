{
 "cells": [
  {
   "cell_type": "code",
   "execution_count": 1,
   "id": "2406db2a-9fbf-450e-9968-a31ec6d51c50",
   "metadata": {},
   "outputs": [
    {
     "name": "stderr",
     "output_type": "stream",
     "text": [
      "2024-10-06 19:55:07.818288: I tensorflow/core/util/port.cc:110] oneDNN custom operations are on. You may see slightly different numerical results due to floating-point round-off errors from different computation orders. To turn them off, set the environment variable `TF_ENABLE_ONEDNN_OPTS=0`.\n",
      "2024-10-06 19:55:08.185192: I tensorflow/core/platform/cpu_feature_guard.cc:182] This TensorFlow binary is optimized to use available CPU instructions in performance-critical operations.\n",
      "To enable the following instructions: AVX2 AVX512F AVX512_VNNI FMA, in other operations, rebuild TensorFlow with the appropriate compiler flags.\n"
     ]
    }
   ],
   "source": [
    "import numpy as np\n",
    "import matplotlib.pyplot as plt\n",
    "import h5py\n",
    "from sklearn.model_selection import train_test_split\n",
    "import tensorflow as tf\n",
    "import tensorflow.math as tfmath\n",
    "import tensorflow.keras as keras\n",
    "from tensorflow.keras import layers, Model\n",
    "import tensorflow.keras.backend as K\n",
    "from tensorflow.keras.callbacks import EarlyStopping, ReduceLROnPlateau\n",
    "from tensorflow.keras.models import load_model\n",
    "from sklearn.metrics import roc_curve, auc\n",
    "import sklearn.metrics as sk"
   ]
  },
  {
   "cell_type": "code",
   "execution_count": 2,
   "id": "88ecd26a",
   "metadata": {},
   "outputs": [],
   "source": [
    "from tensorflow.keras.models import Model\n",
    "from tensorflow.keras.layers import PReLU, Input, LSTM, Flatten, Concatenate, Dense, Conv2D, TimeDistributed, MaxPooling2D, LeakyReLU, ReLU, Dropout, BatchNormalization, Activation\n",
    "from tensorflow.keras.optimizers import Adam, SGD\n",
    "from tensorflow.keras.metrics import Precision\n",
    "from qkeras import QActivation, QDense, QConv2D, QBatchNormalization, QConv2DBatchnorm\n",
    "from qkeras import quantized_relu, quantized_bits\n",
    "from tensorflow.keras.regularizers import l1, l2, l1_l2"
   ]
  },
  {
   "cell_type": "code",
   "execution_count": 3,
   "id": "5100558a",
   "metadata": {},
   "outputs": [
    {
     "name": "stdout",
     "output_type": "stream",
     "text": [
      "Num GPUs Available:  1\n"
     ]
    },
    {
     "name": "stderr",
     "output_type": "stream",
     "text": [
      "2024-10-06 19:55:17.669492: I tensorflow/compiler/xla/stream_executor/cuda/cuda_gpu_executor.cc:995] successful NUMA node read from SysFS had negative value (-1), but there must be at least one NUMA node, so returning NUMA node zero. See more at https://github.com/torvalds/linux/blob/v6.0/Documentation/ABI/testing/sysfs-bus-pci#L344-L355\n",
      "2024-10-06 19:55:17.699513: I tensorflow/compiler/xla/stream_executor/cuda/cuda_gpu_executor.cc:995] successful NUMA node read from SysFS had negative value (-1), but there must be at least one NUMA node, so returning NUMA node zero. See more at https://github.com/torvalds/linux/blob/v6.0/Documentation/ABI/testing/sysfs-bus-pci#L344-L355\n",
      "2024-10-06 19:55:17.699816: I tensorflow/compiler/xla/stream_executor/cuda/cuda_gpu_executor.cc:995] successful NUMA node read from SysFS had negative value (-1), but there must be at least one NUMA node, so returning NUMA node zero. See more at https://github.com/torvalds/linux/blob/v6.0/Documentation/ABI/testing/sysfs-bus-pci#L344-L355\n"
     ]
    }
   ],
   "source": [
    "print(\"Num GPUs Available: \", len(tf.config.experimental.list_physical_devices('GPU')))\n",
    "tf.debugging.set_log_device_placement(False)"
   ]
  },
  {
   "cell_type": "code",
   "execution_count": 4,
   "id": "7fc21ec3",
   "metadata": {},
   "outputs": [
    {
     "name": "stdout",
     "output_type": "stream",
     "text": [
      "Data loaded from preprocessed_SNL_data.h5\n"
     ]
    }
   ],
   "source": [
    "#preprocessed_SNL_data.h5 is located under s3df /sdf/home/h/hjia625/\n",
    "with h5py.File('/eos/user/h/hjia/AnomalyDetection/liam_AD/training_notebooks/preprocessed_SNL_data.h5', 'r') as hf:\n",
    "    X_train = hf['X_train'][:]\n",
    "    X_test  = hf['X_test'][:]\n",
    "    Ato4l_data  = hf['Ato4l_data'][:]\n",
    "    hToTauTau_data  = hf['hToTauTau_data'][:]\n",
    "    hChToTauNu_data  = hf['hChToTauNu_data'][:]\n",
    "    leptoquark_data = hf['leptoquark_data'][:]\n",
    "    print(\"Data loaded from preprocessed_SNL_data.h5\")\n"
   ]
  },
  {
   "cell_type": "code",
   "execution_count": 5,
   "id": "520b0be9",
   "metadata": {},
   "outputs": [],
   "source": [
    "# filename = \"/eos/user/h/hjia/AnomalyDetection/liam_AD/training_notebooks/SM_ZeroBias_dataset.h5\"\n",
    "# with h5py.File(filename, 'r') as file:\n",
    "#     X_train = np.array(file['X_train'])\n",
    "#     X_test = np.array(file['X_test'])\n",
    "#     X_val = np.array(file['X_val'])\n",
    "# X_train = np.vstack((X_train, X_val))\n",
    "# print(X_train.shape)"
   ]
  },
  {
   "cell_type": "code",
   "execution_count": 6,
   "id": "e81033d3",
   "metadata": {},
   "outputs": [],
   "source": [
    "# def scale_columns(arr):\n",
    "#     # Check if the input array has 57 columns\n",
    "#     if arr.shape[1] != 57:\n",
    "#         raise ValueError(\"Input array must have 57 columns\")\n",
    "    \n",
    "#     # Create a copy of the input array to avoid modifying the original\n",
    "#     scaled_arr = arr.copy()\n",
    "# #     met_scale = 1\n",
    "# #     em_scale = 1\n",
    "# #     tau_scale = 1\n",
    "# #     jet_scale = 1\n",
    "# #     muon_scale = 1\n",
    "#     met_scale = 512\n",
    "#     em_scale = 128\n",
    "#     tau_scale = 128\n",
    "#     jet_scale = 256\n",
    "#     muon_scale = 32\n",
    "#     # Define the scaling factors for each column\n",
    "#     scale_dict = {\n",
    "#         0: 1/met_scale,\n",
    "#         3: 1/em_scale, 6: 1/em_scale, 9: 1/em_scale, 12: 1/em_scale, 15: 1/tau_scale,\n",
    "#         18: 1/tau_scale, 21: 1/tau_scale, 24: 1/tau_scale,\n",
    "#         27: 1/jet_scale, 30: 1/jet_scale, 33: 1/jet_scale, 36: 1/jet_scale, 39: 1/jet_scale, 42: 1/jet_scale,\n",
    "#         45: 1/muon_scale, 48: 1/muon_scale, 51: 1/muon_scale, 54: 1/muon_scale\n",
    "#     }\n",
    "\n",
    "#     # Apply scaling to the specified columns\n",
    "#     for col, scale_factor in scale_dict.items():\n",
    "#         scaled_arr[:, col] *= scale_factor\n",
    "    \n",
    "#     return scaled_arr\n",
    "# X_train = scale_columns(X_train)\n",
    "# X_test = scale_columns(X_test)"
   ]
  },
  {
   "cell_type": "code",
   "execution_count": 7,
   "id": "60b95c33",
   "metadata": {},
   "outputs": [],
   "source": [
    "# from sklearn.preprocessing import StandardScaler\n",
    "# scaler = StandardScaler()\n",
    "# scaler.fit(X_train)\n",
    "# X_train = scaler.transform(X_train)\n",
    "# X_test = scaler.transform(X_test)"
   ]
  },
  {
   "cell_type": "code",
   "execution_count": 8,
   "id": "58eedb9c",
   "metadata": {},
   "outputs": [
    {
     "name": "stdout",
     "output_type": "stream",
     "text": [
      "Column 1:\n",
      "  Mean: -0.0000\n",
      "  Min: -1.9571\n",
      "  Max: 53.1526\n",
      "  Contains NaN: False\n",
      "\n",
      "Column 2:\n",
      "  Mean: 0.0000\n",
      "  Min: 0.0000\n",
      "  Max: 0.0000\n",
      "  Contains NaN: False\n",
      "\n",
      "Column 3:\n",
      "  Mean: 0.0000\n",
      "  Min: -1.7323\n",
      "  Max: 1.7311\n",
      "  Contains NaN: False\n",
      "\n",
      "Column 4:\n",
      "  Mean: -0.0000\n",
      "  Min: -0.9537\n",
      "  Max: 47.1318\n",
      "  Contains NaN: False\n",
      "\n",
      "Column 5:\n",
      "  Mean: -0.0000\n",
      "  Min: -2.4819\n",
      "  Max: 2.4821\n",
      "  Contains NaN: False\n",
      "\n",
      "Column 6:\n",
      "  Mean: -0.0000\n",
      "  Min: -2.3496\n",
      "  Max: 2.3489\n",
      "  Contains NaN: False\n",
      "\n",
      "Column 7:\n",
      "  Mean: -0.0000\n",
      "  Min: -0.0355\n",
      "  Max: 200.8080\n",
      "  Contains NaN: False\n",
      "\n",
      "Column 8:\n",
      "  Mean: -0.0000\n",
      "  Min: -43.0203\n",
      "  Max: 43.0213\n",
      "  Contains NaN: False\n",
      "\n",
      "Column 9:\n",
      "  Mean: 0.0000\n",
      "  Min: -34.6662\n",
      "  Max: 34.6653\n",
      "  Contains NaN: False\n",
      "\n",
      "Column 10:\n",
      "  Mean: 0.0000\n",
      "  Min: -0.0108\n",
      "  Max: 302.0646\n",
      "  Contains NaN: False\n",
      "\n",
      "Column 11:\n",
      "  Mean: -0.0000\n",
      "  Min: -181.6179\n",
      "  Max: 181.7817\n",
      "  Contains NaN: False\n",
      "\n",
      "Column 12:\n",
      "  Mean: -0.0000\n",
      "  Min: -130.9459\n",
      "  Max: 130.8367\n",
      "  Contains NaN: False\n",
      "\n",
      "Column 13:\n",
      "  Mean: -0.0000\n",
      "  Min: -0.0028\n",
      "  Max: 660.7622\n",
      "  Contains NaN: False\n",
      "\n",
      "Column 14:\n",
      "  Mean: 0.0000\n",
      "  Min: -520.3063\n",
      "  Max: 686.6438\n",
      "  Contains NaN: False\n",
      "\n",
      "Column 15:\n",
      "  Mean: -0.0000\n",
      "  Min: -487.7219\n",
      "  Max: 484.9506\n",
      "  Contains NaN: False\n",
      "\n",
      "Column 16:\n",
      "  Mean: 0.0000\n",
      "  Min: -0.8222\n",
      "  Max: 33.0882\n",
      "  Contains NaN: False\n",
      "\n",
      "Column 17:\n",
      "  Mean: 0.0000\n",
      "  Min: -2.5472\n",
      "  Max: 2.5471\n",
      "  Contains NaN: False\n",
      "\n",
      "Column 18:\n",
      "  Mean: 0.0000\n",
      "  Min: -2.5510\n",
      "  Max: 2.5516\n",
      "  Contains NaN: False\n",
      "\n",
      "Column 19:\n",
      "  Mean: 0.0000\n",
      "  Min: -0.0297\n",
      "  Max: 291.0383\n",
      "  Contains NaN: False\n",
      "\n",
      "Column 20:\n",
      "  Mean: 0.0000\n",
      "  Min: -47.0408\n",
      "  Max: 47.0603\n",
      "  Contains NaN: False\n",
      "\n",
      "Column 21:\n",
      "  Mean: 0.0000\n",
      "  Min: -41.7168\n",
      "  Max: 41.7156\n",
      "  Contains NaN: False\n",
      "\n",
      "Column 22:\n",
      "  Mean: -0.0000\n",
      "  Min: -0.0083\n",
      "  Max: 421.5737\n",
      "  Contains NaN: False\n",
      "\n",
      "Column 23:\n",
      "  Mean: -0.0000\n",
      "  Min: -205.2899\n",
      "  Max: 202.9845\n",
      "  Contains NaN: False\n",
      "\n",
      "Column 24:\n",
      "  Mean: -0.0000\n",
      "  Min: -174.2299\n",
      "  Max: 173.6709\n",
      "  Contains NaN: False\n",
      "\n",
      "Column 25:\n",
      "  Mean: -0.0000\n",
      "  Min: -0.0020\n",
      "  Max: 940.8060\n",
      "  Contains NaN: False\n",
      "\n",
      "Column 26:\n",
      "  Mean: 0.0000\n",
      "  Min: -810.1814\n",
      "  Max: 794.4273\n",
      "  Contains NaN: False\n",
      "\n",
      "Column 27:\n",
      "  Mean: -0.0000\n",
      "  Min: -722.3286\n",
      "  Max: 612.0592\n",
      "  Contains NaN: False\n",
      "\n",
      "Column 28:\n",
      "  Mean: -0.0000\n",
      "  Min: -0.5123\n",
      "  Max: 58.0216\n",
      "  Contains NaN: False\n",
      "\n",
      "Column 29:\n",
      "  Mean: 0.0000\n",
      "  Min: -3.8580\n",
      "  Max: 3.8601\n",
      "  Contains NaN: False\n",
      "\n",
      "Column 30:\n",
      "  Mean: 0.0000\n",
      "  Min: -2.7959\n",
      "  Max: 2.7976\n",
      "  Contains NaN: False\n",
      "\n",
      "Column 31:\n",
      "  Mean: -0.0000\n",
      "  Min: -0.2677\n",
      "  Max: 109.7365\n",
      "  Contains NaN: False\n",
      "\n",
      "Column 32:\n",
      "  Mean: 0.0000\n",
      "  Min: -6.3577\n",
      "  Max: 6.3593\n",
      "  Contains NaN: False\n",
      "\n",
      "Column 33:\n",
      "  Mean: 0.0000\n",
      "  Min: -5.0049\n",
      "  Max: 5.0044\n",
      "  Contains NaN: False\n",
      "\n",
      "Column 34:\n",
      "  Mean: 0.0000\n",
      "  Min: -0.1481\n",
      "  Max: 123.6013\n",
      "  Contains NaN: False\n",
      "\n",
      "Column 35:\n",
      "  Mean: -0.0000\n",
      "  Min: -11.6921\n",
      "  Max: 11.6929\n",
      "  Contains NaN: False\n",
      "\n",
      "Column 36:\n",
      "  Mean: -0.0000\n",
      "  Min: -9.2581\n",
      "  Max: 9.2558\n",
      "  Contains NaN: False\n",
      "\n",
      "Column 37:\n",
      "  Mean: 0.0000\n",
      "  Min: -0.0871\n",
      "  Max: 101.4869\n",
      "  Contains NaN: False\n",
      "\n",
      "Column 38:\n",
      "  Mean: -0.0000\n",
      "  Min: -21.1709\n",
      "  Max: 21.1645\n",
      "  Contains NaN: False\n",
      "\n",
      "Column 39:\n",
      "  Mean: -0.0000\n",
      "  Min: -16.2261\n",
      "  Max: 16.2256\n",
      "  Contains NaN: False\n",
      "\n",
      "Column 40:\n",
      "  Mean: -0.0000\n",
      "  Min: -0.0575\n",
      "  Max: 120.7499\n",
      "  Contains NaN: False\n",
      "\n",
      "Column 41:\n",
      "  Mean: -0.0000\n",
      "  Min: -34.5995\n",
      "  Max: 34.6021\n",
      "  Contains NaN: False\n",
      "\n",
      "Column 42:\n",
      "  Mean: -0.0000\n",
      "  Min: -25.6311\n",
      "  Max: 25.6354\n",
      "  Contains NaN: False\n",
      "\n",
      "Column 43:\n",
      "  Mean: -0.0000\n",
      "  Min: -0.0399\n",
      "  Max: 108.0682\n",
      "  Contains NaN: False\n",
      "\n",
      "Column 44:\n",
      "  Mean: -0.0000\n",
      "  Min: -52.7219\n",
      "  Max: 52.7200\n",
      "  Contains NaN: False\n",
      "\n",
      "Column 45:\n",
      "  Mean: 0.0000\n",
      "  Min: -38.4837\n",
      "  Max: 38.4987\n",
      "  Contains NaN: False\n",
      "\n",
      "Column 46:\n",
      "  Mean: -0.0000\n",
      "  Min: -0.0274\n",
      "  Max: 142.9166\n",
      "  Contains NaN: False\n",
      "\n",
      "Column 47:\n",
      "  Mean: 0.0000\n",
      "  Min: -80.5176\n",
      "  Max: 79.8578\n",
      "  Contains NaN: False\n",
      "\n",
      "Column 48:\n",
      "  Mean: 0.0000\n",
      "  Min: -57.4688\n",
      "  Max: 57.4615\n",
      "  Contains NaN: False\n",
      "\n",
      "Column 49:\n",
      "  Mean: 0.0000\n",
      "  Min: -0.0182\n",
      "  Max: 223.2545\n",
      "  Contains NaN: False\n",
      "\n",
      "Column 50:\n",
      "  Mean: 0.0000\n",
      "  Min: -117.8208\n",
      "  Max: 117.5744\n",
      "  Contains NaN: False\n",
      "\n",
      "Column 51:\n",
      "  Mean: -0.0000\n",
      "  Min: -87.9387\n",
      "  Max: 88.1077\n",
      "  Contains NaN: False\n",
      "\n",
      "Column 52:\n",
      "  Mean: -0.0000\n",
      "  Min: -0.0117\n",
      "  Max: 339.2351\n",
      "  Contains NaN: False\n",
      "\n",
      "Column 53:\n",
      "  Mean: -0.0000\n",
      "  Min: -187.4638\n",
      "  Max: 191.8051\n",
      "  Contains NaN: False\n",
      "\n",
      "Column 54:\n",
      "  Mean: 0.0000\n",
      "  Min: -139.8838\n",
      "  Max: 139.1267\n",
      "  Contains NaN: False\n",
      "\n",
      "Column 55:\n",
      "  Mean: -0.0000\n",
      "  Min: -0.0071\n",
      "  Max: 297.2272\n",
      "  Contains NaN: False\n",
      "\n",
      "Column 56:\n",
      "  Mean: 0.0000\n",
      "  Min: -324.9908\n",
      "  Max: 280.1775\n",
      "  Contains NaN: False\n",
      "\n",
      "Column 57:\n",
      "  Mean: -0.0000\n",
      "  Min: -220.9851\n",
      "  Max: 220.6210\n",
      "  Contains NaN: False\n",
      "\n"
     ]
    }
   ],
   "source": [
    "def analyze_columns(arr):\n",
    "    # Check if the input array has 57 columns\n",
    "    if arr.shape[1] != 57:\n",
    "        raise ValueError(\"Input array must have 57 columns\")\n",
    "\n",
    "    for col in range(57):\n",
    "        column = arr[:, col]\n",
    "        \n",
    "        # Calculate statistics\n",
    "        mean_val = np.mean(column)\n",
    "        min_val = np.min(column)\n",
    "        max_val = np.max(column)\n",
    "        has_nan = np.isnan(column).any()\n",
    "        \n",
    "        # Print results\n",
    "        print(f\"Column {col + 1}:\")\n",
    "        print(f\"  Mean: {mean_val:.4f}\")\n",
    "        print(f\"  Min: {min_val:.4f}\")\n",
    "        print(f\"  Max: {max_val:.4f}\")\n",
    "        print(f\"  Contains NaN: {has_nan}\")\n",
    "        print()  # Empty line for readability\n",
    "analyze_columns(X_train)"
   ]
  },
  {
   "cell_type": "code",
   "execution_count": 5,
   "id": "4dd108b6-f2b4-4b39-9cee-ba8faa7bc36c",
   "metadata": {},
   "outputs": [],
   "source": [
    "class Sampling(keras.layers.Layer):\n",
    "    \"\"\"Uses (z_mean, z_log_var) to sample z, the vector encoding a digit.\"\"\"\n",
    "\n",
    "    def call(self, inputs):\n",
    "        z_mean, z_log_var = inputs\n",
    "        batch = tf.shape(z_mean)[0]\n",
    "        dim = tf.shape(z_mean)[1]\n",
    "        epsilon = tf.keras.backend.random_normal(shape=(batch, dim))\n",
    "        return z_mean + tf.exp(0.5 * z_log_var) * epsilon\n",
    "\n",
    "def Qmake_encoder_set_weights(input_dim,h_dim_1,h_dim_2,latent_dim):\n",
    "    l2_factor = 1e-2\n",
    "    inputs = keras.Input(shape=(input_dim), name = \"input\")\n",
    "#     x = BatchNormalization(name=\"BN0\")(inputs)\n",
    "    x = Dense(h_dim_1,\n",
    "             kernel_initializer=keras.initializers.HeNormal(seed=None),\n",
    "             bias_initializer=keras.initializers.Zeros(),\n",
    "             kernel_regularizer=l1_l2(l1=0, l2=l2_factor),\n",
    "             name = \"dense1\")(inputs)\n",
    "#     x = BatchNormalization(name=\"BN1\")(x)\n",
    "#     x = ReLU(name=\"relu1\")(x)\n",
    "    x = ReLU(name=\"relu1\")(x)\n",
    "    x = Dense(h_dim_2,\n",
    "             kernel_initializer=keras.initializers.HeNormal(seed=None),\n",
    "             bias_initializer=keras.initializers.Zeros(),\n",
    "             kernel_regularizer=l1_l2(l1=0, l2=l2_factor),\n",
    "             name = \"dense2\")(x)    \n",
    "#     x = BatchNormalization(name=\"BN2\")(x)\n",
    "    x = ReLU(name=\"relu2\")(x)\n",
    "    z_mean=Dense(latent_dim, name='z_mean',\n",
    "                  kernel_initializer=keras.initializers.HeNormal(seed=None),\n",
    "                  bias_initializer=keras.initializers.Zeros(),\n",
    "                  kernel_regularizer=l1_l2(l1=0, l2=l2_factor))(x)\n",
    "    z_logvar=Dense(latent_dim, name='z_log_var',\n",
    "                          kernel_initializer=keras.initializers.Zeros(),\n",
    "                          bias_initializer=keras.initializers.Zeros(),\n",
    "                          kernel_regularizer=l1_l2(l1=0, l2=l2_factor))(x)\n",
    "    z=Sampling()([z_mean,z_logvar])\n",
    "    encoder = keras.Model(inputs,[z_mean,z_logvar,z],name='encoder')\n",
    "    return encoder\n",
    "\n",
    "def Qmake_decoder_set_weights(input_dim,h_dim_1,h_dim_2,latent_dim):\n",
    "    l2_factor = 1e-2\n",
    "    inputs=keras.Input(shape=(latent_dim))\n",
    "    x=layers.Dense(h_dim_2,\n",
    "                   activation='relu',\n",
    "                   kernel_initializer=keras.initializers.HeNormal(seed=None),\n",
    "                   bias_initializer=keras.initializers.Zeros(),\n",
    "                   kernel_regularizer=l1_l2(l1=0, l2=l2_factor))(inputs)\n",
    "    x=BatchNormalization()(x)\n",
    "    x=layers.Dense(h_dim_1,\n",
    "                   activation='relu',\n",
    "                   kernel_initializer=keras.initializers.HeNormal(seed=None),\n",
    "                   bias_initializer=keras.initializers.Zeros(),\n",
    "                   kernel_regularizer=l1_l2(l1=0, l2=l2_factor))(x)\n",
    "    x=BatchNormalization()(x)\n",
    "    z=layers.Dense(input_dim,\n",
    "                   kernel_initializer=keras.initializers.HeNormal(seed=None),\n",
    "                   bias_initializer=keras.initializers.Zeros(),\n",
    "                   kernel_regularizer=l1_l2(l1=0, l2=l2_factor))(x)\n",
    "    decoder=keras.Model(inputs,z,name='decoder')\n",
    "    return decoder\n",
    "\n",
    "def custom_mse_loss_with_multi_index_scaling(masked_data, masked_reconstruction):\n",
    "#     jet_scale = 256/64\n",
    "#     tau_scale = 128/64\n",
    "#     muon_scale = 32/64\n",
    "#     met_scale = 512/64\n",
    "#     em_scale = 128/64\n",
    "    jet_scale = 1\n",
    "    tau_scale = 1\n",
    "    muon_scale = 1\n",
    "    met_scale = 1\n",
    "    em_scale = 1\n",
    "    # Define the indices and their corresponding scale factors\n",
    "    scale_dict = {\n",
    "        0: met_scale,\n",
    "        3: em_scale, 6: em_scale, 9: em_scale, 12: em_scale,\n",
    "        15: tau_scale, 18: tau_scale, 21: tau_scale, 24: tau_scale,\n",
    "        27: jet_scale, 30: jet_scale, 33: jet_scale, 36: jet_scale, 39: jet_scale, 42: jet_scale,\n",
    "        45: muon_scale, 48: muon_scale, 51: muon_scale, 54: muon_scale\n",
    "    }\n",
    "\n",
    "    # Create the scaling tensor\n",
    "    scale_tensor = tf.ones_like(masked_data)\n",
    "    for index, factor in scale_dict.items():\n",
    "        index_mask = tf.one_hot(index, depth=tf.shape(masked_data)[-1])\n",
    "        scale_tensor += index_mask * (factor - 1)\n",
    "\n",
    "    # Apply scaling\n",
    "    scaled_data = masked_data * scale_tensor\n",
    "    scaled_reconstruction = masked_reconstruction * scale_tensor\n",
    "\n",
    "    # Hardcoded lists for eta and phi indices\n",
    "    eta_indices = [4, 7, 10, 13, 16, 19, 22, 25, 28, 31, 34, 37, 40, 43, 46, 49, 52, 55]\n",
    "    phi_indices = [2, 5, 8, 11, 14, 17, 20, 23, 26, 29, 32, 35, 38, 41, 44, 47, 50, 53, 56]\n",
    "\n",
    "    batch_size = tf.shape(scaled_reconstruction)[0]\n",
    "    \n",
    "    # Set only the first eta (index 1) to zero\n",
    "    indices = tf.stack([tf.range(batch_size), tf.ones(batch_size, dtype=tf.int32)], axis=1)\n",
    "    updates = tf.zeros(batch_size)\n",
    "    scaled_reconstruction = tf.tensor_scatter_nd_update(scaled_reconstruction, indices, updates)\n",
    "    \n",
    "#     # Apply constraints to eta\n",
    "#     for i in eta_indices:\n",
    "#         indices = tf.stack([tf.range(batch_size), tf.fill([batch_size], i)], axis=1)\n",
    "#         updates = 3 * tf.tanh(scaled_reconstruction[:, i] / 3)\n",
    "#         scaled_reconstruction = tf.tensor_scatter_nd_update(scaled_reconstruction, indices, updates)\n",
    "    \n",
    "#     # Apply constraints to phi\n",
    "#     for i in phi_indices:\n",
    "#         indices = tf.stack([tf.range(batch_size), tf.fill([batch_size], i)], axis=1)\n",
    "#         updates = 3.14159265258979 * tf.tanh(scaled_reconstruction[:, i] / 3.14159265258979)\n",
    "#         scaled_reconstruction = tf.tensor_scatter_nd_update(scaled_reconstruction, indices, updates)\n",
    "        \n",
    "    # Calculate MSE using keras.losses.mse\n",
    "    mse = keras.losses.mse(scaled_data, scaled_reconstruction)\n",
    "\n",
    "    # Take the sum across all dimensions\n",
    "    return tf.reduce_sum(mse)\n",
    "\n",
    "class VAE_Model(keras.Model):\n",
    "    def __init__(self, encoder, decoder, steps_per_epoch=3125, cycle_length=10, min_beta=0.1, max_beta=0.85, **kwargs):\n",
    "        super().__init__(**kwargs)\n",
    "        self.encoder = encoder\n",
    "        self.decoder = decoder\n",
    "        self.total_loss_tracker = keras.metrics.Mean(name=\"total_loss\")\n",
    "        self.reconstruction_loss_tracker = keras.metrics.Mean(\n",
    "            name=\"reconstruction_loss\"\n",
    "        )\n",
    "        self.kl_loss_tracker = keras.metrics.Mean(name=\"kl_loss\")\n",
    "        self.beta_tracker = keras.metrics.Mean(name=\"beta\")\n",
    "        self.steps_per_epoch = steps_per_epoch\n",
    "        self.cycle_length = tf.cast(cycle_length, tf.float32)\n",
    "        self.min_beta = tf.cast(min_beta, tf.float32)\n",
    "        self.max_beta = tf.cast(max_beta, tf.float32)\n",
    "        self.beta = tf.Variable(min_beta, dtype=tf.float32)\n",
    "\n",
    "\n",
    "    @property\n",
    "    def metrics(self):\n",
    "        return [\n",
    "            self.total_loss_tracker,\n",
    "            self.reconstruction_loss_tracker,\n",
    "            self.kl_loss_tracker,\n",
    "            self.beta_tracker,\n",
    "        ]\n",
    "\n",
    "    def cyclical_annealing_beta(self, epoch):\n",
    "        cycle = tf.floor(1.0 + epoch / self.cycle_length)\n",
    "        x = tf.abs(epoch / self.cycle_length - cycle + 1)\n",
    "        return self.min_beta + (self.max_beta - self.min_beta) * tf.minimum(x, 1.0)\n",
    "#     def set_beta(self,beta):\n",
    "#         self.beta=beta\n",
    "\n",
    "    def train_step(self, data):\n",
    "        # Get the current epoch number\n",
    "        epoch = tf.cast(self.optimizer.iterations / self.steps_per_epoch, tf.float32)\n",
    "        \n",
    "        # Update beta\n",
    "        self.beta.assign(self.cyclical_annealing_beta(epoch))\n",
    "        with tf.GradientTape() as tape:\n",
    "            z_mean, z_log_var, z = self.encoder(data)\n",
    "            reconstruction = self.decoder(z)\n",
    "            mask = K.cast(K.not_equal(data, 0), K.floatx())\n",
    "#             reconstruction_loss = tf.reduce_mean(keras.losses.mse(mask*data, mask*reconstruction))\n",
    "            reconstruction_loss = custom_mse_loss_with_multi_index_scaling(mask*data, mask*reconstruction)\n",
    "            reconstruction_loss *=(1-self.beta)\n",
    "\n",
    "            kl_loss = -0.5 * (1 + z_log_var - tf.square(z_mean) - tf.exp(z_log_var))\n",
    "            kl_loss = tf.reduce_mean(kl_loss)\n",
    "            kl_loss *=self.beta\n",
    "\n",
    "            total_loss = reconstruction_loss + kl_loss\n",
    "            \n",
    "        grads = tape.gradient(total_loss, self.trainable_weights)\n",
    "        self.optimizer.apply_gradients(zip(grads, self.trainable_weights))\n",
    "        self.total_loss_tracker.update_state(total_loss)\n",
    "        self.reconstruction_loss_tracker.update_state(reconstruction_loss)\n",
    "        self.kl_loss_tracker.update_state(kl_loss)\n",
    "        return {\n",
    "            \"loss\": self.total_loss_tracker.result(),\n",
    "            \"reco_loss\": self.reconstruction_loss_tracker.result(),\n",
    "            \"kl_loss\": self.kl_loss_tracker.result(),\n",
    "            \"beta\": self.beta,\n",
    "        }\n",
    "\n",
    "    def test_step(self, data):\n",
    "        z_mean, z_log_var, z = self.encoder(data)\n",
    "        reconstruction = self.decoder(z)\n",
    "        mask = K.cast(K.not_equal(data, 0), K.floatx())\n",
    "        reconstruction_loss = custom_mse_loss_with_multi_index_scaling(mask*data, mask*reconstruction)\n",
    "#         reconstruction_loss = tf.reduce_mean(keras.losses.mse(mask*data, mask*reconstruction))\n",
    "        reconstruction_loss*=(1-self.beta)\n",
    "\n",
    "        kl_loss = -0.5 * (1 + z_log_var - tf.square(z_mean) - tf.exp(z_log_var))\n",
    "        kl_loss = tf.reduce_mean(kl_loss)        \n",
    "        kl_loss *=self.beta\n",
    "        \n",
    "        total_loss = reconstruction_loss + kl_loss\n",
    "        \n",
    "        return {\n",
    "            \"loss\": total_loss,\n",
    "            \"reco_loss\": reconstruction_loss,\n",
    "            \"kl_loss\": kl_loss,\n",
    "            \"beta\": self.beta,\n",
    "        }\n",
    "\n",
    "    def call(self, data):\n",
    "        z_mean,z_log_var,x = self.encoder(data)\n",
    "        reconstruction = self.decoder(x)\n",
    "        return {\n",
    "            \"z_mean\": z_mean,\n",
    "            \"z_log_var\": z_log_var,\n",
    "            \"reconstruction\": reconstruction\n",
    "        } "
   ]
  },
  {
   "cell_type": "code",
   "execution_count": 25,
   "id": "8ffb0f57",
   "metadata": {},
   "outputs": [],
   "source": [
    "def weighted_mse(y_true, y_pred, sample_weight):\n",
    "    return tf.reduce_mean(tf.multiply(sample_weight, tf.square(y_true - y_pred)))"
   ]
  },
  {
   "cell_type": "code",
   "execution_count": 26,
   "id": "dfc8cb19",
   "metadata": {},
   "outputs": [],
   "source": [
    "NUM_EPOCHS = 100\n",
    "BATCH_SIZE = 16384\n",
    "STOP_PATIENCE = 20\n",
    "LR_PATIENCE = 15"
   ]
  },
  {
   "cell_type": "code",
   "execution_count": 27,
   "id": "306b66b6-96f3-4e7d-ac72-d24cd1002dea",
   "metadata": {
    "scrolled": true
   },
   "outputs": [
    {
     "name": "stdout",
     "output_type": "stream",
     "text": [
      "Model: \"encoder\"\n",
      "__________________________________________________________________________________________________\n",
      " Layer (type)                Output Shape                 Param #   Connected to                  \n",
      "==================================================================================================\n",
      " input (InputLayer)          [(None, 57)]                 0         []                            \n",
      "                                                                                                  \n",
      " dense1 (Dense)              (None, 256)                  14848     ['input[0][0]']               \n",
      "                                                                                                  \n",
      " relu1 (ReLU)                (None, 256)                  0         ['dense1[0][0]']              \n",
      "                                                                                                  \n",
      " dense2 (Dense)              (None, 128)                  32896     ['relu1[0][0]']               \n",
      "                                                                                                  \n",
      " relu2 (ReLU)                (None, 128)                  0         ['dense2[0][0]']              \n",
      "                                                                                                  \n",
      " z_mean (Dense)              (None, 24)                   3096      ['relu2[0][0]']               \n",
      "                                                                                                  \n",
      " z_log_var (Dense)           (None, 24)                   3096      ['relu2[0][0]']               \n",
      "                                                                                                  \n",
      " sampling_2 (Sampling)       (None, 24)                   0         ['z_mean[0][0]',              \n",
      "                                                                     'z_log_var[0][0]']           \n",
      "                                                                                                  \n",
      "==================================================================================================\n",
      "Total params: 53936 (210.69 KB)\n",
      "Trainable params: 53936 (210.69 KB)\n",
      "Non-trainable params: 0 (0.00 Byte)\n",
      "__________________________________________________________________________________________________\n",
      "Model: \"decoder\"\n",
      "_________________________________________________________________\n",
      " Layer (type)                Output Shape              Param #   \n",
      "=================================================================\n",
      " input_3 (InputLayer)        [(None, 24)]              0         \n",
      "                                                                 \n",
      " dense_6 (Dense)             (None, 128)               3200      \n",
      "                                                                 \n",
      " batch_normalization_4 (Bat  (None, 128)               512       \n",
      " chNormalization)                                                \n",
      "                                                                 \n",
      " dense_7 (Dense)             (None, 256)               33024     \n",
      "                                                                 \n",
      " batch_normalization_5 (Bat  (None, 256)               1024      \n",
      " chNormalization)                                                \n",
      "                                                                 \n",
      " dense_8 (Dense)             (None, 57)                14649     \n",
      "                                                                 \n",
      "=================================================================\n",
      "Total params: 52409 (204.72 KB)\n",
      "Trainable params: 51641 (201.72 KB)\n",
      "Non-trainable params: 768 (3.00 KB)\n",
      "_________________________________________________________________\n"
     ]
    }
   ],
   "source": [
    "#TOPO 2A Trainer\n",
    "\n",
    "T2A_enc = Qmake_encoder_set_weights(X_train.shape[1],256,128,24)\n",
    "T2A_dec = Qmake_decoder_set_weights(X_train.shape[1],256,128,24)\n",
    "steps_per_epoch = X_train.shape[0] // BATCH_SIZE\n",
    "T2A = VAE_Model(T2A_enc, T2A_dec, steps_per_epoch=steps_per_epoch, cycle_length=10, min_beta=0.95, max_beta=0.95)\n",
    "opt = keras.optimizers.Adam(learning_rate=0.001)\n",
    "T2A.compile(optimizer=opt,weighted_metrics=[weighted_mse]) #,weighted_metrics=[weighted_mse]\n",
    "# T2A.build(input_shape=(997315, 110))\n",
    "T2A_enc.summary()\n",
    "T2A_dec.summary()\n"
   ]
  },
  {
   "cell_type": "code",
   "execution_count": 28,
   "id": "f6fbfc6c",
   "metadata": {},
   "outputs": [
    {
     "name": "stdout",
     "output_type": "stream",
     "text": [
      "Epoch 1/100\n",
      "157/157 [==============================] - 32s 186ms/step - loss: 1286.3432 - reco_loss: 1285.5269 - kl_loss: 1.4102 - beta: 0.9505 - val_loss: 39.9691 - val_reco_loss: 36.8578 - val_kl_loss: 3.1113 - val_beta: 0.9505 - lr: 0.0010\n",
      "Epoch 2/100\n",
      "157/157 [==============================] - 28s 180ms/step - loss: 462.9170 - reco_loss: 459.5424 - kl_loss: 3.7763 - beta: 0.9505 - val_loss: 33.2184 - val_reco_loss: 28.0644 - val_kl_loss: 5.1540 - val_beta: 0.9505 - lr: 0.0010\n",
      "Epoch 3/100\n",
      "157/157 [==============================] - 28s 180ms/step - loss: 277.4947 - reco_loss: 272.9536 - kl_loss: 4.7347 - beta: 0.9503 - val_loss: 23.6573 - val_reco_loss: 17.9285 - val_kl_loss: 5.7287 - val_beta: 0.9503 - lr: 0.0010\n",
      "Epoch 4/100\n",
      "157/157 [==============================] - 28s 179ms/step - loss: 188.9450 - reco_loss: 183.8902 - kl_loss: 5.1849 - beta: 0.9505 - val_loss: 29.3813 - val_reco_loss: 23.0159 - val_kl_loss: 6.3653 - val_beta: 0.9505 - lr: 0.0010\n",
      "Epoch 5/100\n",
      "157/157 [==============================] - 28s 179ms/step - loss: 167.2525 - reco_loss: 162.0551 - kl_loss: 5.3228 - beta: 0.9502 - val_loss: 20.5772 - val_reco_loss: 13.9178 - val_kl_loss: 6.6594 - val_beta: 0.9502 - lr: 0.0010\n",
      "Epoch 6/100\n",
      "157/157 [==============================] - 28s 180ms/step - loss: 121.5240 - reco_loss: 115.9366 - kl_loss: 5.5220 - beta: 0.9502 - val_loss: 17.4562 - val_reco_loss: 10.9111 - val_kl_loss: 6.5450 - val_beta: 0.9502 - lr: 0.0010\n",
      "Epoch 7/100\n",
      "157/157 [==============================] - 28s 180ms/step - loss: 95.2035 - reco_loss: 89.6347 - kl_loss: 5.5822 - beta: 0.9502 - val_loss: 17.1084 - val_reco_loss: 10.4637 - val_kl_loss: 6.6448 - val_beta: 0.9502 - lr: 0.0010\n",
      "Epoch 8/100\n",
      "157/157 [==============================] - 28s 179ms/step - loss: 92.1129 - reco_loss: 86.4601 - kl_loss: 5.5541 - beta: 0.9502 - val_loss: 16.2012 - val_reco_loss: 9.7705 - val_kl_loss: 6.4308 - val_beta: 0.9502 - lr: 0.0010\n",
      "Epoch 9/100\n",
      "157/157 [==============================] - 29s 187ms/step - loss: 78.3607 - reco_loss: 72.8356 - kl_loss: 5.5177 - beta: 0.9502 - val_loss: 15.1532 - val_reco_loss: 8.7728 - val_kl_loss: 6.3804 - val_beta: 0.9502 - lr: 0.0010\n",
      "Epoch 10/100\n",
      "157/157 [==============================] - 28s 180ms/step - loss: 59.5513 - reco_loss: 54.1679 - kl_loss: 5.5275 - beta: 0.9503 - val_loss: 14.9075 - val_reco_loss: 8.6078 - val_kl_loss: 6.2997 - val_beta: 0.9503 - lr: 0.0010\n",
      "Epoch 11/100\n",
      "157/157 [==============================] - 28s 181ms/step - loss: 64.6971 - reco_loss: 59.2145 - kl_loss: 5.4721 - beta: 0.9502 - val_loss: 14.9236 - val_reco_loss: 8.6705 - val_kl_loss: 6.2531 - val_beta: 0.9502 - lr: 0.0010\n",
      "Epoch 12/100\n",
      "157/157 [==============================] - 28s 180ms/step - loss: 62.4764 - reco_loss: 57.0478 - kl_loss: 5.4300 - beta: 0.9502 - val_loss: 14.1607 - val_reco_loss: 7.9895 - val_kl_loss: 6.1712 - val_beta: 0.9502 - lr: 0.0010\n",
      "Epoch 13/100\n",
      "157/157 [==============================] - 28s 180ms/step - loss: 53.3673 - reco_loss: 48.0820 - kl_loss: 5.3491 - beta: 0.9503 - val_loss: 13.0990 - val_reco_loss: 7.0765 - val_kl_loss: 6.0225 - val_beta: 0.9503 - lr: 0.0010\n",
      "Epoch 14/100\n",
      "157/157 [==============================] - 28s 180ms/step - loss: 56.6274 - reco_loss: 51.4190 - kl_loss: 5.2383 - beta: 0.9502 - val_loss: 12.4040 - val_reco_loss: 6.4531 - val_kl_loss: 5.9509 - val_beta: 0.9502 - lr: 0.0010\n",
      "Epoch 15/100\n",
      "157/157 [==============================] - 28s 180ms/step - loss: 57.2148 - reco_loss: 52.0437 - kl_loss: 5.2033 - beta: 0.9502 - val_loss: 12.3157 - val_reco_loss: 6.4710 - val_kl_loss: 5.8447 - val_beta: 0.9502 - lr: 0.0010\n",
      "Epoch 16/100\n",
      "157/157 [==============================] - 28s 180ms/step - loss: 55.8530 - reco_loss: 50.6067 - kl_loss: 5.1439 - beta: 0.9502 - val_loss: 11.3299 - val_reco_loss: 5.5301 - val_kl_loss: 5.7998 - val_beta: 0.9502 - lr: 0.0010\n",
      "Epoch 17/100\n",
      "157/157 [==============================] - 28s 179ms/step - loss: 51.9013 - reco_loss: 46.8099 - kl_loss: 5.0587 - beta: 0.9503 - val_loss: 11.4389 - val_reco_loss: 5.8102 - val_kl_loss: 5.6287 - val_beta: 0.9503 - lr: 0.0010\n",
      "Epoch 18/100\n",
      "157/157 [==============================] - 28s 180ms/step - loss: 53.9373 - reco_loss: 48.9029 - kl_loss: 5.0077 - beta: 0.9502 - val_loss: 9.8392 - val_reco_loss: 4.1421 - val_kl_loss: 5.6971 - val_beta: 0.9502 - lr: 0.0010\n",
      "Epoch 19/100\n",
      "157/157 [==============================] - 28s 180ms/step - loss: 41.5982 - reco_loss: 36.5716 - kl_loss: 5.0208 - beta: 0.9503 - val_loss: 11.3353 - val_reco_loss: 5.7515 - val_kl_loss: 5.5838 - val_beta: 0.9503 - lr: 0.0010\n",
      "Epoch 20/100\n",
      "157/157 [==============================] - 28s 180ms/step - loss: 39.6664 - reco_loss: 34.7450 - kl_loss: 4.9437 - beta: 0.9503 - val_loss: 10.6825 - val_reco_loss: 5.2620 - val_kl_loss: 5.4205 - val_beta: 0.9503 - lr: 0.0010\n",
      "Epoch 21/100\n",
      "157/157 [==============================] - 28s 181ms/step - loss: 37.1534 - reco_loss: 32.2457 - kl_loss: 4.9001 - beta: 0.9502 - val_loss: 9.9903 - val_reco_loss: 4.6782 - val_kl_loss: 5.3121 - val_beta: 0.9502 - lr: 0.0010\n",
      "Epoch 22/100\n",
      "157/157 [==============================] - 28s 181ms/step - loss: 35.6702 - reco_loss: 30.9010 - kl_loss: 4.8317 - beta: 0.9503 - val_loss: 8.8935 - val_reco_loss: 3.5774 - val_kl_loss: 5.3161 - val_beta: 0.9503 - lr: 0.0010\n",
      "Epoch 23/100\n",
      "157/157 [==============================] - 28s 180ms/step - loss: 32.0692 - reco_loss: 27.3636 - kl_loss: 4.7854 - beta: 0.9504 - val_loss: 9.0125 - val_reco_loss: 3.8009 - val_kl_loss: 5.2116 - val_beta: 0.9504 - lr: 0.0010\n",
      "Epoch 24/100\n",
      "157/157 [==============================] - 28s 180ms/step - loss: 45.2479 - reco_loss: 40.5419 - kl_loss: 4.7005 - beta: 0.9503 - val_loss: 8.9380 - val_reco_loss: 3.7534 - val_kl_loss: 5.1845 - val_beta: 0.9503 - lr: 0.0010\n",
      "Epoch 25/100\n",
      "157/157 [==============================] - 29s 183ms/step - loss: 38.2595 - reco_loss: 33.6222 - kl_loss: 4.6462 - beta: 0.9503 - val_loss: 8.7627 - val_reco_loss: 3.6963 - val_kl_loss: 5.0664 - val_beta: 0.9503 - lr: 0.0010\n",
      "Epoch 26/100\n",
      "157/157 [==============================] - 28s 182ms/step - loss: 39.0784 - reco_loss: 34.4355 - kl_loss: 4.6067 - beta: 0.9504 - val_loss: 8.1286 - val_reco_loss: 3.0185 - val_kl_loss: 5.1101 - val_beta: 0.9504 - lr: 0.0010\n",
      "Epoch 27/100\n",
      "157/157 [==============================] - 28s 182ms/step - loss: 45.2966 - reco_loss: 40.7807 - kl_loss: 4.5469 - beta: 0.9504 - val_loss: 9.0600 - val_reco_loss: 4.1018 - val_kl_loss: 4.9582 - val_beta: 0.9504 - lr: 0.0010\n",
      "Epoch 28/100\n",
      "157/157 [==============================] - 29s 183ms/step - loss: 36.1377 - reco_loss: 31.5619 - kl_loss: 4.5693 - beta: 0.9503 - val_loss: 8.1102 - val_reco_loss: 3.0443 - val_kl_loss: 5.0660 - val_beta: 0.9503 - lr: 0.0010\n",
      "Epoch 29/100\n",
      "157/157 [==============================] - 29s 183ms/step - loss: 37.1654 - reco_loss: 32.6002 - kl_loss: 4.5257 - beta: 0.9503 - val_loss: 8.6146 - val_reco_loss: 3.7119 - val_kl_loss: 4.9026 - val_beta: 0.9503 - lr: 0.0010\n",
      "Epoch 30/100\n",
      "157/157 [==============================] - 28s 180ms/step - loss: 41.1023 - reco_loss: 36.5531 - kl_loss: 4.4685 - beta: 0.9503 - val_loss: 7.6459 - val_reco_loss: 2.7319 - val_kl_loss: 4.9140 - val_beta: 0.9503 - lr: 0.0010\n",
      "Epoch 31/100\n",
      "157/157 [==============================] - 28s 180ms/step - loss: 37.7733 - reco_loss: 33.3333 - kl_loss: 4.3975 - beta: 0.9505 - val_loss: 8.5814 - val_reco_loss: 3.8484 - val_kl_loss: 4.7330 - val_beta: 0.9505 - lr: 0.0010\n",
      "Epoch 32/100\n",
      "157/157 [==============================] - 28s 181ms/step - loss: 45.3614 - reco_loss: 40.8794 - kl_loss: 4.4746 - beta: 0.9503 - val_loss: 7.5857 - val_reco_loss: 2.7061 - val_kl_loss: 4.8796 - val_beta: 0.9503 - lr: 0.0010\n",
      "Epoch 33/100\n",
      "157/157 [==============================] - 28s 180ms/step - loss: 34.6758 - reco_loss: 30.2358 - kl_loss: 4.4134 - beta: 0.9503 - val_loss: 8.1806 - val_reco_loss: 3.2632 - val_kl_loss: 4.9174 - val_beta: 0.9503 - lr: 0.0010\n",
      "Epoch 34/100\n",
      "157/157 [==============================] - 29s 183ms/step - loss: 35.2178 - reco_loss: 30.8325 - kl_loss: 4.3819 - beta: 0.9503 - val_loss: 7.3480 - val_reco_loss: 2.4559 - val_kl_loss: 4.8921 - val_beta: 0.9503 - lr: 0.0010\n",
      "Epoch 35/100\n",
      "157/157 [==============================] - 28s 180ms/step - loss: 25.4391 - reco_loss: 21.0775 - kl_loss: 4.3694 - beta: 0.9505 - val_loss: 7.7553 - val_reco_loss: 2.8351 - val_kl_loss: 4.9202 - val_beta: 0.9505 - lr: 0.0010\n",
      "Epoch 36/100\n",
      "157/157 [==============================] - 28s 181ms/step - loss: 33.7631 - reco_loss: 29.4023 - kl_loss: 4.2999 - beta: 0.9504 - val_loss: 7.5897 - val_reco_loss: 2.8503 - val_kl_loss: 4.7394 - val_beta: 0.9504 - lr: 0.0010\n",
      "Epoch 37/100\n",
      "157/157 [==============================] - 29s 182ms/step - loss: 27.3005 - reco_loss: 22.9724 - kl_loss: 4.3109 - beta: 0.9504 - val_loss: 6.7552 - val_reco_loss: 2.1582 - val_kl_loss: 4.5970 - val_beta: 0.9504 - lr: 0.0010\n",
      "Epoch 38/100\n",
      "157/157 [==============================] - 28s 181ms/step - loss: 26.7856 - reco_loss: 22.4851 - kl_loss: 4.3029 - beta: 0.9503 - val_loss: 6.9783 - val_reco_loss: 2.2752 - val_kl_loss: 4.7031 - val_beta: 0.9503 - lr: 0.0010\n",
      "Epoch 39/100\n",
      "157/157 [==============================] - 29s 182ms/step - loss: 28.1342 - reco_loss: 23.8719 - kl_loss: 4.2438 - beta: 0.9504 - val_loss: 6.7800 - val_reco_loss: 2.2293 - val_kl_loss: 4.5506 - val_beta: 0.9504 - lr: 0.0010\n",
      "Epoch 40/100\n",
      "157/157 [==============================] - 29s 182ms/step - loss: 24.9089 - reco_loss: 20.6715 - kl_loss: 4.2281 - beta: 0.9504 - val_loss: 6.8698 - val_reco_loss: 2.3181 - val_kl_loss: 4.5516 - val_beta: 0.9504 - lr: 0.0010\n",
      "Epoch 41/100\n",
      "157/157 [==============================] - 28s 182ms/step - loss: 30.3566 - reco_loss: 26.1551 - kl_loss: 4.1793 - beta: 0.9504 - val_loss: 6.7686 - val_reco_loss: 2.1996 - val_kl_loss: 4.5689 - val_beta: 0.9504 - lr: 0.0010\n",
      "Epoch 42/100\n",
      "157/157 [==============================] - 29s 182ms/step - loss: 23.4241 - reco_loss: 19.2785 - kl_loss: 4.1498 - beta: 0.9505 - val_loss: 7.5464 - val_reco_loss: 3.0325 - val_kl_loss: 4.5140 - val_beta: 0.9505 - lr: 0.0010\n",
      "Epoch 43/100\n",
      "157/157 [==============================] - 28s 180ms/step - loss: 34.4272 - reco_loss: 30.3440 - kl_loss: 4.1045 - beta: 0.9505 - val_loss: 7.0839 - val_reco_loss: 2.8166 - val_kl_loss: 4.2672 - val_beta: 0.9505 - lr: 0.0010\n",
      "Epoch 44/100\n",
      "157/157 [==============================] - 28s 180ms/step - loss: 30.6960 - reco_loss: 26.6419 - kl_loss: 4.0935 - beta: 0.9510 - val_loss: 7.0509 - val_reco_loss: 2.6000 - val_kl_loss: 4.4508 - val_beta: 0.9510 - lr: 0.0010\n",
      "Epoch 45/100\n",
      "157/157 [==============================] - 28s 180ms/step - loss: 31.8100 - reco_loss: 27.7117 - kl_loss: 4.1121 - beta: 0.9504 - val_loss: 6.6668 - val_reco_loss: 2.2857 - val_kl_loss: 4.3811 - val_beta: 0.9504 - lr: 0.0010\n",
      "Epoch 46/100\n",
      "157/157 [==============================] - 29s 183ms/step - loss: 29.6149 - reco_loss: 25.5296 - kl_loss: 4.0879 - beta: 0.9504 - val_loss: 7.1195 - val_reco_loss: 2.6175 - val_kl_loss: 4.5020 - val_beta: 0.9504 - lr: 0.0010\n",
      "Epoch 47/100\n",
      "157/157 [==============================] - 28s 181ms/step - loss: 25.2413 - reco_loss: 21.1952 - kl_loss: 4.0613 - beta: 0.9508 - val_loss: 6.9541 - val_reco_loss: 2.6262 - val_kl_loss: 4.3278 - val_beta: 0.9508 - lr: 0.0010\n",
      "Epoch 48/100\n",
      "157/157 [==============================] - 29s 183ms/step - loss: 27.1906 - reco_loss: 23.1686 - kl_loss: 4.0375 - beta: 0.9507 - val_loss: 7.0453 - val_reco_loss: 2.5773 - val_kl_loss: 4.4680 - val_beta: 0.9507 - lr: 0.0010\n",
      "Epoch 49/100\n",
      "157/157 [==============================] - 29s 183ms/step - loss: 23.8353 - reco_loss: 19.8403 - kl_loss: 4.0279 - beta: 0.9505 - val_loss: 6.4983 - val_reco_loss: 2.0128 - val_kl_loss: 4.4855 - val_beta: 0.9505 - lr: 0.0010\n",
      "Epoch 50/100\n",
      "157/157 [==============================] - 28s 181ms/step - loss: 33.3898 - reco_loss: 29.3464 - kl_loss: 4.0199 - beta: 0.9503 - val_loss: 5.9998 - val_reco_loss: 1.6404 - val_kl_loss: 4.3594 - val_beta: 0.9503 - lr: 0.0010\n",
      "Epoch 51/100\n",
      "157/157 [==============================] - 29s 183ms/step - loss: 20.3154 - reco_loss: 16.3176 - kl_loss: 4.0224 - beta: 0.9505 - val_loss: 6.3614 - val_reco_loss: 2.0565 - val_kl_loss: 4.3049 - val_beta: 0.9505 - lr: 0.0010\n",
      "Epoch 52/100\n",
      "157/157 [==============================] - 28s 182ms/step - loss: 22.9903 - reco_loss: 18.9835 - kl_loss: 4.0060 - beta: 0.9505 - val_loss: 6.5713 - val_reco_loss: 2.2665 - val_kl_loss: 4.3048 - val_beta: 0.9505 - lr: 0.0010\n",
      "Epoch 53/100\n",
      "157/157 [==============================] - 29s 183ms/step - loss: 24.6589 - reco_loss: 20.7204 - kl_loss: 3.9707 - beta: 0.9504 - val_loss: 6.1116 - val_reco_loss: 1.8472 - val_kl_loss: 4.2644 - val_beta: 0.9504 - lr: 0.0010\n",
      "Epoch 54/100\n",
      "157/157 [==============================] - 29s 183ms/step - loss: 23.7564 - reco_loss: 19.8241 - kl_loss: 3.9551 - beta: 0.9506 - val_loss: 6.1314 - val_reco_loss: 1.9557 - val_kl_loss: 4.1757 - val_beta: 0.9506 - lr: 0.0010\n",
      "Epoch 55/100\n",
      "157/157 [==============================] - 28s 181ms/step - loss: 28.3501 - reco_loss: 24.4109 - kl_loss: 3.9154 - beta: 0.9503 - val_loss: 5.8240 - val_reco_loss: 1.6535 - val_kl_loss: 4.1706 - val_beta: 0.9503 - lr: 0.0010\n",
      "Epoch 56/100\n",
      "157/157 [==============================] - 29s 183ms/step - loss: 24.7187 - reco_loss: 20.7930 - kl_loss: 3.9106 - beta: 0.9503 - val_loss: 5.7170 - val_reco_loss: 1.5220 - val_kl_loss: 4.1950 - val_beta: 0.9503 - lr: 0.0010\n",
      "Epoch 57/100\n",
      "157/157 [==============================] - 29s 182ms/step - loss: 18.7259 - reco_loss: 14.8288 - kl_loss: 3.9029 - beta: 0.9504 - val_loss: 6.2819 - val_reco_loss: 2.1708 - val_kl_loss: 4.1111 - val_beta: 0.9504 - lr: 0.0010\n",
      "Epoch 58/100\n",
      "157/157 [==============================] - 28s 180ms/step - loss: 35.7137 - reco_loss: 31.8723 - kl_loss: 3.8576 - beta: 0.9504 - val_loss: 5.6852 - val_reco_loss: 1.5553 - val_kl_loss: 4.1299 - val_beta: 0.9504 - lr: 0.0010\n",
      "Epoch 59/100\n",
      "157/157 [==============================] - 28s 179ms/step - loss: 50.3783 - reco_loss: 46.5588 - kl_loss: 3.8481 - beta: 0.9503 - val_loss: 5.6344 - val_reco_loss: 1.5215 - val_kl_loss: 4.1129 - val_beta: 0.9503 - lr: 0.0010\n",
      "Epoch 60/100\n",
      "157/157 [==============================] - 28s 179ms/step - loss: 25.6223 - reco_loss: 21.7755 - kl_loss: 3.8509 - beta: 0.9503 - val_loss: 5.7357 - val_reco_loss: 1.6110 - val_kl_loss: 4.1247 - val_beta: 0.9503 - lr: 0.0010\n",
      "Epoch 61/100\n",
      "157/157 [==============================] - 29s 182ms/step - loss: 21.4350 - reco_loss: 17.5875 - kl_loss: 3.8426 - beta: 0.9503 - val_loss: 6.8491 - val_reco_loss: 2.7161 - val_kl_loss: 4.1330 - val_beta: 0.9503 - lr: 0.0010\n",
      "Epoch 62/100\n",
      "157/157 [==============================] - 29s 187ms/step - loss: 22.9278 - reco_loss: 19.1165 - kl_loss: 3.8229 - beta: 0.9505 - val_loss: 6.7413 - val_reco_loss: 2.6434 - val_kl_loss: 4.0979 - val_beta: 0.9505 - lr: 0.0010\n",
      "Epoch 63/100\n",
      "157/157 [==============================] - 29s 183ms/step - loss: 33.7011 - reco_loss: 29.9213 - kl_loss: 3.7991 - beta: 0.9503 - val_loss: 6.2016 - val_reco_loss: 2.0199 - val_kl_loss: 4.1816 - val_beta: 0.9503 - lr: 0.0010\n",
      "Epoch 64/100\n",
      "157/157 [==============================] - 28s 180ms/step - loss: 37.2825 - reco_loss: 33.4243 - kl_loss: 3.9384 - beta: 0.9505 - val_loss: 7.9798 - val_reco_loss: 3.6441 - val_kl_loss: 4.3356 - val_beta: 0.9505 - lr: 0.0010\n",
      "Epoch 65/100\n",
      "157/157 [==============================] - 28s 182ms/step - loss: 31.7776 - reco_loss: 27.8934 - kl_loss: 3.8786 - beta: 0.9503 - val_loss: 5.7419 - val_reco_loss: 1.5146 - val_kl_loss: 4.2273 - val_beta: 0.9503 - lr: 0.0010\n",
      "Epoch 66/100\n",
      "157/157 [==============================] - 28s 179ms/step - loss: 19.4405 - reco_loss: 15.5973 - kl_loss: 3.8779 - beta: 0.9503 - val_loss: 6.1527 - val_reco_loss: 1.9400 - val_kl_loss: 4.2127 - val_beta: 0.9503 - lr: 0.0010\n",
      "Epoch 67/100\n",
      "157/157 [==============================] - 28s 178ms/step - loss: 19.0048 - reco_loss: 15.1464 - kl_loss: 3.8724 - beta: 0.9504 - val_loss: 6.3188 - val_reco_loss: 2.1279 - val_kl_loss: 4.1909 - val_beta: 0.9504 - lr: 0.0010\n",
      "Epoch 68/100\n",
      "157/157 [==============================] - 28s 180ms/step - loss: 26.0642 - reco_loss: 22.2578 - kl_loss: 3.8224 - beta: 0.9503 - val_loss: 5.5408 - val_reco_loss: 1.4932 - val_kl_loss: 4.0477 - val_beta: 0.9503 - lr: 0.0010\n",
      "Epoch 69/100\n"
     ]
    },
    {
     "name": "stdout",
     "output_type": "stream",
     "text": [
      "157/157 [==============================] - 28s 178ms/step - loss: 18.0588 - reco_loss: 14.2379 - kl_loss: 3.8531 - beta: 0.9503 - val_loss: 5.7553 - val_reco_loss: 1.6565 - val_kl_loss: 4.0987 - val_beta: 0.9503 - lr: 0.0010\n",
      "Epoch 70/100\n",
      "157/157 [==============================] - 28s 179ms/step - loss: 20.0885 - reco_loss: 16.2680 - kl_loss: 3.8228 - beta: 0.9503 - val_loss: 5.4432 - val_reco_loss: 1.3281 - val_kl_loss: 4.1151 - val_beta: 0.9503 - lr: 0.0010\n",
      "Epoch 71/100\n",
      "157/157 [==============================] - 28s 179ms/step - loss: 19.8784 - reco_loss: 16.0535 - kl_loss: 3.8022 - beta: 0.9503 - val_loss: 5.8484 - val_reco_loss: 1.7918 - val_kl_loss: 4.0566 - val_beta: 0.9503 - lr: 0.0010\n",
      "Epoch 72/100\n",
      "157/157 [==============================] - 28s 179ms/step - loss: 19.7685 - reco_loss: 15.9788 - kl_loss: 3.7719 - beta: 0.9503 - val_loss: 5.3403 - val_reco_loss: 1.2823 - val_kl_loss: 4.0580 - val_beta: 0.9503 - lr: 0.0010\n",
      "Epoch 73/100\n",
      "157/157 [==============================] - 28s 181ms/step - loss: 18.6013 - reco_loss: 14.8358 - kl_loss: 3.7645 - beta: 0.9504 - val_loss: 5.2752 - val_reco_loss: 1.2931 - val_kl_loss: 3.9821 - val_beta: 0.9504 - lr: 0.0010\n",
      "Epoch 74/100\n",
      "157/157 [==============================] - 28s 181ms/step - loss: 19.6348 - reco_loss: 15.8605 - kl_loss: 3.7774 - beta: 0.9504 - val_loss: 5.7494 - val_reco_loss: 1.6697 - val_kl_loss: 4.0797 - val_beta: 0.9504 - lr: 0.0010\n",
      "Epoch 75/100\n",
      "157/157 [==============================] - 29s 183ms/step - loss: 17.9556 - reco_loss: 14.2220 - kl_loss: 3.7356 - beta: 0.9505 - val_loss: 5.2500 - val_reco_loss: 1.2386 - val_kl_loss: 4.0114 - val_beta: 0.9505 - lr: 0.0010\n",
      "Epoch 76/100\n",
      "157/157 [==============================] - 28s 180ms/step - loss: 22.1199 - reco_loss: 18.4057 - kl_loss: 3.7234 - beta: 0.9505 - val_loss: 5.7247 - val_reco_loss: 1.6439 - val_kl_loss: 4.0808 - val_beta: 0.9505 - lr: 0.0010\n",
      "Epoch 77/100\n",
      "157/157 [==============================] - 28s 180ms/step - loss: 22.6868 - reco_loss: 18.9116 - kl_loss: 3.7502 - beta: 0.9504 - val_loss: 5.3937 - val_reco_loss: 1.3223 - val_kl_loss: 4.0714 - val_beta: 0.9504 - lr: 0.0010\n",
      "Epoch 78/100\n",
      "157/157 [==============================] - 28s 180ms/step - loss: 24.4988 - reco_loss: 20.8107 - kl_loss: 3.7813 - beta: 0.9513 - val_loss: 8.1972 - val_reco_loss: 3.5451 - val_kl_loss: 4.6521 - val_beta: 0.9513 - lr: 0.0010\n",
      "Epoch 79/100\n",
      "157/157 [==============================] - 28s 180ms/step - loss: 54.7301 - reco_loss: 50.6997 - kl_loss: 3.8820 - beta: 0.9504 - val_loss: 6.3409 - val_reco_loss: 2.1705 - val_kl_loss: 4.1704 - val_beta: 0.9504 - lr: 0.0010\n",
      "Epoch 80/100\n",
      "157/157 [==============================] - 29s 184ms/step - loss: 22.4756 - reco_loss: 18.6531 - kl_loss: 3.8356 - beta: 0.9503 - val_loss: 5.5675 - val_reco_loss: 1.4751 - val_kl_loss: 4.0924 - val_beta: 0.9503 - lr: 0.0010\n",
      "Epoch 81/100\n",
      "157/157 [==============================] - 28s 180ms/step - loss: 18.6437 - reco_loss: 14.8917 - kl_loss: 3.8053 - beta: 0.9504 - val_loss: 6.0299 - val_reco_loss: 1.9996 - val_kl_loss: 4.0303 - val_beta: 0.9504 - lr: 0.0010\n",
      "Epoch 82/100\n",
      "157/157 [==============================] - 28s 179ms/step - loss: 13015608722.8270 - reco_loss: 13010261866.4359 - kl_loss: 5882241.0000 - beta: 0.9500 - val_loss: 7.6378 - val_reco_loss: 3.3195 - val_kl_loss: 4.3183 - val_beta: 0.9500 - lr: 0.0010\n",
      "Epoch 83/100\n",
      "157/157 [==============================] - 29s 182ms/step - loss: 49.6251 - reco_loss: 45.4539 - kl_loss: 4.1979 - beta: 0.9500 - val_loss: 6.6899 - val_reco_loss: 2.1996 - val_kl_loss: 4.4903 - val_beta: 0.9500 - lr: 0.0010\n",
      "Epoch 84/100\n",
      "157/157 [==============================] - 28s 180ms/step - loss: 28.6863 - reco_loss: 24.5373 - kl_loss: 4.1371 - beta: 0.9500 - val_loss: 6.2479 - val_reco_loss: 1.8424 - val_kl_loss: 4.4054 - val_beta: 0.9500 - lr: 0.0010\n",
      "Epoch 85/100\n",
      "157/157 [==============================] - 28s 180ms/step - loss: 24.7640 - reco_loss: 20.7170 - kl_loss: 4.0906 - beta: 0.9500 - val_loss: 6.9426 - val_reco_loss: 2.5759 - val_kl_loss: 4.3667 - val_beta: 0.9500 - lr: 0.0010\n",
      "Epoch 86/100\n",
      "157/157 [==============================] - 28s 180ms/step - loss: 22.6983 - reco_loss: 18.6252 - kl_loss: 4.0605 - beta: 0.9500 - val_loss: 6.3010 - val_reco_loss: 1.9987 - val_kl_loss: 4.3023 - val_beta: 0.9500 - lr: 0.0010\n",
      "Epoch 87/100\n",
      "157/157 [==============================] - 28s 179ms/step - loss: 19.6717 - reco_loss: 15.6571 - kl_loss: 4.0623 - beta: 0.9500 - val_loss: 5.9436 - val_reco_loss: 1.6217 - val_kl_loss: 4.3219 - val_beta: 0.9500 - lr: 0.0010\n",
      "Epoch 88/100\n",
      "157/157 [==============================] - 28s 180ms/step - loss: 18.8613 - reco_loss: 14.8163 - kl_loss: 4.0461 - beta: 0.9500 - val_loss: 5.6870 - val_reco_loss: 1.4070 - val_kl_loss: 4.2800 - val_beta: 0.9500 - lr: 0.0010\n",
      "Epoch 89/100\n",
      "157/157 [==============================] - 28s 179ms/step - loss: 18.9692 - reco_loss: 14.9378 - kl_loss: 4.0777 - beta: 0.9500 - val_loss: 5.8958 - val_reco_loss: 1.5644 - val_kl_loss: 4.3315 - val_beta: 0.9500 - lr: 0.0010\n",
      "Epoch 90/100\n",
      "156/157 [============================>.] - ETA: 0s - loss: 19.8635 - reco_loss: 15.8264 - kl_loss: 4.0717 - beta: 0.9500\n",
      "Epoch 90: ReduceLROnPlateau reducing learning rate to 0.0005000000237487257.\n",
      "157/157 [==============================] - 28s 181ms/step - loss: 19.8625 - reco_loss: 15.8249 - kl_loss: 4.0707 - beta: 0.9500 - val_loss: 5.5933 - val_reco_loss: 1.3350 - val_kl_loss: 4.2582 - val_beta: 0.9500 - lr: 0.0010\n",
      "Epoch 91/100\n",
      "157/157 [==============================] - 28s 180ms/step - loss: 21.3621 - reco_loss: 17.2695 - kl_loss: 4.0433 - beta: 0.9500 - val_loss: 5.7842 - val_reco_loss: 1.4631 - val_kl_loss: 4.3211 - val_beta: 0.9500 - lr: 5.0000e-04\n",
      "Epoch 92/100\n",
      "157/157 [==============================] - 28s 180ms/step - loss: 16.1638 - reco_loss: 12.1243 - kl_loss: 4.0420 - beta: 0.9500 - val_loss: 5.6195 - val_reco_loss: 1.3351 - val_kl_loss: 4.2845 - val_beta: 0.9500 - lr: 5.0000e-04\n",
      "Epoch 93/100\n",
      "157/157 [==============================] - 28s 179ms/step - loss: 15.2983 - reco_loss: 11.3140 - kl_loss: 4.0345 - beta: 0.9500 - val_loss: 5.7123 - val_reco_loss: 1.3969 - val_kl_loss: 4.3154 - val_beta: 0.9500 - lr: 5.0000e-04\n",
      "Epoch 94/100\n",
      "157/157 [==============================] - 28s 180ms/step - loss: 15.4418 - reco_loss: 11.3837 - kl_loss: 4.0212 - beta: 0.9500 - val_loss: 5.7865 - val_reco_loss: 1.4767 - val_kl_loss: 4.3098 - val_beta: 0.9500 - lr: 5.0000e-04\n",
      "Epoch 95/100\n",
      "157/157 [==============================] - 28s 180ms/step - loss: 15.0661 - reco_loss: 11.0503 - kl_loss: 4.0153 - beta: 0.9500 - val_loss: 5.5483 - val_reco_loss: 1.2699 - val_kl_loss: 4.2784 - val_beta: 0.9500 - lr: 5.0000e-04\n"
     ]
    }
   ],
   "source": [
    "early_stopping = EarlyStopping(patience=STOP_PATIENCE, restore_best_weights=True)\n",
    "reduce_lr = ReduceLROnPlateau(monitor='val_loss', factor=0.5, patience=LR_PATIENCE, verbose=1)\n",
    "\n",
    "callbacks = [early_stopping, reduce_lr]\n",
    "\n",
    "tf.keras.backend.clear_session()\n",
    "history = T2A.fit(x=X_train, validation_split=0.2, epochs=NUM_EPOCHS, batch_size=BATCH_SIZE, callbacks=callbacks, shuffle=True)\n",
    "T2A.save_weights(filepath='/eos/user/h/hjia/ToyVAE/software_dev/software_model/checkpoint_256_128_24/', save_format='tf')"
   ]
  },
  {
   "cell_type": "code",
   "execution_count": 29,
   "id": "141e7a72",
   "metadata": {},
   "outputs": [
    {
     "data": {
      "image/png": "[encoded data removed]",
      "text/plain": [
       "<Figure size 864x576 with 1 Axes>"
      ]
     },
     "metadata": {
      "needs_background": "light"
     },
     "output_type": "display_data"
    }
   ],
   "source": [
    "import matplotlib.pyplot as plt\n",
    "\n",
    "# Assuming 'history' is the object returned by your model.fit() call\n",
    "\n",
    "# Extract the loss values\n",
    "total_loss = history.history['loss']\n",
    "reco_loss = history.history['reco_loss']\n",
    "kl_loss = history.history['kl_loss']\n",
    "val_total_loss = history.history['val_loss']\n",
    "val_reco_loss = history.history['val_reco_loss']\n",
    "val_kl_loss = history.history['val_kl_loss']\n",
    "\n",
    "# Create a new figure\n",
    "plt.figure(figsize=(12, 8))\n",
    "\n",
    "# Plot training losses\n",
    "plt.plot(total_loss, label='Total Loss', color='blue')\n",
    "plt.plot(reco_loss, label='Reconstruction Loss', color='green')\n",
    "plt.plot(kl_loss, label='KL Loss', color='red')\n",
    "\n",
    "# Plot validation losses\n",
    "plt.plot(val_total_loss, label='Val Total Loss', color='blue', linestyle='--')\n",
    "plt.plot(val_reco_loss, label='Val Reconstruction Loss', color='green', linestyle='--')\n",
    "plt.plot(val_kl_loss, label='Val KL Loss', color='red', linestyle='--')\n",
    "\n",
    "# Customize the plot\n",
    "plt.title('Training and Validation Losses')\n",
    "plt.xlabel('Epoch')\n",
    "plt.ylabel('Loss')\n",
    "plt.yscale(\"log\")\n",
    "plt.legend()\n",
    "plt.grid(True)\n",
    "\n",
    "# Show the plot\n",
    "plt.show()"
   ]
  },
  {
   "cell_type": "code",
   "execution_count": null,
   "id": "52cb5a66",
   "metadata": {},
   "outputs": [],
   "source": [
    "# # Repeat testing\n",
    "# for i in range(0,20):\n",
    "#     T2A_enc = Qmake_encoder_set_weights(X_train.shape[1],256,128,24)\n",
    "#     T2A_dec = Qmake_decoder_set_weights(X_train.shape[1],256,128,24)\n",
    "#     steps_per_epoch = X_train.shape[0] // BATCH_SIZE\n",
    "#     T2A = VAE_Model(T2A_enc, T2A_dec, steps_per_epoch=steps_per_epoch, cycle_length=10, min_beta=0.1, max_beta=0.7)\n",
    "#     # T2A.set_beta(beta)\n",
    "#     opt = keras.optimizers.Adam(learning_rate=0.001)\n",
    "#     T2A.compile(optimizer=opt,weighted_metrics=[weighted_mse]) #,weighted_metrics=[weighted_mse]\n",
    "\n",
    "#     early_stopping = EarlyStopping(patience=STOP_PATIENCE, restore_best_weights=True)\n",
    "#     reduce_lr = ReduceLROnPlateau(monitor='val_loss', factor=0.5, patience=LR_PATIENCE, verbose=1)\n",
    "\n",
    "#     callbacks = [early_stopping, reduce_lr]\n",
    "\n",
    "#     tf.keras.backend.clear_session()\n",
    "#     history = T2A.fit(x=X_train, validation_split=0.2, epochs=NUM_EPOCHS, batch_size=BATCH_SIZE, callbacks=callbacks, shuffle=True)\n",
    "#     T2A.save_weights(filepath='/eos/user/h/hjia/ToyVAE/software_dev/software_model/checkpoint_small/Repeat_Testing/small_{}/'.format(i), save_format='tf')"
   ]
  },
  {
   "cell_type": "code",
   "execution_count": 30,
   "id": "2bed99e9",
   "metadata": {},
   "outputs": [],
   "source": [
    "# signals_file = [\"/eos/user/h/hjia/AnomalyDetection/liam_AD/training_notebooks/Ato4l_dataset.h5\",\n",
    "#                 \"/eos/user/h/hjia/AnomalyDetection/liam_AD/training_notebooks/hToTauTau_dataset.h5\",\n",
    "#                 \"/eos/user/h/hjia/AnomalyDetection/liam_AD/training_notebooks/hChToTauNu_dataset.h5\",\n",
    "#                 \"/eos/user/h/hjia/AnomalyDetection/liam_AD/training_notebooks/leptoquark_dataset.h5\"]\n",
    "signal_labels = [\"Ato4l\",\n",
    "                \"hToTauTau\",\n",
    "                \"hChToTauNu\",\n",
    "                \"leptoquark\"]"
   ]
  },
  {
   "cell_type": "code",
   "execution_count": 31,
   "id": "e6bf5f46",
   "metadata": {},
   "outputs": [],
   "source": [
    "signal_data = [Ato4l_data,\n",
    "               hToTauTau_data,\n",
    "               hChToTauNu_data,\n",
    "               leptoquark_data]\n",
    "# for i, label in enumerate(signal_labels):\n",
    "#     with h5py.File(signals_file[i], 'r') as file:\n",
    "#         test_data = np.array(scaler.transform(file['Data']))\n",
    "# #         test_data = scale_columns(np.array(file['Data']))\n",
    "#         signal_data.append(test_data)"
   ]
  },
  {
   "cell_type": "code",
   "execution_count": 32,
   "id": "405e3c55",
   "metadata": {},
   "outputs": [],
   "source": [
    "def AD_score_KL(z_mean, z_log_var):\n",
    "    kl_loss = np.mean(-0.5 * (1 + z_log_var - (z_mean) ** 2 - np.exp(z_log_var)))\n",
    "    return kl_loss\n",
    "\n",
    "def AD_score_CKL(z_mean, z_log_var):\n",
    "    CKL = np.mean(z_mean**2)\n",
    "    return CKL\n",
    "\n",
    "class Model_Evaluator:\n",
    "    def __init__(\n",
    "        self,\n",
    "        model_path,\n",
    "        background,\n",
    "        br_weights,\n",
    "        signal,\n",
    "        signal_weights,\n",
    "        input_dim,\n",
    "        title=\"placeholder\",\n",
    "        save=False,\n",
    "        labels=None,\n",
    "    ):\n",
    "\n",
    "        self.input_dim = input_dim\n",
    "        vae_enc = Qmake_encoder_set_weights(input_dim, 256,128,24)\n",
    "        vae_dec = Qmake_decoder_set_weights(input_dim, 256,128,24)\n",
    "        self.model = VAE_Model(vae_enc, vae_dec)\n",
    "        self.model.load_weights(model_path)\n",
    "        self.encoder = self.model.get_layer(\"encoder\")\n",
    "        self.signal = signal\n",
    "        self.background = background\n",
    "        self.br_loss = []\n",
    "        self.signal_loss = []\n",
    "        self.background_outputs = []\n",
    "        self.signal_outputs = []\n",
    "        self.title = title\n",
    "        self.saveplots = save\n",
    "        self.labels = labels\n",
    "        self.latent_info = []\n",
    "        self.br_weights = br_weights\n",
    "        self.signal_weights = signal_weights\n",
    "\n",
    "    def calculate_loss(self, l_type):\n",
    "        self.signal_loss = []\n",
    "        self.br_loss = []\n",
    "        br = self.background\n",
    "\n",
    "        if l_type == \"CKL\":\n",
    "            br_latent = np.array(self.encoder.predict(br))\n",
    "            self.latent_info += [br_latent[0]]\n",
    "            l = []\n",
    "            for i in range(0, br.shape[0]):\n",
    "                loss = AD_score_CKL(br_latent[0][i], br_latent[1][i])\n",
    "                l += [loss]\n",
    "            self.br_loss = l\n",
    "\n",
    "            for i, batch in enumerate(self.signal):\n",
    "                sg_latent = np.array(self.encoder.predict(batch))\n",
    "                self.latent_info += [sg_latent[0]]\n",
    "                l = []\n",
    "\n",
    "                for i in range(0, batch.shape[0]):\n",
    "                    loss = AD_score_CKL(sg_latent[0][i], sg_latent[1][i])\n",
    "                    l += [loss]\n",
    "\n",
    "                sg_loss = l\n",
    "\n",
    "                self.signal_loss += [sg_loss]\n",
    "\n",
    "        if l_type == \"KL\":\n",
    "            br_latent = np.array(self.encoder.predict(br))\n",
    "            l = []\n",
    "            for i in range(0, br.shape[0]):\n",
    "                loss = AD_score_KL(br_latent[0][i], br_latent[1][i])\n",
    "                l += [loss]\n",
    "            self.br_loss = l\n",
    "\n",
    "            for i, batch in enumerate(self.signal):\n",
    "                sg_latent = np.array(self.encoder.predict(batch))\n",
    "\n",
    "                l = []\n",
    "\n",
    "                for i in range(0, batch.shape[0]):\n",
    "                    loss = AD_score_KL(sg_latent[0][i], sg_latent[1][i])\n",
    "                    l += [loss]\n",
    "\n",
    "                sg_loss = l\n",
    "\n",
    "                self.signal_loss += [sg_loss]        \n",
    "\n",
    "    def ROC(self):\n",
    "        target_fpr = 1e-5\n",
    "        tpr_at_target = []\n",
    "        thresholds_at_target = []\n",
    "\n",
    "        plt.plot(\n",
    "            np.linspace(0, 1, 1000), np.linspace(0, 1, 1000), \"--\", label=\"diagonal\"\n",
    "        )\n",
    "        for j, batch in enumerate(self.signal_loss):\n",
    "            sig_w = self.signal_weights[j]\n",
    "            br_w = self.br_weights\n",
    "            weights = np.concatenate((br_w, sig_w))\n",
    "            truth = []\n",
    "            for i in range(len(self.br_loss)):\n",
    "                truth += [0]\n",
    "            for i in range(len(batch)):\n",
    "                truth += [1]\n",
    "            ROC_data = np.concatenate((self.br_loss, batch))\n",
    "            fpr, tpr, thresholds = sk.roc_curve(truth, ROC_data, sample_weight=weights)\n",
    "            # auc=np.trapz(tpr,fpr)\n",
    "            auc = sk.roc_auc_score(truth, ROC_data)\n",
    "            plt.plot(fpr, tpr, label=self.labels[j] + \": \" + str(round(auc, 3)))\n",
    "            \n",
    "            idx = np.argmin(np.abs(fpr - target_fpr))\n",
    "            tpr_at_target.append(tpr[idx])\n",
    "            thresholds_at_target.append(thresholds[idx])\n",
    "\n",
    "\n",
    "        plt.xlabel(\"fpr\")\n",
    "        plt.xlim(1e-7, 1)\n",
    "        plt.ylim(1e-7, 1)\n",
    "        plt.semilogx()\n",
    "        plt.ylabel(\"tpr\")\n",
    "        plt.semilogy()\n",
    "        plt.title(\"{}_ROC\".format(self.title))\n",
    "        plt.vlines(10**-5, 0, 1, colors=\"r\", linestyles=\"dashed\")\n",
    "        plt.legend(loc=\"lower right\")\n",
    "        if self.saveplots == True:\n",
    "            plt.savefig(\n",
    "                \"/eos/user/h/hjia/ToyVAE/software_dev/plots/small/{}_ROC.png\".format(\n",
    "                    self.title\n",
    "                ),\n",
    "                format=\"png\",\n",
    "                bbox_inches=\"tight\",\n",
    "            )\n",
    "        plt.show()\n",
    "        \n",
    "        print(f\"\\nTPR at FPR = {target_fpr} for each channel:\")\n",
    "        for label, tpr, threshold in zip(self.labels, tpr_at_target, thresholds_at_target):\n",
    "            print(f\"{label}: {tpr*100:.6f}%, Theshold = {threshold:.6f}\")\n",
    "\n",
    "    def GetPerformance(self):\n",
    "        target_fpr = 1e-5\n",
    "        tpr_at_target = []\n",
    "\n",
    "        print(f\"Number of signal losses: {len(self.signal_loss)}\")\n",
    "        print(f\"Number of labels: {len(self.labels)}\")\n",
    "        print(f\"Number of signal weights: {len(self.signal_weights)}\")\n",
    "        print(f\"Length of br_loss: {len(self.br_loss)}\")\n",
    "\n",
    "        plt.figure(figsize=(10, 6))\n",
    "        plt.plot(np.linspace(0, 1, 1000), np.linspace(0, 1, 1000), \"--\", label=\"diagonal\")\n",
    "\n",
    "        for j, batch in enumerate(self.signal_loss):\n",
    "            print(f\"Processing batch {j}\")\n",
    "            print(f\"Batch length: {len(batch)}\")\n",
    "            print(f\"Signal weight length: {len(self.signal_weights[j])}\")\n",
    "\n",
    "            sig_w = self.signal_weights[j]\n",
    "            br_w = self.br_weights\n",
    "            weights = np.concatenate((br_w, sig_w))\n",
    "            truth = np.concatenate([np.zeros(len(self.br_loss)), np.ones(len(batch))])\n",
    "            ROC_data = np.concatenate((self.br_loss, batch))\n",
    "\n",
    "            print(f\"ROC_data shape: {ROC_data.shape}\")\n",
    "            print(f\"truth shape: {truth.shape}\")\n",
    "            print(f\"weights shape: {weights.shape}\")\n",
    "\n",
    "            try:\n",
    "                fpr, tpr, _ = sk.roc_curve(truth, ROC_data, sample_weight=weights)\n",
    "                auc = sk.roc_auc_score(truth, ROC_data)\n",
    "\n",
    "                plt.plot(fpr, tpr, label=f\"{self.labels[j]}: {auc:.3f}\")\n",
    "\n",
    "                idx = np.argmin(np.abs(fpr - target_fpr))\n",
    "                tpr_at_target.append(tpr[idx])\n",
    "\n",
    "                print(f\"Successfully processed batch {j}\")\n",
    "            except Exception as e:\n",
    "                print(f\"Error processing batch {j}: {str(e)}\")\n",
    "\n",
    "        plt.xlabel(\"False Positive Rate\")\n",
    "        plt.ylabel(\"True Positive Rate\")\n",
    "        plt.xscale('log')\n",
    "        plt.yscale('log')\n",
    "        plt.title(f\"{self.title} ROC\")\n",
    "        plt.vlines(target_fpr, 0, 1, colors=\"r\", linestyles=\"dashed\")\n",
    "        plt.legend(loc=\"lower right\")\n",
    "        if self.saveplots:\n",
    "            plt.savefig(\n",
    "                f\"/eos/user/h/hjia/ToyVAE/software_dev/plots/small/{self.title}_ROC.png\",\n",
    "                format=\"png\",\n",
    "                bbox_inches=\"tight\",\n",
    "            )\n",
    "        plt.show()\n",
    "\n",
    "        print(f\"\\nTPR at FPR = {target_fpr} for each channel:\")\n",
    "        results = list(zip(self.labels, tpr_at_target))\n",
    "        for label, tpr in results:\n",
    "            print(f\"{label}: {tpr*100:.6f}%\")\n",
    "\n",
    "        print(f\"Number of results: {len(results)}\")\n",
    "        return results\n"
   ]
  },
  {
   "cell_type": "code",
   "execution_count": 33,
   "id": "3b9afb9b",
   "metadata": {},
   "outputs": [
    {
     "name": "stdout",
     "output_type": "stream",
     "text": [
      "WARNING:tensorflow:Detecting that an object or model or tf.train.Checkpoint is being deleted with unrestored values. See the following logs for the specific values in question. To silence these warnings, use `status.expect_partial()`. See https://www.tensorflow.org/api_docs/python/tf/train/Checkpoint#restorefor details about the status object returned by the restore function.\n"
     ]
    },
    {
     "name": "stderr",
     "output_type": "stream",
     "text": [
      "WARNING:tensorflow:Detecting that an object or model or tf.train.Checkpoint is being deleted with unrestored values. See the following logs for the specific values in question. To silence these warnings, use `status.expect_partial()`. See https://www.tensorflow.org/api_docs/python/tf/train/Checkpoint#restorefor details about the status object returned by the restore function.\n"
     ]
    },
    {
     "name": "stdout",
     "output_type": "stream",
     "text": [
      "WARNING:tensorflow:Value in checkpoint could not be found in the restored object: (root).optimizer._iterations\n"
     ]
    },
    {
     "name": "stderr",
     "output_type": "stream",
     "text": [
      "WARNING:tensorflow:Value in checkpoint could not be found in the restored object: (root).optimizer._iterations\n"
     ]
    },
    {
     "name": "stdout",
     "output_type": "stream",
     "text": [
      "WARNING:tensorflow:Value in checkpoint could not be found in the restored object: (root).optimizer._learning_rate\n"
     ]
    },
    {
     "name": "stderr",
     "output_type": "stream",
     "text": [
      "WARNING:tensorflow:Value in checkpoint could not be found in the restored object: (root).optimizer._learning_rate\n"
     ]
    },
    {
     "name": "stdout",
     "output_type": "stream",
     "text": [
      "WARNING:tensorflow:Value in checkpoint could not be found in the restored object: (root).optimizer._variables.1\n"
     ]
    },
    {
     "name": "stderr",
     "output_type": "stream",
     "text": [
      "WARNING:tensorflow:Value in checkpoint could not be found in the restored object: (root).optimizer._variables.1\n"
     ]
    },
    {
     "name": "stdout",
     "output_type": "stream",
     "text": [
      "WARNING:tensorflow:Value in checkpoint could not be found in the restored object: (root).optimizer._variables.2\n"
     ]
    },
    {
     "name": "stderr",
     "output_type": "stream",
     "text": [
      "WARNING:tensorflow:Value in checkpoint could not be found in the restored object: (root).optimizer._variables.2\n"
     ]
    },
    {
     "name": "stdout",
     "output_type": "stream",
     "text": [
      "WARNING:tensorflow:Value in checkpoint could not be found in the restored object: (root).optimizer._variables.3\n"
     ]
    },
    {
     "name": "stderr",
     "output_type": "stream",
     "text": [
      "WARNING:tensorflow:Value in checkpoint could not be found in the restored object: (root).optimizer._variables.3\n"
     ]
    },
    {
     "name": "stdout",
     "output_type": "stream",
     "text": [
      "WARNING:tensorflow:Value in checkpoint could not be found in the restored object: (root).optimizer._variables.4\n"
     ]
    },
    {
     "name": "stderr",
     "output_type": "stream",
     "text": [
      "WARNING:tensorflow:Value in checkpoint could not be found in the restored object: (root).optimizer._variables.4\n"
     ]
    },
    {
     "name": "stdout",
     "output_type": "stream",
     "text": [
      "WARNING:tensorflow:Value in checkpoint could not be found in the restored object: (root).optimizer._variables.5\n"
     ]
    },
    {
     "name": "stderr",
     "output_type": "stream",
     "text": [
      "WARNING:tensorflow:Value in checkpoint could not be found in the restored object: (root).optimizer._variables.5\n"
     ]
    },
    {
     "name": "stdout",
     "output_type": "stream",
     "text": [
      "WARNING:tensorflow:Value in checkpoint could not be found in the restored object: (root).optimizer._variables.6\n"
     ]
    },
    {
     "name": "stderr",
     "output_type": "stream",
     "text": [
      "WARNING:tensorflow:Value in checkpoint could not be found in the restored object: (root).optimizer._variables.6\n"
     ]
    },
    {
     "name": "stdout",
     "output_type": "stream",
     "text": [
      "WARNING:tensorflow:Value in checkpoint could not be found in the restored object: (root).optimizer._variables.7\n"
     ]
    },
    {
     "name": "stderr",
     "output_type": "stream",
     "text": [
      "WARNING:tensorflow:Value in checkpoint could not be found in the restored object: (root).optimizer._variables.7\n"
     ]
    },
    {
     "name": "stdout",
     "output_type": "stream",
     "text": [
      "WARNING:tensorflow:Value in checkpoint could not be found in the restored object: (root).optimizer._variables.8\n"
     ]
    },
    {
     "name": "stderr",
     "output_type": "stream",
     "text": [
      "WARNING:tensorflow:Value in checkpoint could not be found in the restored object: (root).optimizer._variables.8\n"
     ]
    },
    {
     "name": "stdout",
     "output_type": "stream",
     "text": [
      "WARNING:tensorflow:Value in checkpoint could not be found in the restored object: (root).optimizer._variables.9\n"
     ]
    },
    {
     "name": "stderr",
     "output_type": "stream",
     "text": [
      "WARNING:tensorflow:Value in checkpoint could not be found in the restored object: (root).optimizer._variables.9\n"
     ]
    },
    {
     "name": "stdout",
     "output_type": "stream",
     "text": [
      "WARNING:tensorflow:Value in checkpoint could not be found in the restored object: (root).optimizer._variables.10\n"
     ]
    },
    {
     "name": "stderr",
     "output_type": "stream",
     "text": [
      "WARNING:tensorflow:Value in checkpoint could not be found in the restored object: (root).optimizer._variables.10\n"
     ]
    },
    {
     "name": "stdout",
     "output_type": "stream",
     "text": [
      "WARNING:tensorflow:Value in checkpoint could not be found in the restored object: (root).optimizer._variables.11\n"
     ]
    },
    {
     "name": "stderr",
     "output_type": "stream",
     "text": [
      "WARNING:tensorflow:Value in checkpoint could not be found in the restored object: (root).optimizer._variables.11\n"
     ]
    },
    {
     "name": "stdout",
     "output_type": "stream",
     "text": [
      "WARNING:tensorflow:Value in checkpoint could not be found in the restored object: (root).optimizer._variables.12\n"
     ]
    },
    {
     "name": "stderr",
     "output_type": "stream",
     "text": [
      "WARNING:tensorflow:Value in checkpoint could not be found in the restored object: (root).optimizer._variables.12\n"
     ]
    },
    {
     "name": "stdout",
     "output_type": "stream",
     "text": [
      "WARNING:tensorflow:Value in checkpoint could not be found in the restored object: (root).optimizer._variables.13\n"
     ]
    },
    {
     "name": "stderr",
     "output_type": "stream",
     "text": [
      "WARNING:tensorflow:Value in checkpoint could not be found in the restored object: (root).optimizer._variables.13\n"
     ]
    },
    {
     "name": "stdout",
     "output_type": "stream",
     "text": [
      "WARNING:tensorflow:Value in checkpoint could not be found in the restored object: (root).optimizer._variables.14\n"
     ]
    },
    {
     "name": "stderr",
     "output_type": "stream",
     "text": [
      "WARNING:tensorflow:Value in checkpoint could not be found in the restored object: (root).optimizer._variables.14\n"
     ]
    },
    {
     "name": "stdout",
     "output_type": "stream",
     "text": [
      "WARNING:tensorflow:Value in checkpoint could not be found in the restored object: (root).optimizer._variables.15\n"
     ]
    },
    {
     "name": "stderr",
     "output_type": "stream",
     "text": [
      "WARNING:tensorflow:Value in checkpoint could not be found in the restored object: (root).optimizer._variables.15\n"
     ]
    },
    {
     "name": "stdout",
     "output_type": "stream",
     "text": [
      "WARNING:tensorflow:Value in checkpoint could not be found in the restored object: (root).optimizer._variables.16\n"
     ]
    },
    {
     "name": "stderr",
     "output_type": "stream",
     "text": [
      "WARNING:tensorflow:Value in checkpoint could not be found in the restored object: (root).optimizer._variables.16\n"
     ]
    },
    {
     "name": "stdout",
     "output_type": "stream",
     "text": [
      "WARNING:tensorflow:Value in checkpoint could not be found in the restored object: (root).optimizer._variables.17\n"
     ]
    },
    {
     "name": "stderr",
     "output_type": "stream",
     "text": [
      "WARNING:tensorflow:Value in checkpoint could not be found in the restored object: (root).optimizer._variables.17\n"
     ]
    },
    {
     "name": "stdout",
     "output_type": "stream",
     "text": [
      "WARNING:tensorflow:Value in checkpoint could not be found in the restored object: (root).optimizer._variables.18\n"
     ]
    },
    {
     "name": "stderr",
     "output_type": "stream",
     "text": [
      "WARNING:tensorflow:Value in checkpoint could not be found in the restored object: (root).optimizer._variables.18\n"
     ]
    },
    {
     "name": "stdout",
     "output_type": "stream",
     "text": [
      "WARNING:tensorflow:Value in checkpoint could not be found in the restored object: (root).optimizer._variables.19\n"
     ]
    },
    {
     "name": "stderr",
     "output_type": "stream",
     "text": [
      "WARNING:tensorflow:Value in checkpoint could not be found in the restored object: (root).optimizer._variables.19\n"
     ]
    },
    {
     "name": "stdout",
     "output_type": "stream",
     "text": [
      "WARNING:tensorflow:Value in checkpoint could not be found in the restored object: (root).optimizer._variables.20\n"
     ]
    },
    {
     "name": "stderr",
     "output_type": "stream",
     "text": [
      "WARNING:tensorflow:Value in checkpoint could not be found in the restored object: (root).optimizer._variables.20\n"
     ]
    },
    {
     "name": "stdout",
     "output_type": "stream",
     "text": [
      "WARNING:tensorflow:Value in checkpoint could not be found in the restored object: (root).optimizer._variables.21\n"
     ]
    },
    {
     "name": "stderr",
     "output_type": "stream",
     "text": [
      "WARNING:tensorflow:Value in checkpoint could not be found in the restored object: (root).optimizer._variables.21\n"
     ]
    },
    {
     "name": "stdout",
     "output_type": "stream",
     "text": [
      "WARNING:tensorflow:Value in checkpoint could not be found in the restored object: (root).optimizer._variables.22\n"
     ]
    },
    {
     "name": "stderr",
     "output_type": "stream",
     "text": [
      "WARNING:tensorflow:Value in checkpoint could not be found in the restored object: (root).optimizer._variables.22\n"
     ]
    },
    {
     "name": "stdout",
     "output_type": "stream",
     "text": [
      "WARNING:tensorflow:Value in checkpoint could not be found in the restored object: (root).optimizer._variables.23\n"
     ]
    },
    {
     "name": "stderr",
     "output_type": "stream",
     "text": [
      "WARNING:tensorflow:Value in checkpoint could not be found in the restored object: (root).optimizer._variables.23\n"
     ]
    },
    {
     "name": "stdout",
     "output_type": "stream",
     "text": [
      "WARNING:tensorflow:Value in checkpoint could not be found in the restored object: (root).optimizer._variables.24\n"
     ]
    },
    {
     "name": "stderr",
     "output_type": "stream",
     "text": [
      "WARNING:tensorflow:Value in checkpoint could not be found in the restored object: (root).optimizer._variables.24\n"
     ]
    },
    {
     "name": "stdout",
     "output_type": "stream",
     "text": [
      "WARNING:tensorflow:Value in checkpoint could not be found in the restored object: (root).optimizer._variables.25\n"
     ]
    },
    {
     "name": "stderr",
     "output_type": "stream",
     "text": [
      "WARNING:tensorflow:Value in checkpoint could not be found in the restored object: (root).optimizer._variables.25\n"
     ]
    },
    {
     "name": "stdout",
     "output_type": "stream",
     "text": [
      "WARNING:tensorflow:Value in checkpoint could not be found in the restored object: (root).optimizer._variables.26\n"
     ]
    },
    {
     "name": "stderr",
     "output_type": "stream",
     "text": [
      "WARNING:tensorflow:Value in checkpoint could not be found in the restored object: (root).optimizer._variables.26\n"
     ]
    },
    {
     "name": "stdout",
     "output_type": "stream",
     "text": [
      "WARNING:tensorflow:Value in checkpoint could not be found in the restored object: (root).optimizer._variables.27\n"
     ]
    },
    {
     "name": "stderr",
     "output_type": "stream",
     "text": [
      "WARNING:tensorflow:Value in checkpoint could not be found in the restored object: (root).optimizer._variables.27\n"
     ]
    },
    {
     "name": "stdout",
     "output_type": "stream",
     "text": [
      "WARNING:tensorflow:Value in checkpoint could not be found in the restored object: (root).optimizer._variables.28\n"
     ]
    },
    {
     "name": "stderr",
     "output_type": "stream",
     "text": [
      "WARNING:tensorflow:Value in checkpoint could not be found in the restored object: (root).optimizer._variables.28\n"
     ]
    },
    {
     "name": "stdout",
     "output_type": "stream",
     "text": [
      "WARNING:tensorflow:Value in checkpoint could not be found in the restored object: (root).optimizer._variables.29\n"
     ]
    },
    {
     "name": "stderr",
     "output_type": "stream",
     "text": [
      "WARNING:tensorflow:Value in checkpoint could not be found in the restored object: (root).optimizer._variables.29\n"
     ]
    },
    {
     "name": "stdout",
     "output_type": "stream",
     "text": [
      "WARNING:tensorflow:Value in checkpoint could not be found in the restored object: (root).optimizer._variables.30\n"
     ]
    },
    {
     "name": "stderr",
     "output_type": "stream",
     "text": [
      "WARNING:tensorflow:Value in checkpoint could not be found in the restored object: (root).optimizer._variables.30\n"
     ]
    },
    {
     "name": "stdout",
     "output_type": "stream",
     "text": [
      "WARNING:tensorflow:Value in checkpoint could not be found in the restored object: (root).optimizer._variables.31\n"
     ]
    },
    {
     "name": "stderr",
     "output_type": "stream",
     "text": [
      "WARNING:tensorflow:Value in checkpoint could not be found in the restored object: (root).optimizer._variables.31\n"
     ]
    },
    {
     "name": "stdout",
     "output_type": "stream",
     "text": [
      "WARNING:tensorflow:Value in checkpoint could not be found in the restored object: (root).optimizer._variables.32\n"
     ]
    },
    {
     "name": "stderr",
     "output_type": "stream",
     "text": [
      "WARNING:tensorflow:Value in checkpoint could not be found in the restored object: (root).optimizer._variables.32\n"
     ]
    },
    {
     "name": "stdout",
     "output_type": "stream",
     "text": [
      "WARNING:tensorflow:Value in checkpoint could not be found in the restored object: (root).optimizer._variables.33\n"
     ]
    },
    {
     "name": "stderr",
     "output_type": "stream",
     "text": [
      "WARNING:tensorflow:Value in checkpoint could not be found in the restored object: (root).optimizer._variables.33\n"
     ]
    },
    {
     "name": "stdout",
     "output_type": "stream",
     "text": [
      "WARNING:tensorflow:Value in checkpoint could not be found in the restored object: (root).optimizer._variables.34\n"
     ]
    },
    {
     "name": "stderr",
     "output_type": "stream",
     "text": [
      "WARNING:tensorflow:Value in checkpoint could not be found in the restored object: (root).optimizer._variables.34\n"
     ]
    },
    {
     "name": "stdout",
     "output_type": "stream",
     "text": [
      "WARNING:tensorflow:Value in checkpoint could not be found in the restored object: (root).optimizer._variables.35\n"
     ]
    },
    {
     "name": "stderr",
     "output_type": "stream",
     "text": [
      "WARNING:tensorflow:Value in checkpoint could not be found in the restored object: (root).optimizer._variables.35\n"
     ]
    },
    {
     "name": "stdout",
     "output_type": "stream",
     "text": [
      "WARNING:tensorflow:Value in checkpoint could not be found in the restored object: (root).optimizer._variables.36\n"
     ]
    },
    {
     "name": "stderr",
     "output_type": "stream",
     "text": [
      "WARNING:tensorflow:Value in checkpoint could not be found in the restored object: (root).optimizer._variables.36\n"
     ]
    },
    {
     "name": "stdout",
     "output_type": "stream",
     "text": [
      "WARNING:tensorflow:Value in checkpoint could not be found in the restored object: (root).optimizer._variables.37\n"
     ]
    },
    {
     "name": "stderr",
     "output_type": "stream",
     "text": [
      "WARNING:tensorflow:Value in checkpoint could not be found in the restored object: (root).optimizer._variables.37\n"
     ]
    },
    {
     "name": "stdout",
     "output_type": "stream",
     "text": [
      "WARNING:tensorflow:Value in checkpoint could not be found in the restored object: (root).optimizer._variables.38\n"
     ]
    },
    {
     "name": "stderr",
     "output_type": "stream",
     "text": [
      "WARNING:tensorflow:Value in checkpoint could not be found in the restored object: (root).optimizer._variables.38\n"
     ]
    },
    {
     "name": "stdout",
     "output_type": "stream",
     "text": [
      "25000/25000 [==============================] - 33s 1ms/step\n",
      "1750/1750 [==============================] - 3s 2ms/step\n",
      "21603/21603 [==============================] - 31s 1ms/step\n",
      "23759/23759 [==============================] - 34s 1ms/step\n",
      "10642/10642 [==============================] - 14s 1ms/step\n"
     ]
    },
    {
     "data": {
      "image/png": "[encoded data removed]",
      "text/plain": [
       "<Figure size 432x288 with 1 Axes>"
      ]
     },
     "metadata": {
      "needs_background": "light"
     },
     "output_type": "display_data"
    },
    {
     "name": "stdout",
     "output_type": "stream",
     "text": [
      "\n",
      "TPR at FPR = 1e-05 for each channel:\n",
      "Ato4l: 7.595276%, Theshold = 6796.331543\n",
      "hToTauTau: 0.127300%, Theshold = 6791.232910\n",
      "hChToTauNu: 0.113512%, Theshold = 6791.232910\n",
      "leptoquark: 0.123038%, Theshold = 6791.232910\n"
     ]
    }
   ],
   "source": [
    "Losses=['CKL']\n",
    "for string in Losses:\n",
    "    evaluation=Model_Evaluator('/eos/user/h/hjia/ToyVAE/software_dev/software_model/checkpoint_256_128_24/',\n",
    "                               X_test,\n",
    "                               np.ones(len(X_test)),\n",
    "                               signal_data,\n",
    "                               [np.ones(len(Ato4l_data)),\n",
    "                                    np.ones(len(hToTauTau_data)),\n",
    "                                    np.ones(len(hChToTauNu_data)),\n",
    "                                    np.ones(len(leptoquark_data))],\n",
    "                               input_dim = X_test.shape[1],\n",
    "                               title='VAE Model',\n",
    "                               save = False,\n",
    "                               labels = signal_labels)\n",
    "    evaluation.calculate_loss(string)\n",
    "    evaluation.ROC()"
   ]
  },
  {
   "cell_type": "code",
   "execution_count": 18,
   "id": "1c1b5477",
   "metadata": {},
   "outputs": [],
   "source": [
    "# results = []\n",
    "# signal_names = [\"Ato4l\",\n",
    "#                 \"hToTauTau\",\n",
    "#                 \"hChToTauNu\",\n",
    "#                 \"leptoquark\"]\n",
    "# channel_results = {}\n",
    "# for i in range(20):\n",
    "#     try:\n",
    "#         model_path = f'//eos/user/h/hjia/ToyVAE/software_dev/software_model/checkpoint_small/Repeat_Testing/small_{i}/'\n",
    "#         print(f\"Evaluating model from path: {model_path}\")\n",
    "#         evaluation = Model_Evaluator(model_path,\n",
    "#                                X_test,\n",
    "#                                np.ones(len(X_test)),\n",
    "#                                signal_data,\n",
    "#                                [np.ones(len(Ato4l_data)),\n",
    "#                                     np.ones(len(hToTauTau_data)),\n",
    "#                                     np.ones(len(hChToTauNu_data)),\n",
    "#                                     np.ones(len(leptoquark_data))],\n",
    "#                                input_dim = X_test.shape[1],\n",
    "#                                title='VAE Model {i}',\n",
    "#                                save = False,\n",
    "#                                labels = signal_labels)\n",
    "        \n",
    "#         print(\"Model_Evaluator instance created successfully\")\n",
    "        \n",
    "#         print(\"Calculating losses...\")\n",
    "#         evaluation.calculate_loss('KL')\n",
    "#         print(\"Losses calculated\")\n",
    "        \n",
    "#         print(\"Getting performance...\")\n",
    "#         result = evaluation.GetPerformance()\n",
    "#         print(f\"GetPerformance() returned: {result}\")\n",
    "        \n",
    "#         if not result:\n",
    "#             print(f\"Warning: GetPerformance() returned an empty result for model {i}\")\n",
    "#         else:\n",
    "#             for channel, tpr in result:\n",
    "#                 if channel not in channel_results:\n",
    "#                     channel_results[channel] = []\n",
    "#                 channel_results[channel].append(tpr)\n",
    "    \n",
    "#     except Exception as e:\n",
    "#         print(f\"An error occurred while evaluating model {i}:\")\n",
    "#         print(traceback.format_exc())\n",
    "\n",
    "# print(\"Final channel results:\", channel_results)"
   ]
  },
  {
   "cell_type": "code",
   "execution_count": 19,
   "id": "a742a3ac",
   "metadata": {},
   "outputs": [],
   "source": [
    "# if channel_results:\n",
    "#     plt.figure(figsize=(12, 6))\n",
    "#     channels = list(channel_results.keys())\n",
    "#     n_channels = len(channels)\n",
    "#     n_models = len(channel_results[channels[0]])\n",
    "    \n",
    "#     x = np.arange(n_models)\n",
    "#     width = 0.8 / n_channels\n",
    "    \n",
    "#     for i, channel in enumerate(channels):\n",
    "#         tprs = channel_results[channel]\n",
    "#         plt.bar(x + i * width, tprs, width, label=channel)\n",
    "    \n",
    "#     plt.xlabel('Models')\n",
    "#     plt.ylabel('True Positive Rate (TPR) at FPR = 1e-5')\n",
    "#     plt.title('TPR Comparison Across Models and Channels')\n",
    "#     plt.xticks(x + width * (n_channels - 1) / 2, [f'Model {i}' for i in range(n_models)])\n",
    "#     plt.legend()\n",
    "#     plt.tight_layout()\n",
    "#     plt.savefig('VAE_tpr_comparison_plot.png', dpi=600, bbox_inches='tight')\n",
    "#     plt.show()\n",
    "    \n",
    "#     # Print statistics\n",
    "#     print(\"\\nChannel Statistics:\")\n",
    "#     for channel in channels:\n",
    "#         tprs = channel_results[channel]\n",
    "#         mean = np.mean(tprs)\n",
    "#         std = np.std(tprs)\n",
    "#         print(f\"{channel}: Mean TPR = {mean*100:.4f}%, Std Dev = {std:.4f}\")\n",
    "# else:\n",
    "#     print(\"No results were obtained. Cannot create comparison plot.\")"
   ]
  },
  {
   "cell_type": "code",
   "execution_count": 20,
   "id": "fe94984b",
   "metadata": {},
   "outputs": [],
   "source": [
    "# if channel_results:\n",
    "#     plt.figure(figsize=(14, 8))  # Increased figure size to accommodate the legend\n",
    "#     channels = list(channel_results.keys())\n",
    "#     n_channels = len(channels)\n",
    "#     n_models = len(channel_results[channels[0]])\n",
    "    \n",
    "#     for i, channel in enumerate(channels):\n",
    "#         tprs = channel_results[channel]\n",
    "#         plt.scatter(range(n_models), tprs, label=channel, s=50)\n",
    "    \n",
    "#     plt.xlabel('Models')\n",
    "#     plt.ylabel('True Positive Rate (TPR) at FPR = 1e-5')\n",
    "#     plt.semilogy()\n",
    "#     plt.title('TPR Comparison Across Models and Channels')\n",
    "#     plt.xticks(range(n_models), [f'{i}' for i in range(n_models)])\n",
    "#     plt.grid(True, linestyle='--', alpha=0.7)\n",
    "    \n",
    "#     # Place legend outside the plot\n",
    "#     plt.legend(bbox_to_anchor=(1.05, 1), loc='upper left')\n",
    "    \n",
    "#     plt.tight_layout()\n",
    "#     plt.savefig('VAE_tpr_comparison_plot.png', dpi=600, bbox_inches='tight')\n",
    "#     plt.show()\n",
    "    \n",
    "#     # Print statistics\n",
    "#     print(\"\\nChannel Statistics:\")\n",
    "#     for channel in channels:\n",
    "#         tprs = channel_results[channel]\n",
    "#         mean = np.mean(tprs)\n",
    "#         std = np.std(tprs)\n",
    "#         print(f\"{channel}: Mean TPR = {mean:.4f}, Std Dev = {std:.4f}\")\n",
    "# else:\n",
    "#     print(\"No results were obtained. Cannot create comparison plot.\")"
   ]
  },
  {
   "cell_type": "code",
   "execution_count": 6,
   "id": "ee2a4aca",
   "metadata": {},
   "outputs": [
    {
     "name": "stderr",
     "output_type": "stream",
     "text": [
      "2024-10-06 19:55:26.328914: I tensorflow/compiler/xla/stream_executor/cuda/cuda_gpu_executor.cc:995] successful NUMA node read from SysFS had negative value (-1), but there must be at least one NUMA node, so returning NUMA node zero. See more at https://github.com/torvalds/linux/blob/v6.0/Documentation/ABI/testing/sysfs-bus-pci#L344-L355\n",
      "2024-10-06 19:55:26.329250: I tensorflow/compiler/xla/stream_executor/cuda/cuda_gpu_executor.cc:995] successful NUMA node read from SysFS had negative value (-1), but there must be at least one NUMA node, so returning NUMA node zero. See more at https://github.com/torvalds/linux/blob/v6.0/Documentation/ABI/testing/sysfs-bus-pci#L344-L355\n",
      "2024-10-06 19:55:26.329427: I tensorflow/compiler/xla/stream_executor/cuda/cuda_gpu_executor.cc:995] successful NUMA node read from SysFS had negative value (-1), but there must be at least one NUMA node, so returning NUMA node zero. See more at https://github.com/torvalds/linux/blob/v6.0/Documentation/ABI/testing/sysfs-bus-pci#L344-L355\n",
      "2024-10-06 19:55:26.420901: I tensorflow/compiler/xla/stream_executor/cuda/cuda_gpu_executor.cc:995] successful NUMA node read from SysFS had negative value (-1), but there must be at least one NUMA node, so returning NUMA node zero. See more at https://github.com/torvalds/linux/blob/v6.0/Documentation/ABI/testing/sysfs-bus-pci#L344-L355\n",
      "2024-10-06 19:55:26.421201: I tensorflow/compiler/xla/stream_executor/cuda/cuda_gpu_executor.cc:995] successful NUMA node read from SysFS had negative value (-1), but there must be at least one NUMA node, so returning NUMA node zero. See more at https://github.com/torvalds/linux/blob/v6.0/Documentation/ABI/testing/sysfs-bus-pci#L344-L355\n",
      "2024-10-06 19:55:26.421383: I tensorflow/compiler/xla/stream_executor/cuda/cuda_gpu_executor.cc:995] successful NUMA node read from SysFS had negative value (-1), but there must be at least one NUMA node, so returning NUMA node zero. See more at https://github.com/torvalds/linux/blob/v6.0/Documentation/ABI/testing/sysfs-bus-pci#L344-L355\n",
      "2024-10-06 19:55:26.421541: I tensorflow/core/common_runtime/gpu/gpu_device.cc:1639] Created device /job:localhost/replica:0/task:0/device:GPU:0 with 721 MB memory:  -> device: 0, name: Tesla T4, pci bus id: 0000:00:07.0, compute capability: 7.5\n"
     ]
    }
   ],
   "source": [
    "ori_vae_enc = Qmake_encoder_set_weights(57,256,128,24)\n",
    "ori_vae_dec = Qmake_decoder_set_weights(57,256,128,24)\n",
    "orginal_model = VAE_Model(ori_vae_enc, ori_vae_dec)\n",
    "# orginal_model.predict(Ato4l_data)\n",
    "orginal_model.load_weights(\"/eos/user/h/hjia/ToyVAE/software_dev/software_model/checkpoint_256_128_24/\")\n",
    "\n",
    "\n",
    "def make_simplified_encoder(input_dim, h_dim_1, h_dim_2, latent_dim):\n",
    "    inputs = keras.Input(shape=(input_dim,), name='inputs')\n",
    "#     x = BatchNormalization(name=\"BN0\")(inputs)\n",
    "    x = Dense(h_dim_1,\n",
    "             kernel_initializer=keras.initializers.HeNormal(seed=None),\n",
    "             bias_initializer=keras.initializers.Zeros(),\n",
    "             name = \"dense1\")(inputs)\n",
    "#     x = BatchNormalization(name=\"BN1\")(x)\n",
    "    x = ReLU(name=\"relu1\")(x)\n",
    "    x = Dense(h_dim_2,\n",
    "             kernel_initializer=keras.initializers.HeNormal(seed=None),\n",
    "             bias_initializer=keras.initializers.Zeros(),\n",
    "             name = \"dense2\")(x)    \n",
    "#     x = BatchNormalization(name=\"BN2\")(x)\n",
    "    x = ReLU(name=\"relu2\")(x)\n",
    "    z_mean=Dense(latent_dim, name='z_mean',\n",
    "                  kernel_initializer=keras.initializers.HeNormal(seed=None),\n",
    "                  bias_initializer=keras.initializers.Zeros())(x)\n",
    "    new_encoder = keras.Model(inputs,z_mean,name='encoder')\n",
    "    return new_encoder"
   ]
  },
  {
   "cell_type": "code",
   "execution_count": 7,
   "id": "ff3c5876",
   "metadata": {},
   "outputs": [
    {
     "name": "stdout",
     "output_type": "stream",
     "text": [
      "set weight for  <keras.src.layers.core.dense.Dense object at 0x7ffa273740d0>\n",
      "[array([[ 0.03551777,  0.11787861, -0.15443593, ..., -0.0421122 ,\n",
      "         0.1026277 , -0.04331352],\n",
      "       [ 0.24646719,  0.05585067, -0.28726545, ..., -0.2616517 ,\n",
      "         0.22686505, -0.09646986],\n",
      "       [-0.00784766, -0.03329869, -0.04931108, ..., -0.13968256,\n",
      "         0.07576569, -0.01336945],\n",
      "       ...,\n",
      "       [ 0.07847542,  0.2815326 , -0.45722887, ...,  0.2705548 ,\n",
      "        -0.48772892,  0.12785393],\n",
      "       [-0.24571654, -0.23861165, -0.1354942 , ...,  0.03642476,\n",
      "         0.26753384,  0.02057856],\n",
      "       [-0.05474078, -0.0331388 , -0.02131839, ...,  0.00539318,\n",
      "         0.1415999 ,  0.07363681]], dtype=float32), array([ 5.87405404e-03, -7.31673986e-02, -2.61944737e-02, -1.44996047e-01,\n",
      "        4.29173000e-02, -4.29717638e-02,  2.61689425e-01, -7.19663734e-03,\n",
      "        3.32157552e-01,  1.21034756e-02,  1.03036284e-01,  1.98237479e-01,\n",
      "        3.22983111e-03,  2.97023594e-01, -7.85216317e-03,  5.92750683e-02,\n",
      "        1.92511171e-01,  1.19050153e-01,  1.47099093e-01,  3.35652143e-01,\n",
      "        3.10701251e-01,  4.29500453e-02,  3.14284116e-01, -1.37145706e-02,\n",
      "        1.58310514e-02, -3.07908710e-02, -3.22871394e-02,  2.87393749e-01,\n",
      "        1.64648831e-01,  3.12784731e-01,  9.89014059e-02,  2.78375745e-01,\n",
      "       -9.87673849e-02,  7.20500574e-02,  1.62173644e-01,  6.91459477e-02,\n",
      "        1.46694452e-01, -1.39770776e-01,  1.56526655e-01,  5.08800298e-02,\n",
      "        1.98469236e-01,  5.96185774e-02,  5.00960983e-02,  2.96194524e-01,\n",
      "        1.40350491e-01, -1.60686687e-01, -3.09047638e-03,  3.29859346e-01,\n",
      "       -6.28946349e-03,  1.21410593e-01,  2.34431118e-01,  3.72504182e-02,\n",
      "        6.21246397e-02, -8.16475376e-02, -1.40391365e-01,  2.91479617e-01,\n",
      "       -8.01358745e-02,  3.91949005e-02,  7.54835308e-02,  2.29413465e-01,\n",
      "       -3.24831642e-02,  1.03884846e-01,  2.43476972e-01, -1.75338745e-01,\n",
      "       -1.09663401e-02, -5.42299524e-02,  2.41219461e-01,  2.14808702e-01,\n",
      "        3.56368572e-02,  3.25949080e-02,  3.45173553e-02,  3.32597010e-02,\n",
      "       -3.94913815e-02,  3.06232329e-02, -7.15599880e-02,  1.23320632e-01,\n",
      "       -1.27901152e-01,  9.36864465e-02,  5.55596232e-01,  4.71547581e-02,\n",
      "       -1.77603543e-01,  3.43982339e-01,  2.22803086e-01,  2.43034493e-02,\n",
      "        1.36472195e-01,  1.60330638e-01, -8.09979998e-03,  5.39692752e-02,\n",
      "        1.56402558e-01,  3.36049423e-02,  2.90807694e-01,  7.36222789e-02,\n",
      "        2.99698591e-01,  1.33614883e-01, -1.87652767e-01, -3.17373276e-02,\n",
      "        1.77107975e-02, -8.44652206e-03,  2.60752589e-01, -1.36180058e-01,\n",
      "        1.26206443e-01,  1.81322638e-02,  2.17734531e-01,  2.10356280e-01,\n",
      "       -1.93688780e-01, -1.17619500e-01, -3.16835977e-02,  2.75753379e-01,\n",
      "        5.07755987e-02,  5.20889945e-02, -5.08783571e-02,  7.60445371e-02,\n",
      "       -4.23475495e-03, -2.42148623e-01,  2.55284935e-01,  7.65501801e-03,\n",
      "       -3.24059613e-02,  1.39079630e-01,  2.22476840e-01,  5.14237955e-02,\n",
      "        1.10045508e-01, -8.58639926e-02,  5.73556572e-02,  6.60606176e-02,\n",
      "        5.18313609e-02,  2.54774183e-01,  2.52829581e-01,  1.28805265e-01,\n",
      "        9.90987346e-02, -3.25666070e-02,  4.23266560e-01,  9.03272331e-02,\n",
      "        2.68715709e-01,  3.44337553e-01,  5.52216113e-01,  1.16194896e-01,\n",
      "        4.33194712e-02,  3.79626244e-01, -1.24686949e-01,  2.50274837e-01,\n",
      "       -1.63314808e-02,  5.99749014e-02, -1.44306272e-01,  7.00306594e-02,\n",
      "       -2.36928403e-01,  2.30661005e-01,  3.71035933e-01, -8.54268521e-02,\n",
      "        4.93290201e-02,  5.28206944e-01,  8.72654021e-02,  2.83547658e-02,\n",
      "       -7.72416815e-02, -1.10290386e-01, -1.11426808e-01,  1.07851282e-01,\n",
      "        4.02659565e-01, -8.33051056e-02,  4.52059984e-01, -7.29669398e-03,\n",
      "        1.42755836e-01,  2.84004152e-01,  2.77620368e-03,  2.18874499e-01,\n",
      "        2.82848179e-01,  2.68986195e-01,  2.23705381e-01,  5.39581738e-02,\n",
      "        1.55259939e-02,  6.85035437e-03, -1.49752438e-01,  6.02807589e-02,\n",
      "        5.24857879e-01,  3.01846932e-03, -1.21705681e-01, -9.92224831e-03,\n",
      "        3.10203493e-01,  2.10272595e-01, -1.02307531e-04,  1.97315916e-01,\n",
      "       -2.89129823e-01, -1.26359031e-01, -8.05516914e-02, -1.16611548e-01,\n",
      "        1.18605860e-01,  9.30648297e-02,  1.50034770e-01, -7.70935491e-02,\n",
      "        4.79949601e-02,  1.62194759e-01,  2.90356696e-01,  5.16533911e-01,\n",
      "        2.93303788e-01,  4.48141210e-02,  2.00943928e-02, -1.03140406e-01,\n",
      "        4.88228321e-01, -4.22284985e-03, -2.08910909e-02,  2.64544547e-01,\n",
      "        7.42833465e-02, -1.27743483e-01,  2.50326335e-01, -4.60437387e-02,\n",
      "        1.40710687e-03,  3.31449687e-01, -2.25368544e-01, -7.06803203e-02,\n",
      "        3.10687959e-01,  7.76510462e-02, -7.36004189e-02, -7.87673518e-02,\n",
      "       -3.66077460e-02,  2.41745293e-01,  6.92721782e-03,  9.77550372e-02,\n",
      "        1.01784743e-01,  1.29030317e-01,  6.91141421e-03,  1.57741755e-01,\n",
      "        2.56122172e-01,  6.69303071e-03,  1.13735221e-01, -8.40786174e-02,\n",
      "        5.14292344e-03,  3.54108244e-01,  7.96411037e-02,  5.94847322e-01,\n",
      "        6.07900657e-02,  9.68841463e-02,  1.13592431e-01, -8.45261142e-02,\n",
      "       -6.03790116e-03, -2.50332594e-01,  3.39994967e-01, -3.59832421e-02,\n",
      "        1.63685843e-01, -1.00655682e-01, -1.29124567e-01,  6.26686215e-02,\n",
      "        3.38418514e-01,  3.79672423e-02,  1.61843523e-01,  1.01770766e-01,\n",
      "        2.33435720e-01,  3.58615428e-01,  2.96700835e-01,  1.42184094e-01,\n",
      "        6.06571138e-01,  8.06167200e-02,  3.83613467e-01,  2.03946367e-01,\n",
      "        9.76240169e-03, -2.05742661e-02, -3.84484883e-03, -3.61952744e-02],\n",
      "      dtype=float32)]\n",
      "set weight for  <keras.src.layers.activation.relu.ReLU object at 0x7ffa27374100>\n",
      "[]\n",
      "set weight for  <keras.src.layers.core.dense.Dense object at 0x7ffa240170a0>\n",
      "[array([[ 0.11992908, -0.12228967, -0.01751152, ..., -0.11657438,\n",
      "        -0.03706043,  0.17500168],\n",
      "       [ 0.14726593,  0.03352322, -0.00429284, ..., -0.01481194,\n",
      "         0.01512391, -0.04261576],\n",
      "       [ 0.05410876,  0.11748515, -0.00215759, ...,  0.05658922,\n",
      "         0.04030755,  0.06654347],\n",
      "       ...,\n",
      "       [ 0.01626358,  0.02815866,  0.00127178, ...,  0.09963758,\n",
      "         0.07166538, -0.05031757],\n",
      "       [-0.03053263, -0.0533994 ,  0.05803773, ...,  0.11721582,\n",
      "        -0.0979166 , -0.22005899],\n",
      "       [-0.0783299 ,  0.07524565,  0.07225047, ..., -0.03281422,\n",
      "         0.13515094, -0.01425681]], dtype=float32), array([ 0.34018964, -0.07040302,  0.15117292, -0.0100526 ,  0.3712768 ,\n",
      "        0.14115523,  0.31084815,  0.1279216 , -0.06079386, -0.03289882,\n",
      "       -0.0275429 ,  0.06628101,  0.07061201,  0.00621796,  0.01033708,\n",
      "       -0.23871967, -0.04088415, -0.0148866 ,  0.00935807, -0.01705698,\n",
      "        0.0618032 , -0.02696479, -0.01609902,  0.00337034, -0.0108446 ,\n",
      "        0.09717016,  0.25831935, -0.03747281, -0.0072245 ,  0.44214046,\n",
      "       -0.03885515,  0.33764207, -0.06408225,  0.38444808, -0.01498357,\n",
      "        0.08665543,  0.01471426, -0.17661491,  0.23630673, -0.22123083,\n",
      "       -0.15406315, -0.02063322,  0.08747091, -0.06665649, -0.02194161,\n",
      "       -0.0114379 , -0.01267253, -0.10307019,  0.10931715,  0.01922206,\n",
      "        0.00681919, -0.11531181, -0.09022292,  0.05519318,  0.1299734 ,\n",
      "        0.00049225,  0.14041956,  0.0863658 , -0.10661244,  0.06433441,\n",
      "        0.18962729,  0.14067686, -0.02558158,  0.16468899, -0.03009319,\n",
      "       -0.011561  , -0.01662149,  0.04126119, -0.07573207, -0.01178416,\n",
      "        0.05650037, -0.06381334,  0.03321768,  0.0760591 ,  0.09886691,\n",
      "        0.0152051 , -0.21954638, -0.03414067,  0.00700938, -0.05238474,\n",
      "       -0.03205638,  0.0790477 ,  0.29964817,  0.30845064,  0.02712502,\n",
      "        0.02419251,  0.11287518,  0.05601085,  0.11911549,  0.11751362,\n",
      "       -0.0391148 , -0.1477396 ,  0.13845767,  0.0052713 , -0.04536327,\n",
      "       -0.016403  ,  0.01829919, -0.03249319,  0.08923308,  0.22269788,\n",
      "       -0.02472936, -0.03235108,  0.07332665,  0.03173144,  0.20836501,\n",
      "        0.09007881, -0.1611225 ,  0.09011453,  0.06604433,  0.02746475,\n",
      "       -0.02253553,  0.05517416, -0.02772691,  0.08151749,  0.11526178,\n",
      "        0.48481086, -0.0046696 , -0.04394692,  0.17814437,  0.03674018,\n",
      "       -0.3107532 ,  0.1703864 , -0.02558094,  0.17886764,  0.119178  ,\n",
      "        0.02130323,  0.3271661 ,  0.16013584], dtype=float32)]\n",
      "set weight for  <keras.src.layers.activation.relu.ReLU object at 0x7ffa24017ee0>\n",
      "[]\n",
      "set weight for  <keras.src.layers.core.dense.Dense object at 0x7ffa24083c70>\n",
      "[array([[-0.06658318,  0.04926372,  0.15271093, ..., -0.03365254,\n",
      "         0.06195311,  0.08929334],\n",
      "       [-0.08201905,  0.05274364,  0.02605924, ..., -0.08463701,\n",
      "        -0.06009089,  0.02218801],\n",
      "       [-0.01704429,  0.01535332, -0.069019  , ..., -0.06444301,\n",
      "        -0.15681732, -0.14639379],\n",
      "       ...,\n",
      "       [ 0.0334531 ,  0.00634353, -0.02451975, ...,  0.0549717 ,\n",
      "        -0.05250743,  0.07221483],\n",
      "       [ 0.02629062,  0.12607765, -0.06273571, ..., -0.00197102,\n",
      "         0.15775076, -0.10971961],\n",
      "       [ 0.07945902,  0.07064056,  0.0849155 , ..., -0.12665218,\n",
      "        -0.00586841, -0.0048524 ]], dtype=float32), array([-0.1069624 ,  0.02809905,  0.05169249, -0.03322305, -0.05714123,\n",
      "        0.001021  , -0.070923  , -0.060238  , -0.03572847,  0.01467458,\n",
      "       -0.05118402, -0.02019488, -0.02377867, -0.05298482,  0.0628226 ,\n",
      "        0.04599915, -0.02154198,  0.03946337, -0.00977144, -0.01110517,\n",
      "       -0.08408153,  0.05050818, -0.11365055,  0.02501248], dtype=float32)]\n"
     ]
    }
   ],
   "source": [
    "new_encoder = make_simplified_encoder(57,256,128,24)\n",
    "# Transfer weights from the original encoder\n",
    "for layer in new_encoder.layers:\n",
    "    if layer.name == \"inputs\":\n",
    "        continue\n",
    "    original_layer = ori_vae_enc.get_layer(layer.name)\n",
    "    if original_layer is not None:\n",
    "        print(\"set weight for \", layer)\n",
    "        print(original_layer.get_weights())\n",
    "        layer.set_weights(original_layer.get_weights())"
   ]
  },
  {
   "cell_type": "code",
   "execution_count": 8,
   "id": "9b1b1c09",
   "metadata": {},
   "outputs": [
    {
     "name": "stdout",
     "output_type": "stream",
     "text": [
      "WARNING:tensorflow:Compiled the loaded model, but the compiled metrics have yet to be built. `model.compile_metrics` will be empty until you train or evaluate the model.\n",
      "INFO:tensorflow:Assets written to: VAE_40MHZ_model_256_128_24_onchip/assets\n"
     ]
    },
    {
     "name": "stderr",
     "output_type": "stream",
     "text": [
      "INFO:tensorflow:Assets written to: VAE_40MHZ_model_256_128_24_onchip/assets\n"
     ]
    }
   ],
   "source": [
    "tf.keras.models.save_model(new_encoder, 'VAE_40MHZ_model_256_128_24_onchip', save_format='tf')"
   ]
  },
  {
   "cell_type": "code",
   "execution_count": null,
   "id": "2dce9311",
   "metadata": {},
   "outputs": [],
   "source": []
  }
 ],
 "metadata": {
  "@webio": {
   "lastCommId": null,
   "lastKernelId": null
  },
  "kernelspec": {
   "display_name": "Python 3",
   "language": "python",
   "name": "python3"
  },
  "language_info": {
   "codemirror_mode": {
    "name": "ipython",
    "version": 3
   },
   "file_extension": ".py",
   "mimetype": "text/x-python",
   "name": "python",
   "nbconvert_exporter": "python",
   "pygments_lexer": "ipython3",
   "version": "3.9.12"
  }
 },
 "nbformat": 4,
 "nbformat_minor": 5
}
